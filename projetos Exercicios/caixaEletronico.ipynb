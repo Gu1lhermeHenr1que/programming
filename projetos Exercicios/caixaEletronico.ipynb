{
 "cells": [
  {
   "cell_type": "code",
   "execution_count": null,
   "id": "13bd7c93-4c9c-4511-8ecc-217c125ad9e1",
   "metadata": {},
   "outputs": [],
   "source": [
    "#exercicio caixa eletronico"
   ]
  },
  {
   "cell_type": "code",
   "execution_count": 2,
   "id": "8823cf65-d99e-47dc-b153-d404122e0ef3",
   "metadata": {},
   "outputs": [
    {
     "name": "stdout",
     "output_type": "stream",
     "text": [
      "olá, sem bem vindo o banco \"Meu cofrinho\", selecione a sua opção inicial para começar\n"
     ]
    },
    {
     "name": "stdin",
     "output_type": "stream",
     "text": [
      " Menu inicial: 1 - Verificar Saque,  2 - Depositar dinheiro, 3 - Sacar Dinheiro, 4 - Sair 1\n"
     ]
    },
    {
     "name": "stdout",
     "output_type": "stream",
     "text": [
      "1\n",
      "O seu saldo atual da sua conta é R$ 1000.0\n"
     ]
    },
    {
     "name": "stdin",
     "output_type": "stream",
     "text": [
      " Menu inicial: 1 - Verificar Saque,  2 - Depositar dinheiro, 3 - Sacar Dinheiro, 4 - Sair 2\n",
      "Informe o valor que deseja depositar na sua conta 1\n"
     ]
    },
    {
     "name": "stdout",
     "output_type": "stream",
     "text": [
      "Feito! o saldo da sua conta foi atualizada para R$ 1001.0, com o deposito de R$ 1.0\n"
     ]
    },
    {
     "name": "stdin",
     "output_type": "stream",
     "text": [
      " Menu inicial: 1 - Verificar Saque,  2 - Depositar dinheiro, 3 - Sacar Dinheiro, 4 - Sair 2\n",
      "Informe o valor que deseja depositar na sua conta 1000\n"
     ]
    },
    {
     "name": "stdout",
     "output_type": "stream",
     "text": [
      "Feito! o saldo da sua conta foi atualizada para R$ 2001.0, com o deposito de R$ 1000.0\n"
     ]
    },
    {
     "name": "stdin",
     "output_type": "stream",
     "text": [
      " Menu inicial: 1 - Verificar Saque,  2 - Depositar dinheiro, 3 - Sacar Dinheiro, 4 - Sair 3\n",
      "Informe o valor que deseja sacar da sua conta 2000\n"
     ]
    },
    {
     "name": "stdout",
     "output_type": "stream",
     "text": [
      "Feito! o saldo da sua conta foi atualizada para R$ 1.0, com o saque de R$ 2000.0\n"
     ]
    },
    {
     "name": "stdin",
     "output_type": "stream",
     "text": [
      " Menu inicial: 1 - Verificar Saque,  2 - Depositar dinheiro, 3 - Sacar Dinheiro, 4 - Sair 3\n",
      "Informe o valor que deseja sacar da sua conta 2\n"
     ]
    },
    {
     "name": "stdout",
     "output_type": "stream",
     "text": [
      "O valor do saque R$ 2.0, é maior que o saldo atual, R$ 1.0, tente novamente.\n"
     ]
    },
    {
     "name": "stdin",
     "output_type": "stream",
     "text": [
      " Menu inicial: 1 - Verificar Saque,  2 - Depositar dinheiro, 3 - Sacar Dinheiro, 4 - Sair 1\n"
     ]
    },
    {
     "name": "stdout",
     "output_type": "stream",
     "text": [
      "O seu saldo atual da sua conta é R$ 1.0\n"
     ]
    },
    {
     "name": "stdin",
     "output_type": "stream",
     "text": [
      " Menu inicial: 1 - Verificar Saque,  2 - Depositar dinheiro, 3 - Sacar Dinheiro, 4 - Sair 4\n"
     ]
    },
    {
     "name": "stdout",
     "output_type": "stream",
     "text": [
      "Encerrando o funcionamento do caixa eletronico\n"
     ]
    }
   ],
   "source": [
    "print('Olá, seja bem-vindo ao banco \"Meu Cofrinho\"! Selecione uma opção para começar.')\n",
    "opcao = int(input('Menu inicial:\\n'\n",
    "                  '1 - Consultar saldo\\n'\n",
    "                  '2 - Depositar dinheiro\\n'\n",
    "                  '3 - Sacar dinheiro\\n'\n",
    "                  '4 - Sair\\n'\n",
    "                  'Digite a opção desejada: '))\n",
    "print(f'Opção selecionada: {opcao}')\n",
    "saldo = 1000.00\n",
    "\n",
    "while opcao != 4:\n",
    "    if opcao == 1:\n",
    "        print(f'\\nSeu saldo atual é de R$ {saldo:.2f}')\n",
    "    elif opcao == 2:\n",
    "        deposito = float(input('\\nDigite o valor que deseja depositar: R$ '))\n",
    "        saldo = saldo + deposito\n",
    "        print(f'Depósito realizado com sucesso! Seu novo saldo é R$ {saldo:.2f} (Depósito de R$ {deposito:.2f})')\n",
    "    elif opcao == 3:\n",
    "        saque = float(input('\\nDigite o valor que deseja sacar: R$ '))\n",
    "        if saque > saldo:\n",
    "            print(f'Saque não autorizado. Valor solicitado (R$ {saque:.2f}) é superior ao saldo disponível (R$ {saldo:.2f}).')\n",
    "        else:\n",
    "            saldo = saldo - saque\n",
    "            print(f'Saque realizado com sucesso! Seu novo saldo é R$ {saldo:.2f} (Saque de R$ {saque:.2f}'))\n",
    "    else:\n",
    "        print('\\nOpção inválida. Por favor, selecione uma opção válida do menu.')\n",
    "    opcao = int(input('\\nMenu inicial:\\n'\n",
    "                      '1 - Consultar saldo\\n'\n",
    "                      '2 - Depositar dinheiro\\n'\n",
    "                      '3 - Sacar dinheiro\\n'\n",
    "                      '4 - Sair\\n'\n",
    "                      'Digite a opção desejada: '))\n",
    "print('Obrigado por utilizar o banco \"Meu Cofrinho\"! Encerrando o atendimento.')"
   ]
  },
  {
   "cell_type": "code",
   "execution_count": null,
   "id": "4e0240ca-9951-4d89-82d5-ea1e4e6c3702",
   "metadata": {},
   "outputs": [],
   "source": []
  }
 ],
 "metadata": {
  "kernelspec": {
   "display_name": "anaconda-2024.02-py310",
   "language": "python",
   "name": "conda-env-anaconda-2024.02-py310-py"
  },
  "language_info": {
   "codemirror_mode": {
    "name": "ipython",
    "version": 3
   },
   "file_extension": ".py",
   "mimetype": "text/x-python",
   "name": "python",
   "nbconvert_exporter": "python",
   "pygments_lexer": "ipython3",
   "version": "3.10.14"
  }
 },
 "nbformat": 4,
 "nbformat_minor": 5
}
