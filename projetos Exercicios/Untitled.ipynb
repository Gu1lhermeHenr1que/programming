{
 "cells": [
  {
   "cell_type": "code",
   "execution_count": null,
   "id": "13bd7c93-4c9c-4511-8ecc-217c125ad9e1",
   "metadata": {},
   "outputs": [],
   "source": [
    "#exercicio caixa eletronico"
   ]
  },
  {
   "cell_type": "code",
   "execution_count": 2,
   "id": "8823cf65-d99e-47dc-b153-d404122e0ef3",
   "metadata": {},
   "outputs": [
    {
     "name": "stdout",
     "output_type": "stream",
     "text": [
      "olá, sem bem vindo o banco \"Meu cofrinho\", selecione a sua opção inicial para começar\n"
     ]
    },
    {
     "name": "stdin",
     "output_type": "stream",
     "text": [
      " Menu inicial: 1 - Verificar Saque,  2 - Depositar dinheiro, 3 - Sacar Dinheiro, 4 - Sair 1\n"
     ]
    }
   ],
   "source": [
    "print('olá, sem bem vindo o banco \"Meu cofrinho\", selecione a sua opção inicial para começar')\n",
    "opcao = int(input(' Menu inicial: 1 - Verificar Saque,  2 - Depositar dinheiro, 3 - Sacar Dinheiro, 4 - Sair'))\n",
    "\n",
    "while opcao != 4:\n",
    "    if opcao == 1:\n",
    "        deposito \n",
    "        conta = conta + deposito"
   ]
  }
 ],
 "metadata": {
  "kernelspec": {
   "display_name": "anaconda-2024.02-py310",
   "language": "python",
   "name": "conda-env-anaconda-2024.02-py310-py"
  },
  "language_info": {
   "codemirror_mode": {
    "name": "ipython",
    "version": 3
   },
   "file_extension": ".py",
   "mimetype": "text/x-python",
   "name": "python",
   "nbconvert_exporter": "python",
   "pygments_lexer": "ipython3",
   "version": "3.10.14"
  }
 },
 "nbformat": 4,
 "nbformat_minor": 5
}
