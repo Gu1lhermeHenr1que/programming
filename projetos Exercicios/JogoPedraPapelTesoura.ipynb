{
 "cells": [
  {
   "cell_type": "code",
   "execution_count": 1,
   "id": "5918ea57-c562-4401-bfe8-3c58ad5b0ad1",
   "metadata": {},
   "outputs": [],
   "source": [
    "#Jogo Pedra, Papel ou Tesoura"
   ]
  },
  {
   "cell_type": "code",
   "execution_count": null,
   "id": "a4450a25-fd67-4e7a-b4b3-f7dc825453cf",
   "metadata": {},
   "outputs": [],
   "source": [
    "# 1 = Pedra / 2 = Papel / 3 = Tesoura\n",
    "print('Seja bem vindo, novamente ou não... Vamos jogar Pedra, papel ou tesoura, faça a sua escolha a baixo e tente a sorte:')\n",
    "escolha_user = input(' 1 para Pedra, 2 para Papel, 3 para Tesoura. Digite o respectivo numero')\n",
    "escolha_sist.randint(1,3))\n",
    "\n",
    "if escolha_user <> escolha_sist:\n",
    "    if escolha_user == 1 and escolha_sist == 2:\n",
    "        print(f' O usuario escolheu Pedra e o \n",
    "\n"
   ]
  }
 ],
 "metadata": {
  "kernelspec": {
   "display_name": "anaconda-2024.02-py310",
   "language": "python",
   "name": "conda-env-anaconda-2024.02-py310-py"
  },
  "language_info": {
   "codemirror_mode": {
    "name": "ipython",
    "version": 3
   },
   "file_extension": ".py",
   "mimetype": "text/x-python",
   "name": "python",
   "nbconvert_exporter": "python",
   "pygments_lexer": "ipython3",
   "version": "3.10.14"
  }
 },
 "nbformat": 4,
 "nbformat_minor": 5
}
