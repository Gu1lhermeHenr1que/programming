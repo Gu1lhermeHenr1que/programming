{
 "cells": [
  {
   "cell_type": "code",
   "execution_count": 11,
   "id": "91548acc-2949-4323-94ed-c55044050b04",
   "metadata": {},
   "outputs": [
    {
     "name": "stdout",
     "output_type": "stream",
     "text": [
      "93\n",
      "0.07069195452784827\n",
      "13\n",
      "maça\n",
      "[3, 5, 1, 4, 2]\n",
      "9.270833873807032\n"
     ]
    }
   ],
   "source": [
    "import random\n",
    "\n",
    "# Numeros randomicos - Numeros aleatórios - Biblioteca random\n",
    "\n",
    "print(random.randrange(1, 100))\n",
    "\n",
    "#Gerar um numero de ponto flutuante aleatório entre 0 e 1\n",
    "print(random.random()) \n",
    "\n",
    "#Gerar um numero inteiro aleatório entre dois valores \n",
    "print(random.randint(10,20))\n",
    "\n",
    "#Escolher aleatóriamente um elemtento de uma lista;\n",
    "frutas = ['maça', 'banana', 'uva']\n",
    "print(random.choice(frutas))\n",
    "\n",
    "#embaralhar aleatóriamente uma lista;\n",
    "numeros = [1,2,3,4,5]\n",
    "random.shuffle(numeros)\n",
    "print(numeros)\n",
    "\n",
    "#Gerar um numero de ponto flutuante aleatório entre um intervalo especifico\n",
    "print(random.uniform(5.5, 9.5))\n"
   ]
  }
 ],
 "metadata": {
  "kernelspec": {
   "display_name": "anaconda-2024.02-py310",
   "language": "python",
   "name": "conda-env-anaconda-2024.02-py310-py"
  },
  "language_info": {
   "codemirror_mode": {
    "name": "ipython",
    "version": 3
   },
   "file_extension": ".py",
   "mimetype": "text/x-python",
   "name": "python",
   "nbconvert_exporter": "python",
   "pygments_lexer": "ipython3",
   "version": "3.10.14"
  }
 },
 "nbformat": 4,
 "nbformat_minor": 5
}
