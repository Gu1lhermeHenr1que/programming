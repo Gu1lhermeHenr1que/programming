{
 "cells": [
  {
   "cell_type": "code",
   "execution_count": 6,
   "id": "6b1c5bad-abe9-4636-b7b1-ba5f44bde702",
   "metadata": {},
   "outputs": [
    {
     "name": "stdout",
     "output_type": "stream",
     "text": [
      "Texto1\n",
      "Texto2\n",
      "Texto3\n"
     ]
    }
   ],
   "source": [
    "var1, var2, var3 = \"Texto1\", \"Texto2\", \"Texto3\"\n",
    "\n",
    "print(var1)\n",
    "print(var2)\n",
    "print(var3)\n",
    "\n",
    "# var1, var2, var3 = \"Texto1\", \"Texto2\" (vai dar erro)"
   ]
  },
  {
   "cell_type": "code",
   "execution_count": 7,
   "id": "06f2c910-2065-407d-a5ef-760f78433d9b",
   "metadata": {},
   "outputs": [
    {
     "name": "stdout",
     "output_type": "stream",
     "text": [
      "Guilherme Guilherme Guilherme\n"
     ]
    }
   ],
   "source": [
    "# var1, var2, var3 = \"Guilherme\" # Vai dar erro\n",
    "var1 = var2 = var3 = \"Guilherme\" # correto\n",
    "\n",
    "print(var1, var2, var3)"
   ]
  },
  {
   "cell_type": "code",
   "execution_count": 10,
   "id": "5f35e369-649d-4f6c-8261-09b1d16091ff",
   "metadata": {},
   "outputs": [
    {
     "name": "stdout",
     "output_type": "stream",
     "text": [
      "Olá, eu me chamo Guilherme, e tenho 20 anos, e sou Brasileiro, e atualmente ainda estou moorando no Brasil\n"
     ]
    }
   ],
   "source": [
    "nome = \"Guilherme\"\n",
    "idade = 20\n",
    "pais = \"Brasil\"\n",
    "\n",
    "print(f'Olá, eu me chamo {nome}, e tenho {idade} anos, e sou Brasileiro, e atualmente ainda estou moorando no {pais}')\n"
   ]
  },
  {
   "cell_type": "code",
   "execution_count": 11,
   "id": "4ea9bf31-2130-4b14-8489-8b287919fb82",
   "metadata": {},
   "outputs": [
    {
     "name": "stdout",
     "output_type": "stream",
     "text": [
      "A1\n",
      "b2\n",
      "c3\n"
     ]
    }
   ],
   "source": [
    "exemplo = \"A1\", \"b2\", 'c3'\n",
    "var1, var2, var3 = exemplo\n",
    "\n",
    "print(var1)\n",
    "print(var2)\n",
    "print(var3)"
   ]
  },
  {
   "cell_type": "code",
   "execution_count": 12,
   "id": "a74eae39-f6c7-4fd2-abf4-a1050b8785f7",
   "metadata": {},
   "outputs": [
    {
     "name": "stdout",
     "output_type": "stream",
     "text": [
      "meu nome é guilherme henrique\n"
     ]
    }
   ],
   "source": [
    "nome = 'guilherme'\n",
    "sobrenome = 'henrique'\n",
    "\n",
    "print('meu nome é', nome + \" \" + sobrenome) #não funciiona com variaveis de numeros pois ai vai somar e dar erro"
   ]
  },
  {
   "cell_type": "code",
   "execution_count": 16,
   "id": "c112518b-7cc0-4dc1-aab0-1501c008cd95",
   "metadata": {},
   "outputs": [
    {
     "name": "stdout",
     "output_type": "stream",
     "text": [
      "25\n",
      "joão\n",
      "100.5\n",
      "125.5\n"
     ]
    }
   ],
   "source": [
    "#Exercicios\n",
    "\n",
    "idade = 25\n",
    "print(idade)\n",
    "\n",
    "nome=\"joão\"\n",
    "print(nome)\n",
    "\n",
    "saldo = 100.50\n",
    "print(saldo)\n",
    "\n",
    "soma = idade + saldo\n",
    "print(soma)"
   ]
  },
  {
   "cell_type": "code",
   "execution_count": 23,
   "id": "4e973bc9-eef7-40ae-9be7-a2b98e56d08f",
   "metadata": {},
   "outputs": [
    {
     "name": "stdout",
     "output_type": "stream",
     "text": [
      "a média é: 7.6\n"
     ]
    }
   ],
   "source": [
    "#Exercicio 2\n",
    "\n",
    "nota1 = 7.5\n",
    "nota2 = 8.3\n",
    "nota3 = 6.9\n",
    "\n",
    "media = (nota1 + nota2 + nota3) / 3\n",
    "\n",
    "print(\"a média é:\", round(media,1))"
   ]
  },
  {
   "cell_type": "code",
   "execution_count": null,
   "id": "a28a9894-36d9-449e-8cea-c0bd5cf64faf",
   "metadata": {},
   "outputs": [],
   "source": []
  }
 ],
 "metadata": {
  "kernelspec": {
   "display_name": "anaconda-2024.02-py310",
   "language": "python",
   "name": "conda-env-anaconda-2024.02-py310-py"
  },
  "language_info": {
   "codemirror_mode": {
    "name": "ipython",
    "version": 3
   },
   "file_extension": ".py",
   "mimetype": "text/x-python",
   "name": "python",
   "nbconvert_exporter": "python",
   "pygments_lexer": "ipython3",
   "version": "3.10.14"
  }
 },
 "nbformat": 4,
 "nbformat_minor": 5
}
