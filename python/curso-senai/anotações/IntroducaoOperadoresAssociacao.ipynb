{
 "cells": [
  {
   "cell_type": "code",
   "execution_count": 2,
   "id": "17b75e1c-d5c0-4ad7-ba3f-2468db426ede",
   "metadata": {},
   "outputs": [
    {
     "name": "stdout",
     "output_type": "stream",
     "text": [
      "True\n"
     ]
    }
   ],
   "source": [
    "### operadores de associação\n",
    "\n",
    "#operador in - Retorna True se o valor estiver\n",
    "# contido na lista\n",
    "\n",
    "frutas = ['maça', 'banana', 'jaca', 'melão', 'abacaxi']\n",
    "\n",
    "print('melão' in frutas)"
   ]
  },
  {
   "cell_type": "code",
   "execution_count": 3,
   "id": "9ff8e7e8-0fdc-40b3-8ca3-deeb8d366908",
   "metadata": {},
   "outputs": [
    {
     "name": "stdout",
     "output_type": "stream",
     "text": [
      "maça esta presente na lista\n"
     ]
    }
   ],
   "source": [
    "#Operadores de associação com if\n",
    "frutas = ['maça', 'banana', 'jaca', 'melao', 'abacaxi']\n",
    "\n",
    "if 'maça' in frutas:\n",
    "    print('maça esta presente na lista')\n",
    "else:\n",
    "    print('maça NÃO esta presente na lista')"
   ]
  },
  {
   "cell_type": "code",
   "execution_count": 4,
   "id": "0039c1e5-8a5e-4305-b67d-88cabfd8255f",
   "metadata": {},
   "outputs": [
    {
     "name": "stdout",
     "output_type": "stream",
     "text": [
      "A letra U esta contida na palavra Unip\n"
     ]
    }
   ],
   "source": [
    "#podemos utilizar os operadores de associação com strings\n",
    "# para verificar se um letra ou uma palavra esta contida\n",
    "# em um texto\n",
    "\n",
    "letra = 'U'\n",
    "if letra in 'Unip':\n",
    "    print(f'A letra {letra} esta contida na palavra Unip')\n",
    "else:\n",
    "    print(f'A Letra {letra} Não esta contida na palavra Unip')"
   ]
  },
  {
   "cell_type": "code",
   "execution_count": 5,
   "id": "12dd989f-840f-46a9-80a9-68e4d307be29",
   "metadata": {},
   "outputs": [
    {
     "name": "stdout",
     "output_type": "stream",
     "text": [
      "A palavra NÂO esta contida\n"
     ]
    }
   ],
   "source": [
    "palavra = 'Nacional'\n",
    "texto = 'Serviço nacional de aprendizagem industrial'\n",
    "\n",
    "if palavra in texto:\n",
    "    print('A palavra esta contida')\n",
    "else:\n",
    "    print('A palavra NÂO esta contida')\n",
    "    "
   ]
  },
  {
   "cell_type": "code",
   "execution_count": 7,
   "id": "084bf5ba-4566-49f6-8563-d4841d818ed9",
   "metadata": {},
   "outputs": [
    {
     "name": "stdin",
     "output_type": "stream",
     "text": [
      "digite uma letra: i\n"
     ]
    },
    {
     "name": "stdout",
     "output_type": "stream",
     "text": [
      "A letra i é uma vogal\n"
     ]
    }
   ],
   "source": [
    "#Operadores de associação podem ser usados para \n",
    "# substituir operaçoes logicas com OR\n",
    "\n",
    "letra = input ('digite uma letra:')\n",
    "\n",
    "if letra in ['a', 'e', 'i', 'o', 'u']:\n",
    "    print(f'A letra {letra} é uma vogal')\n",
    "else:\n",
    "    print(f'A letra {letra} é uma consoante')"
   ]
  },
  {
   "cell_type": "code",
   "execution_count": 8,
   "id": "03eff8f4-4bf2-4ffd-a7c1-85a367dc3187",
   "metadata": {},
   "outputs": [
    {
     "name": "stdout",
     "output_type": "stream",
     "text": [
      "True\n",
      "False\n"
     ]
    }
   ],
   "source": [
    "# not in - Retorna True se o valor NÂO estiver contido na lista\n",
    "\n",
    "nomes = ['Paula', 'Luiz', 'Alex', 'Maria']\n",
    "\n",
    "print('Paula' in nomes)\n",
    "print('Paula' not in nomes)"
   ]
  },
  {
   "cell_type": "code",
   "execution_count": 10,
   "id": "3ba3edc7-af90-482d-afe1-15368b4550c0",
   "metadata": {},
   "outputs": [
    {
     "name": "stdin",
     "output_type": "stream",
     "text": [
      "digite um nome Paula\n"
     ]
    },
    {
     "name": "stdout",
     "output_type": "stream",
     "text": [
      "Paula esta presente na lista\n"
     ]
    }
   ],
   "source": [
    "#Operador de associação not in com IF\n",
    "\n",
    "nomes = ['Paula', 'Luiz', 'Alex', 'Maria']\n",
    "nome = input('digite um nome')\n",
    "\n",
    "if nome not in nomes:\n",
    "    print(f'{nome} não esta presente na lista')\n",
    "else:\n",
    "    print(f'{nome} esta presente na lista')"
   ]
  },
  {
   "cell_type": "code",
   "execution_count": null,
   "id": "f0fe9ec0-cdcc-4f21-a184-aaf7525a2677",
   "metadata": {},
   "outputs": [],
   "source": []
  }
 ],
 "metadata": {
  "kernelspec": {
   "display_name": "anaconda-2024.02-py310",
   "language": "python",
   "name": "conda-env-anaconda-2024.02-py310-py"
  },
  "language_info": {
   "codemirror_mode": {
    "name": "ipython",
    "version": 3
   },
   "file_extension": ".py",
   "mimetype": "text/x-python",
   "name": "python",
   "nbconvert_exporter": "python",
   "pygments_lexer": "ipython3",
   "version": "3.10.14"
  }
 },
 "nbformat": 4,
 "nbformat_minor": 5
}
