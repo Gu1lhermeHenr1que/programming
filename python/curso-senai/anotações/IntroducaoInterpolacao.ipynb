{
 "cells": [
  {
   "cell_type": "code",
   "execution_count": 4,
   "id": "9a51a6df-0162-4087-a20f-e8803c060bde",
   "metadata": {},
   "outputs": [
    {
     "name": "stdout",
     "output_type": "stream",
     "text": [
      " O valor da variavel a é a e o valor da variavel b é b\n",
      "O valor da variavel a é 3 e o valor da variavel b é 5\n"
     ]
    }
   ],
   "source": [
    "#Interpolação\n",
    "\n",
    "a = 3\n",
    "b = 5\n",
    "\n",
    "print(\" O valor da variavel a é a e o valor da variavel b é b\")\n",
    "print(f\"O valor da variavel a é {a} e o valor da variavel b é {b}\")"
   ]
  },
  {
   "cell_type": "code",
   "execution_count": 12,
   "id": "d17fb879-c7fa-4a00-8d8f-64f7b3edf564",
   "metadata": {},
   "outputs": [
    {
     "ename": "SyntaxError",
     "evalue": "unterminated string literal (detected at line 7) (2268195324.py, line 7)",
     "output_type": "error",
     "traceback": [
      "\u001b[0;36m  Cell \u001b[0;32mIn[12], line 7\u001b[0;36m\u001b[0m\n\u001b[0;31m    print(f\"Meu nome é {nome}) #Certo\u001b[0m\n\u001b[0m          ^\u001b[0m\n\u001b[0;31mSyntaxError\u001b[0m\u001b[0;31m:\u001b[0m unterminated string literal (detected at line 7)\n"
     ]
    }
   ],
   "source": [
    "### Regras para interpolação\n",
    "#1. Iniciar o texto com a letra 'f'\n",
    "#2. Delimitar as variaveis entre chaves {}\n",
    "\n",
    "nome = 'Thiago'\n",
    "\n",
    "print(f\"Meu nome é {nome}) #Certo\n",
    "# print(\"Meu nome é {nome}\") #Errado\n",
    "# print(f\"Meu nome é nome\") # Errado"
   ]
  },
  {
   "cell_type": "code",
   "execution_count": 14,
   "id": "b1937fa5-0639-4122-8125-5902b9d0c032",
   "metadata": {},
   "outputs": [
    {
     "name": "stdout",
     "output_type": "stream",
     "text": [
      " a + b = 5\n",
      "5\n"
     ]
    }
   ],
   "source": [
    "#\n",
    "\n",
    "a = 2\n",
    "b = 3\n",
    "\n",
    "print(f' a + b = {a+b}')\n",
    "\n",
    "#Equivalente\n",
    "print(a+b)"
   ]
  },
  {
   "cell_type": "code",
   "execution_count": 16,
   "id": "c1245893-d4e5-4df1-ab64-60617645b5e1",
   "metadata": {},
   "outputs": [
    {
     "name": "stdout",
     "output_type": "stream",
     "text": [
      "2.99\n",
      "10.5\n",
      "1.9\n"
     ]
    }
   ],
   "source": [
    "#numeros de ponto flutuante (numeros decimais)\n",
    "\n",
    "print(2.99)\n",
    "print(10.50)\n",
    "print(1.90)\n"
   ]
  },
  {
   "cell_type": "code",
   "execution_count": 18,
   "id": "5230a799-a23c-4416-a669-884bee562090",
   "metadata": {},
   "outputs": [
    {
     "name": "stdout",
     "output_type": "stream",
     "text": [
      "3.3333333333333335\n"
     ]
    }
   ],
   "source": [
    "#Divisão com dizima\n",
    "\n",
    "print(10/3)\n"
   ]
  },
  {
   "cell_type": "code",
   "execution_count": 28,
   "id": "89f433be-b61e-4d08-b932-de25723940bb",
   "metadata": {},
   "outputs": [
    {
     "name": "stdout",
     "output_type": "stream",
     "text": [
      "1.23456\n",
      "1.2\n",
      "1.23\n",
      "1.235\n",
      "1.2346\n"
     ]
    }
   ],
   "source": [
    "# round() - Usada para arredondar valores\n",
    "\n",
    "valor = 1.23456\n",
    "\n",
    "print(valor)\n",
    "print(round(valor, 1))\n",
    "print(round(valor, 2))\n",
    "print(round(valor, 3)) #tem arredondamento\n",
    "print(round(valor, 4)) #tem arredondamento"
   ]
  },
  {
   "cell_type": "code",
   "execution_count": 32,
   "id": "9e8d50ed-7096-467e-9213-70a6d62e2195",
   "metadata": {},
   "outputs": [
    {
     "name": "stdout",
     "output_type": "stream",
     "text": [
      "1.23\n"
     ]
    }
   ],
   "source": [
    "#round\n",
    "\n",
    "print(round(1.234567, 2))"
   ]
  },
  {
   "cell_type": "code",
   "execution_count": 36,
   "id": "b1e8c924-f37c-440d-9e08-1aae2e036c99",
   "metadata": {},
   "outputs": [
    {
     "name": "stdout",
     "output_type": "stream",
     "text": [
      "o preço do produto é 1.54444\n",
      "o preço do produto é 1.54\n"
     ]
    }
   ],
   "source": [
    "#Interpolação com funções\n",
    "\n",
    "preco = 1.54444\n",
    "\n",
    "print(f'o preço do produto é {preco}')\n",
    "print(f'o preço do produto é {round(preco, 2)}')"
   ]
  },
  {
   "cell_type": "code",
   "execution_count": 3,
   "id": "63228b5e-f2cb-4027-a0db-3a9483ecbd71",
   "metadata": {},
   "outputs": [
    {
     "name": "stdout",
     "output_type": "stream",
     "text": [
      "o preço do produto é 1.54444\n",
      "o preço do produto é 1.5\n",
      "o preço do produto é 1.54\n",
      "o preço do produto é 1.544\n"
     ]
    }
   ],
   "source": [
    "# arredondar valores com f-string\n",
    "#:.nf\n",
    "#n - numero de casa deceimais / f-float\n",
    "\n",
    "\n",
    "preco=1.54444\n",
    "print(f'o preço do produto é {preco}')\n",
    "print(f'o preço do produto é {preco:.1f}')\n",
    "print(f'o preço do produto é {preco:.2f}')\n",
    "print(f'o preço do produto é {preco:.3f}')"
   ]
  },
  {
   "cell_type": "code",
   "execution_count": 8,
   "id": "44313a11-d496-430d-8e86-36a88ecedb77",
   "metadata": {},
   "outputs": [
    {
     "name": "stdout",
     "output_type": "stream",
     "text": [
      "eu estou estudando python\n",
      "eu estou estudando python na unip\n",
      "eu estou estudando python\n",
      "eu estou estudando python na unip\n"
     ]
    }
   ],
   "source": [
    "#interpolação com f-string\n",
    "\n",
    "curso = 'python'\n",
    "escola = 'unip'\n",
    "\n",
    "print(f'eu estou estudando {curso}')\n",
    "print(f'eu estou estudando {curso} na {escola}')\n",
    "\n",
    "print('eu estou estudando {}'.format(curso)) #modo antigo\n",
    "print('eu estou estudando {} na {}'.format(curso, escola)) #modo antigo"
   ]
  },
  {
   "cell_type": "code",
   "execution_count": 12,
   "id": "38322248-f53c-47c6-91cd-d6ceac5d8dfe",
   "metadata": {},
   "outputs": [
    {
     "name": "stdout",
     "output_type": "stream",
     "text": [
      "nome: guilherme curso: pyhton\n",
      "nome: guilherme \n",
      " curso: pyhton\n",
      " meu nome é: guilherme\n",
      "curso: pyhton\n",
      "faculdade: unip\n",
      "\n"
     ]
    }
   ],
   "source": [
    "# quebra de linha - \\n\n",
    "\n",
    "print('nome: guilherme curso: pyhton')\n",
    "print('nome: guilherme \\n curso: pyhton')\n",
    "\n",
    "print(\"\"\" meu nome é: guilherme\n",
    "curso: pyhton\n",
    "faculdade: unip\n",
    "\"\"\")"
   ]
  },
  {
   "cell_type": "code",
   "execution_count": 13,
   "id": "dd4fea6a-60f8-4218-a2f9-90369384248f",
   "metadata": {},
   "outputs": [
    {
     "name": "stdout",
     "output_type": "stream",
     "text": [
      " meu nome é: guilherme\n",
      "curso: pyhton\n",
      "faculdade: unip\n",
      "\n"
     ]
    }
   ],
   "source": [
    "# quebra de linha - 3 aspas simples ou duplas\n",
    "\n",
    "print(\"\"\" meu nome é: guilherme\n",
    "curso: pyhton\n",
    "faculdade: unip\n",
    "\"\"\")"
   ]
  },
  {
   "cell_type": "code",
   "execution_count": 14,
   "id": "a097e5f8-6971-424e-aac4-a020b8af170c",
   "metadata": {},
   "outputs": [
    {
     "name": "stdout",
     "output_type": "stream",
     "text": [
      " nome = guilherme\n",
      "idade = 20\n",
      "curso = python\n"
     ]
    }
   ],
   "source": [
    "# interpolação com quebra de linha\n",
    "\n",
    "nome='guilherme'\n",
    "idade=20\n",
    "curso='python'\n",
    "\n",
    "print(f''' nome = {nome}\n",
    "idade = {idade}\n",
    "curso = {curso}''')"
   ]
  },
  {
   "cell_type": "code",
   "execution_count": null,
   "id": "afab7646-9deb-4639-bae0-02b528f0983c",
   "metadata": {},
   "outputs": [],
   "source": []
  }
 ],
 "metadata": {
  "kernelspec": {
   "display_name": "anaconda-2024.02-py310",
   "language": "python",
   "name": "conda-env-anaconda-2024.02-py310-py"
  },
  "language_info": {
   "codemirror_mode": {
    "name": "ipython",
    "version": 3
   },
   "file_extension": ".py",
   "mimetype": "text/x-python",
   "name": "python",
   "nbconvert_exporter": "python",
   "pygments_lexer": "ipython3",
   "version": "3.10.14"
  }
 },
 "nbformat": 4,
 "nbformat_minor": 5
}
