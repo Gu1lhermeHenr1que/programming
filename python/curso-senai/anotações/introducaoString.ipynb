{
 "cells": [
  {
   "cell_type": "code",
   "execution_count": 2,
   "id": "c61e811d-e6f3-4b1b-931c-c71169cffc7d",
   "metadata": {},
   "outputs": [
    {
     "name": "stdout",
     "output_type": "stream",
     "text": [
      "python\n",
      "PYTHON\n"
     ]
    }
   ],
   "source": [
    "##Metodos de string\n",
    "\n",
    "print('python')\n",
    "print('python'.upper())"
   ]
  },
  {
   "cell_type": "code",
   "execution_count": 4,
   "id": "db27299d-84b1-4e1a-a082-6f3758ee26b5",
   "metadata": {},
   "outputs": [
    {
     "name": "stdout",
     "output_type": "stream",
     "text": [
      "UNIP\n",
      "SABADO\n"
     ]
    }
   ],
   "source": [
    "#upper() -converte em maiusculo\n",
    "\n",
    "print('unip'.upper())\n",
    "\n",
    "texto = 'sabado'\n",
    "print(texto.upper())"
   ]
  },
  {
   "cell_type": "code",
   "execution_count": 5,
   "id": "d0619f6e-da27-4096-bdce-dbffd5c930d4",
   "metadata": {},
   "outputs": [
    {
     "name": "stdout",
     "output_type": "stream",
     "text": [
      "unip\n",
      "python\n"
     ]
    }
   ],
   "source": [
    "#Lower () - Converte os caracteres para minusculo\n",
    "\n",
    "print('UNIP'.lower())\n",
    "\n",
    "texto = 'PYTHON'\n",
    "print(texto.lower())"
   ]
  },
  {
   "cell_type": "code",
   "execution_count": 6,
   "id": "4d61f24e-88f0-46d0-bbac-36abeb99743a",
   "metadata": {},
   "outputs": [
    {
     "name": "stdout",
     "output_type": "stream",
     "text": [
      "Guilherme\n",
      "Guilherme\n",
      "Guilherme Henrique\n"
     ]
    }
   ],
   "source": [
    "#title() - converte o primeiro caractere de cada palavra para maiusculo\n",
    "\n",
    "print('guilherme'.title())\n",
    "print('GUILHERME'.title())\n",
    "print('guilherme HENRIQUE'.title())"
   ]
  },
  {
   "cell_type": "code",
   "execution_count": 8,
   "id": "46399d7b-5ded-486c-ad66-7d2b5d464feb",
   "metadata": {},
   "outputs": [
    {
     "name": "stdout",
     "output_type": "stream",
     "text": [
      "Antes de replace\n",
      "Depois de replace\n"
     ]
    }
   ],
   "source": [
    "#REPLACE () - Substitui um texto por outro\n",
    "\n",
    "texto = 'Antes de replace'\n",
    "\n",
    "print(texto)\n",
    "print(texto.replace('Antes','Depois'))"
   ]
  },
  {
   "cell_type": "code",
   "execution_count": 10,
   "id": "0e3afd21-2558-4b2f-aaa3-2267a2d6472e",
   "metadata": {},
   "outputs": [
    {
     "name": "stdout",
     "output_type": "stream",
     "text": [
      "          Inicio   Meio  Fim      \n",
      "Inicio   Meio  Fim\n"
     ]
    }
   ],
   "source": [
    "#strip () - remove os espaço em branco\n",
    "\n",
    "texto = '          Inicio   Meio  Fim      '\n",
    "print(texto)\n",
    "print(texto.strip()) #Nãoremove osespaços do meio"
   ]
  },
  {
   "cell_type": "code",
   "execution_count": 12,
   "id": "8a3eac59-6201-4efb-b7fb-729b0ec85daa",
   "metadata": {},
   "outputs": [
    {
     "name": "stdout",
     "output_type": "stream",
     "text": [
      "2\n",
      "1\n",
      "0\n"
     ]
    }
   ],
   "source": [
    "#count() - aquantidade de vezes queuma palavra informada se repete\n",
    "\n",
    "texto = 'Hoje é sábado, dia 10'\n",
    "\n",
    "print(texto.count('a'))\n",
    "print(texto.count('dia'))\n",
    "print(texto.count('h'))"
   ]
  },
  {
   "cell_type": "code",
   "execution_count": 14,
   "id": "0259d5b6-b4b1-4c22-ba15-e56dc5181b45",
   "metadata": {},
   "outputs": [
    {
     "name": "stdout",
     "output_type": "stream",
     "text": [
      "005\n",
      "00001\n"
     ]
    }
   ],
   "source": [
    "#zfill() - preenche com zero a esquerda\n",
    "\n",
    "print('5'.zfill(3))\n",
    "print('1'.zfill(5))"
   ]
  },
  {
   "cell_type": "code",
   "execution_count": 24,
   "id": "c8948c1f-7c37-4ab3-8908-9cdfe697de26",
   "metadata": {},
   "outputs": [
    {
     "name": "stdout",
     "output_type": "stream",
     "text": [
      "True\n",
      "False\n",
      "False\n",
      "False\n"
     ]
    }
   ],
   "source": [
    "#startwith() - Retorna True se o texto iniciar com o valor informado\n",
    "\n",
    "texto1 = str('Sorocaba/SP')\n",
    "texto2 = str('Rio de Janeiro/RJ')\n",
    "\n",
    "print(texto1.startswith('Sorocaba'))\n",
    "print(texto1.startswith('SP'))\n",
    "print(texto1.startswith('Rio'))\n",
    "print(texto1.startswith('Rio Janeiro'))"
   ]
  },
  {
   "cell_type": "code",
   "execution_count": 25,
   "id": "8e19090b-cff1-4e3d-8293-f82c0b416d7e",
   "metadata": {},
   "outputs": [
    {
     "name": "stdout",
     "output_type": "stream",
     "text": [
      "True\n",
      "False\n",
      "False\n"
     ]
    }
   ],
   "source": [
    "#endwith() - retorna True se o texto terminar com o valor informado\n",
    "\n",
    "texto1 = 'Sorocaba/SP'\n",
    "\n",
    "print(texto1.endswith('SP'))\n",
    "print(texto1.endswith('Sorocaba'))\n",
    "print(texto1.endswith('RJ'))"
   ]
  },
  {
   "cell_type": "code",
   "execution_count": 26,
   "id": "786ef59b-bd3b-4e30-8b4c-46dc4c232ea3",
   "metadata": {},
   "outputs": [
    {
     "name": "stdin",
     "output_type": "stream",
     "text": [
      "Digite a sua Cidade/UF sorocaba\n"
     ]
    },
    {
     "name": "stdout",
     "output_type": "stream",
     "text": [
      "Voce não é sorocabano\n"
     ]
    }
   ],
   "source": [
    "#resp() - \n",
    "resp = input('Digite a sua Cidade/UF')\n",
    "resp = resp.lower()\n",
    "\n",
    "if resp.startswith('Sorocaba'):\n",
    "    print('Voce é sorocabano')\n",
    "else:\n",
    "    print('Voce não é sorocabano')"
   ]
  },
  {
   "cell_type": "code",
   "execution_count": 23,
   "id": "177b35bd-817a-40fe-87a0-d25ee20c956b",
   "metadata": {},
   "outputs": [
    {
     "name": "stdout",
     "output_type": "stream",
     "text": [
      "True\n"
     ]
    }
   ],
   "source": [
    "resp = 'SOROCABA'\n",
    "\n",
    "print(resp.lower().startswith('sorocaba'))"
   ]
  },
  {
   "cell_type": "code",
   "execution_count": 27,
   "id": "75d4360a-53af-4570-9e41-27d1bbc6fc0e",
   "metadata": {},
   "outputs": [
    {
     "name": "stdout",
     "output_type": "stream",
     "text": [
      "True\n",
      "False\n"
     ]
    }
   ],
   "source": [
    "#isalpha() -retorna True se todos os caracteres forem de A-Z\n",
    "\n",
    "print('Thiago'.isalpha())\n",
    "print('Thiag0'.isalpha())"
   ]
  },
  {
   "cell_type": "code",
   "execution_count": 30,
   "id": "bcbe4514-d702-4b63-a178-d3007e781c0d",
   "metadata": {},
   "outputs": [
    {
     "name": "stdout",
     "output_type": "stream",
     "text": [
      "True\n",
      "False\n",
      "False\n"
     ]
    }
   ],
   "source": [
    "#isdecimal() - Retorna True se todos os caracteres forem de 0-9\n",
    "\n",
    "print('1234'.isdecimal())\n",
    "print('thiago'.isdecimal())\n",
    "print('thiag0'.isdecimal())"
   ]
  },
  {
   "cell_type": "code",
   "execution_count": 31,
   "id": "2d28a269-3c6d-47e8-a03c-a7417112b807",
   "metadata": {},
   "outputs": [
    {
     "name": "stdin",
     "output_type": "stream",
     "text": [
      "Digite seu nome: guilherme\n"
     ]
    },
    {
     "name": "stdout",
     "output_type": "stream",
     "text": [
      "Seja bem vindo guilherme\n"
     ]
    }
   ],
   "source": [
    "#Validação de nome\n",
    "\n",
    "nome = input('Digite seu nome:')\n",
    "\n",
    "if nome.isalpha():\n",
    "    print(f'Seja bem vindo {nome}')\n",
    "else:\n",
    "    print('Nome invalido')"
   ]
  },
  {
   "cell_type": "code",
   "execution_count": 33,
   "id": "ab8c7b15-4b19-468a-be2b-9ecc10b51c11",
   "metadata": {},
   "outputs": [
    {
     "name": "stdout",
     "output_type": "stream",
     "text": [
      "True\n",
      "True\n",
      "True\n",
      "False\n"
     ]
    }
   ],
   "source": [
    "# isalnum() - Retorna True se todos os caracteres forem a-z ou 0-9\n",
    "\n",
    "print('Thiago'.isalnum())\n",
    "print('1234'.isalnum())\n",
    "print('Thiago123'.isalnum())\n",
    "print('Thiago**'.isalnum())\n"
   ]
  },
  {
   "cell_type": "code",
   "execution_count": null,
   "id": "3e0e7ab9-fce4-42e2-b309-516b7b813b35",
   "metadata": {},
   "outputs": [],
   "source": [
    "# função(valor) x valor.metodo()\n",
    "\n",
    "print('Python')\n",
    "'Python'.upper()"
   ]
  },
  {
   "cell_type": "code",
   "execution_count": 34,
   "id": "56f454a0-ca04-4ba6-951a-70463561dc20",
   "metadata": {},
   "outputs": [
    {
     "name": "stdout",
     "output_type": "stream",
     "text": [
      "4\n",
      "3\n"
     ]
    }
   ],
   "source": [
    "#len - retona a quatidade de caracteres\n",
    "\n",
    "print(len('Ana '))\n",
    "print(len('Ana'))\n"
   ]
  },
  {
   "cell_type": "code",
   "execution_count": 36,
   "id": "dabc1041-f0e8-4fdc-86ff-4b16be4c42d4",
   "metadata": {},
   "outputs": [
    {
     "name": "stdout",
     "output_type": "stream",
     "text": [
      "UNIP\n"
     ]
    }
   ],
   "source": [
    "#Operador + - Concatena strings\n",
    "\n",
    "print('U'+ 'N' + 'I' + 'P')\n",
    "# Errado print('U'+ 'N' + 'I' + 'P' + 0) #Errado"
   ]
  },
  {
   "cell_type": "code",
   "execution_count": 38,
   "id": "ab27dd0a-e2b7-4b15-bb23-5ad07d59fccd",
   "metadata": {},
   "outputs": [
    {
     "name": "stdout",
     "output_type": "stream",
     "text": [
      "Unip Unip Unip \n"
     ]
    }
   ],
   "source": [
    "#Operador * - Repete o texto pela quantidade de vezes informada\n",
    "\n",
    "print('Unip ' *3)"
   ]
  },
  {
   "cell_type": "code",
   "execution_count": null,
   "id": "b7d588eb-165e-4b93-9608-418e5acc4135",
   "metadata": {},
   "outputs": [],
   "source": []
  }
 ],
 "metadata": {
  "kernelspec": {
   "display_name": "anaconda-2024.02-py310",
   "language": "python",
   "name": "conda-env-anaconda-2024.02-py310-py"
  },
  "language_info": {
   "codemirror_mode": {
    "name": "ipython",
    "version": 3
   },
   "file_extension": ".py",
   "mimetype": "text/x-python",
   "name": "python",
   "nbconvert_exporter": "python",
   "pygments_lexer": "ipython3",
   "version": "3.10.14"
  }
 },
 "nbformat": 4,
 "nbformat_minor": 5
}
