{
 "cells": [
  {
   "cell_type": "code",
   "execution_count": 1,
   "id": "9abae75a-78c9-44f6-a8c0-67b636fd91bb",
   "metadata": {},
   "outputs": [],
   "source": [
    "#Estrutura condicional if\n"
   ]
  },
  {
   "cell_type": "code",
   "execution_count": 6,
   "id": "372275fd-e4d9-4064-8cdc-ef1db0d73f4b",
   "metadata": {},
   "outputs": [
    {
     "name": "stdout",
     "output_type": "stream",
     "text": [
      "voce é menor de idade\n"
     ]
    }
   ],
   "source": [
    "idade = 1\n",
    "if idade >= 18:\n",
    "    print('voce é maior de idade')\n",
    "else:\n",
    "    print('voce é menor de idade')"
   ]
  },
  {
   "cell_type": "code",
   "execution_count": 2,
   "id": "4dd4fb90-b969-4db6-a459-2a30f6573c67",
   "metadata": {},
   "outputs": [
    {
     "name": "stdin",
     "output_type": "stream",
     "text": [
      "Qual é o saldo da sua conta para a compra? 90\n"
     ]
    },
    {
     "name": "stdout",
     "output_type": "stream",
     "text": [
      "A sua compra não foi aprovada\n"
     ]
    }
   ],
   "source": [
    "#Exercicio\n",
    "saldo = float(input('Qual é o saldo da sua conta para a compra?'))\n",
    "\n",
    "if saldo >= 100 :\n",
    "    print('A sua compra esta aprovada')\n",
    "else:\n",
    "    print('A sua compra não foi aprovada')"
   ]
  },
  {
   "cell_type": "code",
   "execution_count": 6,
   "id": "ffe23164-04a7-4063-b4b5-c5a057ceeba3",
   "metadata": {},
   "outputs": [
    {
     "name": "stdin",
     "output_type": "stream",
     "text": [
      "Informe qual curso voce esta fazendo: Python\n"
     ]
    },
    {
     "name": "stdout",
     "output_type": "stream",
     "text": [
      "Excelente Escolha\n"
     ]
    }
   ],
   "source": [
    "#Exercicio\n",
    "curso = input('Informe qual curso voce esta fazendo:')\n",
    "\n",
    "if curso == 'Python' :\n",
    "    print('Excelente Escolha')\n",
    "else:\n",
    "    print('Bom Escolha')"
   ]
  },
  {
   "cell_type": "code",
   "execution_count": 7,
   "id": "3b2f1a46-d0e2-445e-ad2b-ac7e7ba14cd7",
   "metadata": {},
   "outputs": [
    {
     "name": "stdout",
     "output_type": "stream",
     "text": [
      "n1 é menor que n2\n"
     ]
    }
   ],
   "source": [
    "#elif\n",
    "# para mais condiçoes\n",
    "\n",
    "n1 = 5\n",
    "n2 = 8\n",
    "\n",
    "if n1 > n2:\n",
    "    print ('n1 é maior que n2')\n",
    "elif n1 == n2:\n",
    "    print('n1 é igual a n2')\n",
    "elif n1<n2:\n",
    "    print('n1 é menor que n2')"
   ]
  },
  {
   "cell_type": "code",
   "execution_count": 11,
   "id": "a50ad8af-355f-4e90-a373-5f476de62dec",
   "metadata": {},
   "outputs": [
    {
     "name": "stdin",
     "output_type": "stream",
     "text": [
      "Informe a sua nota para saber o resultado: 3\n"
     ]
    },
    {
     "name": "stdout",
     "output_type": "stream",
     "text": [
      "Ruim\n"
     ]
    }
   ],
   "source": [
    "nota = float(input('Informe a sua nota para saber o resultado:'))\n",
    "             \n",
    "if nota >= 6 :\n",
    "    print('Bom')\n",
    "if nota == 5:\n",
    "    print('Regular')\n",
    "if nota <= 4:\n",
    "    print('Ruim')"
   ]
  },
  {
   "cell_type": "code",
   "execution_count": null,
   "id": "898036fd-af9e-4f18-b866-0f98ab86c667",
   "metadata": {},
   "outputs": [],
   "source": []
  }
 ],
 "metadata": {
  "kernelspec": {
   "display_name": "anaconda-2024.02-py310",
   "language": "python",
   "name": "conda-env-anaconda-2024.02-py310-py"
  },
  "language_info": {
   "codemirror_mode": {
    "name": "ipython",
    "version": 3
   },
   "file_extension": ".py",
   "mimetype": "text/x-python",
   "name": "python",
   "nbconvert_exporter": "python",
   "pygments_lexer": "ipython3",
   "version": "3.10.14"
  }
 },
 "nbformat": 4,
 "nbformat_minor": 5
}
