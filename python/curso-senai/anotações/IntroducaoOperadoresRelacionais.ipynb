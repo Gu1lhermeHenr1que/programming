{
 "cells": [
  {
   "cell_type": "code",
   "execution_count": 2,
   "id": "06222048-ca50-4457-8b91-9bdc222668c4",
   "metadata": {},
   "outputs": [
    {
     "name": "stdout",
     "output_type": "stream",
     "text": [
      "True\n",
      "False\n",
      "False\n"
     ]
    }
   ],
   "source": [
    "#Operadores relacionais\n",
    "# Maior >\n",
    "\n",
    "print (8>5)\n",
    "print (5>8)\n",
    "print (5>5)"
   ]
  },
  {
   "cell_type": "code",
   "execution_count": 4,
   "id": "5103ac91-028c-44d9-8bf6-0d2b1f3126f6",
   "metadata": {},
   "outputs": [
    {
     "name": "stdout",
     "output_type": "stream",
     "text": [
      "True\n",
      "False\n",
      "True\n"
     ]
    }
   ],
   "source": [
    "# Maior ou igual: >=\n",
    "\n",
    "print (8>=5)\n",
    "print (5>=8)\n",
    "print (5>=5)"
   ]
  },
  {
   "cell_type": "code",
   "execution_count": 5,
   "id": "cb08faa0-0450-4aea-b33c-84f91f563e72",
   "metadata": {},
   "outputs": [
    {
     "name": "stdout",
     "output_type": "stream",
     "text": [
      "True\n",
      "False\n",
      "False\n"
     ]
    }
   ],
   "source": [
    "# Menor <\n",
    "\n",
    "print(5<8)\n",
    "print (8<5)\n",
    "print(5<5)"
   ]
  },
  {
   "cell_type": "code",
   "execution_count": 6,
   "id": "04c7bb9a-cdfd-4cbc-b7c0-4890a631faea",
   "metadata": {},
   "outputs": [
    {
     "name": "stdout",
     "output_type": "stream",
     "text": [
      "True\n",
      "False\n",
      "True\n"
     ]
    }
   ],
   "source": [
    "# Menos ou igual <=\n",
    "\n",
    "print(5<=8)\n",
    "print ( 8<=5)\n",
    "print (5<=5)"
   ]
  },
  {
   "cell_type": "code",
   "execution_count": 8,
   "id": "4e64c54d-3408-461a-a78c-f3e19316848f",
   "metadata": {},
   "outputs": [
    {
     "name": "stdout",
     "output_type": "stream",
     "text": [
      "False\n",
      "False\n",
      "True\n"
     ]
    }
   ],
   "source": [
    "# Igual ==\n",
    "\n",
    "print(5==8)\n",
    "print(8==5)\n",
    "print(5==5)"
   ]
  },
  {
   "cell_type": "code",
   "execution_count": 10,
   "id": "68478efd-ee54-4c6a-b858-901eeff200d2",
   "metadata": {},
   "outputs": [
    {
     "name": "stdout",
     "output_type": "stream",
     "text": [
      "False\n",
      "True\n"
     ]
    }
   ],
   "source": [
    "# Igual ==\n",
    "print ('unip' == 'UNIP')\n",
    "print ('UNIP'=='UNIP')"
   ]
  },
  {
   "cell_type": "code",
   "execution_count": 15,
   "id": "02ea7f02-4fc0-4eb6-96d8-1e37632f562b",
   "metadata": {},
   "outputs": [
    {
     "name": "stdout",
     "output_type": "stream",
     "text": [
      "True\n",
      "False\n",
      "True\n",
      "False\n"
     ]
    }
   ],
   "source": [
    "# Igual ==\n",
    "\n",
    "print(5 == 5)\n",
    "print(5 == '5')\n",
    "print (5 == 5.0)\n",
    "print (5 == 5.01)"
   ]
  },
  {
   "cell_type": "code",
   "execution_count": 16,
   "id": "8060f1a6-b9b4-4db7-9fbe-26436e7d55ae",
   "metadata": {},
   "outputs": [
    {
     "name": "stdout",
     "output_type": "stream",
     "text": [
      "False\n",
      "True\n",
      "True\n",
      "False\n"
     ]
    }
   ],
   "source": [
    "# Diferente !=\n",
    "print(5 != 5)\n",
    "print (5 != 8)\n",
    "print ('unip' != 'Unip')\n",
    "print ('UNIP' != 'UNIP')"
   ]
  },
  {
   "cell_type": "code",
   "execution_count": null,
   "id": "b8b22730-3cc1-4f89-b19f-7f32aba19dd6",
   "metadata": {},
   "outputs": [],
   "source": []
  }
 ],
 "metadata": {
  "kernelspec": {
   "display_name": "anaconda-2024.02-py310",
   "language": "python",
   "name": "conda-env-anaconda-2024.02-py310-py"
  },
  "language_info": {
   "codemirror_mode": {
    "name": "ipython",
    "version": 3
   },
   "file_extension": ".py",
   "mimetype": "text/x-python",
   "name": "python",
   "nbconvert_exporter": "python",
   "pygments_lexer": "ipython3",
   "version": "3.10.14"
  }
 },
 "nbformat": 4,
 "nbformat_minor": 5
}
