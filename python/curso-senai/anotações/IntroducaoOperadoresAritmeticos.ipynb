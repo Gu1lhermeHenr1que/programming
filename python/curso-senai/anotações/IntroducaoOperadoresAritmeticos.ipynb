{
 "cells": [
  {
   "cell_type": "code",
   "execution_count": 2,
   "id": "180773a7-9cb6-45a7-a95f-cf194b88a38f",
   "metadata": {},
   "outputs": [
    {
     "name": "stdout",
     "output_type": "stream",
     "text": [
      "13\n",
      "4\n"
     ]
    }
   ],
   "source": [
    "# soma\n",
    "print(6+7)\n",
    "print(2+2)"
   ]
  },
  {
   "cell_type": "code",
   "execution_count": 3,
   "id": "344aa705-0057-4698-816f-72b83b24fa0a",
   "metadata": {},
   "outputs": [
    {
     "name": "stdout",
     "output_type": "stream",
     "text": [
      "7\n",
      "-2\n"
     ]
    }
   ],
   "source": [
    "#subtração \n",
    "print(9-2)\n",
    "print(2-4)"
   ]
  },
  {
   "cell_type": "code",
   "execution_count": 4,
   "id": "5bc965d2-687c-4153-8dda-b76eb9fdf115",
   "metadata": {},
   "outputs": [
    {
     "name": "stdout",
     "output_type": "stream",
     "text": [
      "6\n",
      "-8\n"
     ]
    }
   ],
   "source": [
    "#multiplicação\n",
    "print(3*2)\n",
    "print(-2*4)"
   ]
  },
  {
   "cell_type": "code",
   "execution_count": 6,
   "id": "e904481d-cfed-4872-97c1-46e665a4d275",
   "metadata": {},
   "outputs": [
    {
     "name": "stdout",
     "output_type": "stream",
     "text": [
      "2.5\n",
      "2.0\n"
     ]
    }
   ],
   "source": [
    "#Divsão\n",
    "#toda divisão devolve um numero de ponto flutuante\n",
    "print(5/2)\n",
    "print(4/2)"
   ]
  },
  {
   "cell_type": "code",
   "execution_count": 8,
   "id": "953a3735-5d04-44c5-9f31-228ea8f5e95d",
   "metadata": {},
   "outputs": [
    {
     "name": "stdout",
     "output_type": "stream",
     "text": [
      "2.0\n",
      "2\n",
      "2.5\n",
      "2\n"
     ]
    }
   ],
   "source": [
    "#divisão inteira //\n",
    "\n",
    "print(4/2)\n",
    "print(4//2)\n",
    "\n",
    "print(5/2)\n",
    "print(5//2)"
   ]
  },
  {
   "cell_type": "code",
   "execution_count": 9,
   "id": "70615bbb-9386-448a-a750-26470c0e0fd0",
   "metadata": {},
   "outputs": [
    {
     "name": "stdout",
     "output_type": "stream",
     "text": [
      "3.6666666666666665\n",
      "3\n"
     ]
    }
   ],
   "source": [
    "#divisão inteira //\n",
    "\n",
    "print(11/3)\n",
    "print(11//3)"
   ]
  },
  {
   "cell_type": "code",
   "execution_count": 10,
   "id": "3a899bf1-58e0-46e4-968c-1dd94829aabd",
   "metadata": {},
   "outputs": [
    {
     "name": "stdout",
     "output_type": "stream",
     "text": [
      "4\n",
      "8\n",
      "16\n"
     ]
    }
   ],
   "source": [
    "# Exponenciação **\n",
    "\n",
    "print(2 ** 2)\n",
    "print(2 ** 3)\n",
    "print(2**4)"
   ]
  },
  {
   "cell_type": "code",
   "execution_count": 12,
   "id": "887e878d-06f6-4cc6-b0b2-3143427d8c87",
   "metadata": {},
   "outputs": [
    {
     "name": "stdout",
     "output_type": "stream",
     "text": [
      "1.0\n",
      "0\n",
      "1.5\n",
      "1\n"
     ]
    }
   ],
   "source": [
    "# Modulo %\n",
    "# Retona o Resto de uma divisão\n",
    "\n",
    "print(2/2)\n",
    "print(2%2)\n",
    "\n",
    "print(3/2)\n",
    "print(3%2)"
   ]
  },
  {
   "cell_type": "code",
   "execution_count": 13,
   "id": "338148d1-e77d-4d82-8b0a-b804e1b33975",
   "metadata": {},
   "outputs": [
    {
     "name": "stdout",
     "output_type": "stream",
     "text": [
      "4\n"
     ]
    }
   ],
   "source": [
    "# Modulo %\n",
    "# Retona o Resto de uma divisão\n",
    "print(9%5)"
   ]
  },
  {
   "cell_type": "code",
   "execution_count": 15,
   "id": "92fc169d-e55a-46a9-ae6c-cbe33a76d81b",
   "metadata": {},
   "outputs": [
    {
     "name": "stdout",
     "output_type": "stream",
     "text": [
      "0\n",
      "1\n",
      "0\n",
      "1\n"
     ]
    }
   ],
   "source": [
    "# Verificar se o numero é par ou impar\n",
    "# todo numero divido por 2 e que o resto da \n",
    "# divisão seja igual a 0 é u numero par\n",
    "\n",
    "print(2 %2) #par\n",
    "print(3%2) #impar\n",
    "print(4%2) #par\n",
    "print(9%4) #impar"
   ]
  },
  {
   "cell_type": "code",
   "execution_count": 16,
   "id": "77a97733-e082-4ab0-b115-7dc242da36a9",
   "metadata": {},
   "outputs": [
    {
     "name": "stdout",
     "output_type": "stream",
     "text": [
      "0\n",
      "1\n",
      "2\n",
      "0\n"
     ]
    }
   ],
   "source": [
    "# Verificar se um numero é divisel por outro\n",
    "# um numero é divisivel quanto o resto da divisão é igual a 0\n",
    "\n",
    "print(6%3) # 6 é divisivel por 3\n",
    "print(7%3) # 7 NÃO é divisivel por 3\n",
    "print(8%3) # 8 NÃO é divisisel por 3\n",
    "print(9%3) # 9 é divisivel por 3"
   ]
  },
  {
   "cell_type": "code",
   "execution_count": 2,
   "id": "b0724ce5-6d84-4d98-ab97-651a0e7eedf8",
   "metadata": {},
   "outputs": [
    {
     "name": "stdout",
     "output_type": "stream",
     "text": [
      "42\n",
      "7.0\n",
      "12\n"
     ]
    }
   ],
   "source": [
    "print(2+10*4)\n",
    "print(8-4/4)\n",
    "print(3*2 **2)"
   ]
  },
  {
   "cell_type": "code",
   "execution_count": null,
   "id": "3ad7cbcd-1a72-4818-bf5e-58ae04df1a07",
   "metadata": {},
   "outputs": [],
   "source": [
    "num1 = int(input('digite o 1º numero:'))\n",
    "num2 = int(input('digite o 2º numero:'))\n",
    "\n",
    "print('Resultado "
   ]
  }
 ],
 "metadata": {
  "kernelspec": {
   "display_name": "anaconda-2024.02-py310",
   "language": "python",
   "name": "conda-env-anaconda-2024.02-py310-py"
  },
  "language_info": {
   "codemirror_mode": {
    "name": "ipython",
    "version": 3
   },
   "file_extension": ".py",
   "mimetype": "text/x-python",
   "name": "python",
   "nbconvert_exporter": "python",
   "pygments_lexer": "ipython3",
   "version": "3.10.14"
  }
 },
 "nbformat": 4,
 "nbformat_minor": 5
}
