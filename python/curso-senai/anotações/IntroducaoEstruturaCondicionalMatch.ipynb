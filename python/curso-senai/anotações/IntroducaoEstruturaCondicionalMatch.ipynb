{
 "cells": [
  {
   "cell_type": "code",
   "execution_count": 3,
   "id": "9d7fdfc2-d940-4c4f-afb9-ae1c3d7e344d",
   "metadata": {},
   "outputs": [
    {
     "name": "stdin",
     "output_type": "stream",
     "text": [
      "Digite o dia da semana: 3\n"
     ]
    },
    {
     "name": "stdout",
     "output_type": "stream",
     "text": [
      "Terça\n"
     ]
    }
   ],
   "source": [
    "#Estrutura condicional Match\n",
    "\n",
    "dds = int(input('Digite o dia da semana:'))\n",
    "\n",
    "if dds == 1:\n",
    "    print('Domingo')\n",
    "elif dds == 2:\n",
    "    print('Segunda')\n",
    "elif dds == 3:\n",
    "    print('Terça')\n",
    "elif dds == 4:\n",
    "    print('Quarta')\n",
    "elif dds == 5:\n",
    "    print('Quinta')\n",
    "elif dds == 6:\n",
    "    print('Sexta')\n",
    "elif dds == 7:\n",
    "    print('Sabado')\n",
    "else:\n",
    "    print('Dia invalido')"
   ]
  },
  {
   "cell_type": "code",
   "execution_count": 4,
   "id": "2e3af67e-ccfa-4730-9d5f-dff5cc33f36c",
   "metadata": {},
   "outputs": [
    {
     "name": "stdin",
     "output_type": "stream",
     "text": [
      "Digite o dia da semana: 1\n"
     ]
    },
    {
     "name": "stdout",
     "output_type": "stream",
     "text": [
      "Domingo\n"
     ]
    }
   ],
   "source": [
    "dds = int(input('Digite o dia da semana:'))\n",
    "\n",
    "match dds:\n",
    "    case 1:\n",
    "        print('Domingo')\n",
    "    case 2:\n",
    "        print('Segunda')\n",
    "    case 3:\n",
    "        print('Terça')\n",
    "    case 4:\n",
    "        print('Quarta')\n",
    "    case 5:\n",
    "        print('Quinta')\n",
    "    case 6:\n",
    "        print('Sexta')\n",
    "    case 7:\n",
    "        print('Sabado')\n",
    "    case _:\n",
    "        print('Dia invalido')"
   ]
  },
  {
   "cell_type": "code",
   "execution_count": null,
   "id": "67c98ef6-58c2-44c8-a4b7-abe19480bd79",
   "metadata": {},
   "outputs": [],
   "source": []
  },
  {
   "cell_type": "code",
   "execution_count": null,
   "id": "4c49c8e6-cbf4-42df-aa6b-e9d28a750218",
   "metadata": {},
   "outputs": [],
   "source": []
  }
 ],
 "metadata": {
  "kernelspec": {
   "display_name": "anaconda-2024.02-py310",
   "language": "python",
   "name": "conda-env-anaconda-2024.02-py310-py"
  },
  "language_info": {
   "codemirror_mode": {
    "name": "ipython",
    "version": 3
   },
   "file_extension": ".py",
   "mimetype": "text/x-python",
   "name": "python",
   "nbconvert_exporter": "python",
   "pygments_lexer": "ipython3",
   "version": "3.10.14"
  }
 },
 "nbformat": 4,
 "nbformat_minor": 5
}
