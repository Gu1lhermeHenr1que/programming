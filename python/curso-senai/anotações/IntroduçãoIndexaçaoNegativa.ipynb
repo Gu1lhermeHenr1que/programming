{
 "cells": [
  {
   "cell_type": "code",
   "execution_count": 3,
   "id": "0db4053e-5c6e-42a8-85ff-8706fd0b135f",
   "metadata": {
    "execution": {
     "iopub.execute_input": "2025-05-31T14:31:58.440993Z",
     "iopub.status.busy": "2025-05-31T14:31:58.440567Z",
     "iopub.status.idle": "2025-05-31T14:31:58.445345Z",
     "shell.execute_reply": "2025-05-31T14:31:58.444670Z",
     "shell.execute_reply.started": "2025-05-31T14:31:58.440968Z"
    }
   },
   "outputs": [
    {
     "name": "stdout",
     "output_type": "stream",
     "text": [
      "alex\n",
      "rafaela\n",
      "breno\n",
      "sarah\n"
     ]
    }
   ],
   "source": [
    "lista = ['alex', 'rafaela', 'breno', 'sarah']\n",
    "\n",
    "print(lista[0])\n",
    "print(lista[1])\n",
    "print(lista[2])\n",
    "print(lista[3])"
   ]
  },
  {
   "cell_type": "code",
   "execution_count": 5,
   "id": "48487cab-1e6e-46ca-8b7e-d8c35362b16f",
   "metadata": {
    "execution": {
     "iopub.execute_input": "2025-05-31T14:35:47.142451Z",
     "iopub.status.busy": "2025-05-31T14:35:47.141863Z",
     "iopub.status.idle": "2025-05-31T14:35:47.146636Z",
     "shell.execute_reply": "2025-05-31T14:35:47.145971Z",
     "shell.execute_reply.started": "2025-05-31T14:35:47.142428Z"
    }
   },
   "outputs": [
    {
     "name": "stdout",
     "output_type": "stream",
     "text": [
      "sarah\n",
      "breno\n",
      "rafaela\n",
      "alex\n"
     ]
    }
   ],
   "source": [
    "#Indexação negativa\n",
    "lista = ['alex', 'rafaela', 'breno', 'sarah']\n",
    "\n",
    "print(lista[-1])\n",
    "print(lista[-2])\n",
    "print(lista[-3])\n",
    "print(lista[-4])"
   ]
  },
  {
   "cell_type": "code",
   "execution_count": 7,
   "id": "1cd2a841-e481-41ae-aa5f-cb3b97e4d40b",
   "metadata": {
    "execution": {
     "iopub.execute_input": "2025-05-31T14:36:46.439648Z",
     "iopub.status.busy": "2025-05-31T14:36:46.439299Z",
     "iopub.status.idle": "2025-05-31T14:36:46.443900Z",
     "shell.execute_reply": "2025-05-31T14:36:46.443285Z",
     "shell.execute_reply.started": "2025-05-31T14:36:46.439623Z"
    }
   },
   "outputs": [
    {
     "name": "stdout",
     "output_type": "stream",
     "text": [
      "P\n",
      "I\n",
      "N\n",
      "U\n"
     ]
    }
   ],
   "source": [
    "#Indexação negativa com strings\n",
    "\n",
    "texto = 'UNIP'\n",
    "print(texto[-1])\n",
    "print(texto[-2])\n",
    "print(texto[-3])\n",
    "print(texto[-4])"
   ]
  },
  {
   "cell_type": "code",
   "execution_count": null,
   "id": "c00d88ef-7bef-4cb6-9f36-de008c9ae730",
   "metadata": {},
   "outputs": [],
   "source": []
  }
 ],
 "metadata": {
  "kernelspec": {
   "display_name": "anaconda-2024.02-py310",
   "language": "python",
   "name": "conda-env-anaconda-2024.02-py310-py"
  },
  "language_info": {
   "codemirror_mode": {
    "name": "ipython",
    "version": 3
   },
   "file_extension": ".py",
   "mimetype": "text/x-python",
   "name": "python",
   "nbconvert_exporter": "python",
   "pygments_lexer": "ipython3",
   "version": "3.10.14"
  }
 },
 "nbformat": 4,
 "nbformat_minor": 5
}
