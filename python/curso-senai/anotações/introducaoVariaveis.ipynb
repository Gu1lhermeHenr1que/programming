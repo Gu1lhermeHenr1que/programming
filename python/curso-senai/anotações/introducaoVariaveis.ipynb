{
 "cells": [
  {
   "cell_type": "code",
   "execution_count": 29,
   "id": "eaa0e4d5-5b94-46dd-9354-0155fb4c07d6",
   "metadata": {},
   "outputs": [
    {
     "name": "stdout",
     "output_type": "stream",
     "text": [
      "4\n"
     ]
    }
   ],
   "source": [
    "# função print()-imprime valor na tela\n",
    "print(2+2)"
   ]
  },
  {
   "cell_type": "code",
   "execution_count": 31,
   "id": "abab8d88-1e18-45ae-83bf-d4354942f5ed",
   "metadata": {},
   "outputs": [
    {
     "name": "stdout",
     "output_type": "stream",
     "text": [
      "olá, pyhton\n",
      "unip\n"
     ]
    }
   ],
   "source": [
    "#todotexto precisa estar delimitdado em aspas\n",
    "print(\"olá, pyhton\")\n",
    "print('unip')"
   ]
  },
  {
   "cell_type": "code",
   "execution_count": 33,
   "id": "c037349e-d930-4963-8d44-8b841f41b8a6",
   "metadata": {},
   "outputs": [
    {
     "name": "stdin",
     "output_type": "stream",
     "text": [
      "qual é o seu nome: Guilherme\n"
     ]
    },
    {
     "data": {
      "text/plain": [
       "'Guilherme'"
      ]
     },
     "execution_count": 33,
     "metadata": {},
     "output_type": "execute_result"
    }
   ],
   "source": [
    "# função input(\"enunciado\") - recebe valor tela\n",
    "input(\"qual é o seu nome:\")"
   ]
  },
  {
   "cell_type": "code",
   "execution_count": null,
   "id": "bfafde43-2777-425f-a8e6-5620b16aa314",
   "metadata": {},
   "outputs": [],
   "source": [
    "# o pyhton é uma linguagem de programação case sensitive / CASE SENSITIVE\n",
    "# PRINT(\"Unip\") ou Print (\"unip\") estõa errados\n",
    "print(\"unip\") #certo"
   ]
  },
  {
   "cell_type": "code",
   "execution_count": null,
   "id": "edabc3f1-a82c-4fa3-860e-0390256ea049",
   "metadata": {},
   "outputs": [],
   "source": [
    "input(\"diga seu nome:\")\n",
    "input(\"qual seu curso:\")\n",
    "#vai perguntar um de cada e depois finalizar"
   ]
  },
  {
   "cell_type": "code",
   "execution_count": null,
   "id": "a788062b-0bcf-4252-b4bc-7547b8f9d4ca",
   "metadata": {},
   "outputs": [],
   "source": [
    "# a função print aceita maisde um argumento\n",
    "print(\"guilherme\", \"curso PYTHON\")"
   ]
  },
  {
   "cell_type": "code",
   "execution_count": null,
   "id": "555d096b-f7be-4ad6-ace6-60982eb94450",
   "metadata": {},
   "outputs": [],
   "source": [
    "nome = input(\"Insira seu nome: \")  # Aqui o input recebe apenas a string da mensagem\n",
    "print(\"Seu nome é\", nome)\n"
   ]
  },
  {
   "cell_type": "code",
   "execution_count": null,
   "id": "6a60914a-21b5-4963-963b-e79ca5ade7af",
   "metadata": {},
   "outputs": [],
   "source": [
    "#declaração de variaveis\n",
    "\n",
    "nome ='guilherme'\n",
    "print(nome)\n"
   ]
  },
  {
   "cell_type": "code",
   "execution_count": null,
   "id": "7579e3fb-c1de-44fd-bf42-f638734d7010",
   "metadata": {},
   "outputs": [],
   "source": [
    "#variaveis\n",
    "numero = 100\n",
    "cidade = 'votorantim'\n",
    "curso = \"Python\"\n",
    "print(numero, cidade, curso)\n"
   ]
  },
  {
   "cell_type": "code",
   "execution_count": null,
   "id": "0007fe35-9a19-450a-bf21-20a32102bc09",
   "metadata": {},
   "outputs": [],
   "source": [
    "#armazenar entrada do usuario\n",
    "\n",
    "nome = input(\"digite seu nome:\")\n",
    "\n",
    "print(nome)"
   ]
  },
  {
   "cell_type": "code",
   "execution_count": 61,
   "id": "6a1f2442-54fb-42f6-b0ee-9f098c348443",
   "metadata": {},
   "outputs": [
    {
     "name": "stdout",
     "output_type": "stream",
     "text": [
      "7\n",
      "0\n",
      "zero\n"
     ]
    }
   ],
   "source": [
    "# operaões especiais\n",
    "\n",
    "a = 1\n",
    "b = 2\n",
    "c = a+b\n",
    "d = 5+b\n",
    "\n",
    "print(d)\n",
    "\n",
    "d = 0\n",
    "print(d)\n",
    "\n",
    "d = \"zero\"\n",
    "print(d)"
   ]
  },
  {
   "cell_type": "code",
   "execution_count": 65,
   "id": "4fcd0431-f227-4c4f-8602-60a6cddcd909",
   "metadata": {},
   "outputs": [
    {
     "name": "stdout",
     "output_type": "stream",
     "text": [
      "UNIP\n"
     ]
    }
   ],
   "source": [
    "# cuidados com nomes e variais\n",
    "\n",
    "nome_completo= \"GUILHERME HENRIQUE\"es\n",
    "num1 = 1 #nome de variavel n pode começar com numero\n",
    "# (*()#@% = Python (NOME DE VARIAVEL NÃO PODE COMEÇAR COM CARACTER ESPECIAL)\n",
    "_ = \"UNIP\" #excessão\n",
    "\n",
    "print(_)\n"
   ]
  },
  {
   "cell_type": "code",
   "execution_count": 70,
   "id": "aca3615f-5898-4be5-9220-a6bf078e17a9",
   "metadata": {},
   "outputs": [
    {
     "name": "stdin",
     "output_type": "stream",
     "text": [
      "digite o nome da sua escola unip\n"
     ]
    },
    {
     "name": "stdout",
     "output_type": "stream",
     "text": [
      "unip\n"
     ]
    }
   ],
   "source": [
    "escola = input(\"digite o nome da sua escola\")\n",
    "\n",
    "print(escola)"
   ]
  },
  {
   "cell_type": "code",
   "execution_count": 96,
   "id": "e99fa26b-b6a9-4d24-ba2f-09559b226004",
   "metadata": {},
   "outputs": [
    {
     "name": "stdin",
     "output_type": "stream",
     "text": [
      "Informe qual o dia da semana, de hoje: Sabado - Feira\n"
     ]
    },
    {
     "name": "stdout",
     "output_type": "stream",
     "text": [
      "Você confirma que hoje é o dia Sabado - Feira S ou N (Digite uma das letras para responder)\n"
     ]
    },
    {
     "name": "stdin",
     "output_type": "stream",
     "text": [
      " S - Sim ou N - Não N\n"
     ]
    },
    {
     "name": "stdout",
     "output_type": "stream",
     "text": [
      "O dia da semana esta incorreto!\n"
     ]
    }
   ],
   "source": [
    "#verificador dia da semana - teste exercicio propio\n",
    "\n",
    "dia_semana = input(\"Informe qual o dia da semana, de hoje:\")\n",
    "\n",
    "print(\"Você confirma que hoje é o dia\", dia_semana, \" - S ou N (Digite uma das letras para responder)\")\n",
    "verificador = input(\" S - Sim ou N - Não:\")\n",
    "\n",
    "if verificador == \"S\":\n",
    "    print (\"Certo! Hoje é\", dia_semana)\n",
    "else:\n",
    "    print (\"O dia da semana esta incorreto!\")\n",
    "    dia_semana = \"\""
   ]
  },
  {
   "cell_type": "code",
   "execution_count": 113,
   "id": "6408c2fe-e194-48dd-9815-07eb2208257b",
   "metadata": {},
   "outputs": [
    {
     "name": "stdin",
     "output_type": "stream",
     "text": [
      "Informe qual o dia da semana, de hoje:  Domingo\n"
     ]
    },
    {
     "name": "stdout",
     "output_type": "stream",
     "text": [
      "Você confirma que hoje é o dia Domingo  - S ou N (Digite uma das letras para responder)\n"
     ]
    },
    {
     "name": "stdin",
     "output_type": "stream",
     "text": [
      " S - Sim ou N - Não:  N\n"
     ]
    },
    {
     "name": "stdout",
     "output_type": "stream",
     "text": [
      "O dia da semana está incorreto!\n"
     ]
    },
    {
     "name": "stdin",
     "output_type": "stream",
     "text": [
      "Informe qual o dia da semana, de hoje:  Segunda Feira\n"
     ]
    },
    {
     "name": "stdout",
     "output_type": "stream",
     "text": [
      "Você confirma que hoje é o dia Segunda Feira  - S ou N (Digite uma das letras para responder)\n"
     ]
    },
    {
     "name": "stdin",
     "output_type": "stream",
     "text": [
      " S - Sim ou N - Não:  N\n"
     ]
    },
    {
     "name": "stdout",
     "output_type": "stream",
     "text": [
      "O dia da semana está incorreto!\n"
     ]
    },
    {
     "name": "stdin",
     "output_type": "stream",
     "text": [
      "Informe qual o dia da semana, de hoje:  Sabado\n"
     ]
    },
    {
     "name": "stdout",
     "output_type": "stream",
     "text": [
      "Você confirma que hoje é o dia Sabado  - S ou N (Digite uma das letras para responder)\n"
     ]
    },
    {
     "name": "stdin",
     "output_type": "stream",
     "text": [
      " S - Sim ou N - Não:  S\n"
     ]
    },
    {
     "name": "stdout",
     "output_type": "stream",
     "text": [
      "Certo! Hoje é Sabado\n"
     ]
    }
   ],
   "source": [
    "#verificador dia da semana - teste exercicio propio COM LOOP\n",
    "while True:  # Inicia um loop infinito\n",
    "    dia_semana = input(\"Informe qual o dia da semana, de hoje: \")\n",
    "\n",
    "    print(\"Você confirma que hoje é o dia\", dia_semana, \" - S ou N (Digite uma das letras para responder)\")\n",
    "    verificador = input(\" S - Sim ou N - Não: \")\n",
    "\n",
    "    if verificador == \"S\" or verificador == \"s\":\n",
    "        print(\"Certo! Hoje é\", dia_semana)\n",
    "        break  # Sai do loop, pois o dia foi confirmado corretamente\n",
    "    else:\n",
    "        print(\"O dia da semana está incorreto!\")\n",
    "        # O laço irá recomeçar automaticamente sem precisar de mais nada.\n"
   ]
  },
  {
   "cell_type": "code",
   "execution_count": null,
   "id": "74552fee-6ea3-46c3-994d-9d13c3c816cc",
   "metadata": {},
   "outputs": [],
   "source": []
  }
 ],
 "metadata": {
  "kernelspec": {
   "display_name": "anaconda-2024.02-py310",
   "language": "python",
   "name": "conda-env-anaconda-2024.02-py310-py"
  },
  "language_info": {
   "codemirror_mode": {
    "name": "ipython",
    "version": 3
   },
   "file_extension": ".py",
   "mimetype": "text/x-python",
   "name": "python",
   "nbconvert_exporter": "python",
   "pygments_lexer": "ipython3",
   "version": "3.10.14"
  }
 },
 "nbformat": 4,
 "nbformat_minor": 5
}
