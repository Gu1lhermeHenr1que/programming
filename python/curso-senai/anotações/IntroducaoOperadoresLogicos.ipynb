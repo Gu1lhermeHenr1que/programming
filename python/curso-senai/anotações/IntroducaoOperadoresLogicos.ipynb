{
 "cells": [
  {
   "cell_type": "code",
   "execution_count": 4,
   "id": "31957927-8879-42b8-8542-74b5011f8558",
   "metadata": {},
   "outputs": [
    {
     "name": "stdout",
     "output_type": "stream",
     "text": [
      "O Aluno esta reprovado\n"
     ]
    }
   ],
   "source": [
    "nota = 7\n",
    "frequencia = 50\n",
    "comportamento = 'ruim'\n",
    "if nota >= 7 and frequencia >= 70 and comportamento == 'bom': \n",
    "    print('O aluno foi aprovado')\n",
    "else:\n",
    "    print('O Aluno esta reprovado')"
   ]
  },
  {
   "cell_type": "code",
   "execution_count": 3,
   "id": "b00723bc-0f0a-4376-b467-ce29a653f0b9",
   "metadata": {},
   "outputs": [
    {
     "name": "stdout",
     "output_type": "stream",
     "text": [
      "Sua encomenda será entregue este mes\n"
     ]
    }
   ],
   "source": [
    "mes = 'janeiro'\n",
    "dia = 14\n",
    "\n",
    "if mes == 'janeiro' and dia <= 15:\n",
    "    print('Sua encomenda será entregue este mes')\n",
    "else:\n",
    "    print('Não á previsão para a entrega')"
   ]
  },
  {
   "cell_type": "code",
   "execution_count": 6,
   "id": "bcf5141e-d12c-4c7a-a323-7b513baa0337",
   "metadata": {},
   "outputs": [
    {
     "name": "stdout",
     "output_type": "stream",
     "text": [
      "Tem direito a premiação\n"
     ]
    }
   ],
   "source": [
    "anos = 2\n",
    "desempenho = 'bom'\n",
    "\n",
    "if anos >= 3 or desempenho == 'bom':\n",
    "    print('Tem direito a premiação')\n",
    "else:\n",
    "    print('Não tem direito a premiação')"
   ]
  },
  {
   "cell_type": "code",
   "execution_count": 8,
   "id": "f0c3d759-d224-4a42-81d6-33819e09bfce",
   "metadata": {},
   "outputs": [
    {
     "name": "stdout",
     "output_type": "stream",
     "text": [
      "O produto esta disponivel\n"
     ]
    }
   ],
   "source": [
    "estoque_loja1 = 1\n",
    "estoque_loja2 = 0\n",
    "\n",
    "if estoque_loja1 >= 1 or estoque_loja2 >= 1:\n",
    "    print('O produto esta disponivel')\n",
    "else:\n",
    "    print('O produto esta indisponivel')"
   ]
  },
  {
   "cell_type": "code",
   "execution_count": null,
   "id": "a1aaca26-587a-4fb3-add8-fe51d83883a6",
   "metadata": {},
   "outputs": [],
   "source": [
    "nota = 5\n",
    "\n",
    "if nota >= 9 and nota <= 10:\n",
    "    print('Aprovado com excelencia')\n",
    "elif nota >= 7 and nota < 9:\n",
    "    print('Aprovado')\n",
    "elif nota >= 5 and nota > 7:\n",
    "    print('recuperação')\n",
    "elif nota > 0 and nota <5:\n",
    "    print('Reprovado')\n",
    "else:\n",
    "    print('Nota invalida')"
   ]
  },
  {
   "cell_type": "code",
   "execution_count": null,
   "id": "ee5b68a1-20cd-4b14-a4b2-ed96e653918c",
   "metadata": {},
   "outputs": [],
   "source": [
    "ano = 2025\n",
    "\n",
    "if ano >= 2025:\n",
    "    print('novo')\n",
    "elif ano >= 2020  and ano < 2025:\n",
    "    print('seminovo')\n",
    "elif ano >= 2000 and ano <2020:\n",
    "    print('usado')\n",
    "elif ano < 2000:\n",
    "    print('Classico')\n",
    "else:\n",
    "    print('Ano invalido')"
   ]
  },
  {
   "cell_type": "code",
   "execution_count": 9,
   "id": "1b1032dc-bde1-4225-a510-ad5e72acc463",
   "metadata": {},
   "outputs": [
    {
     "name": "stdout",
     "output_type": "stream",
     "text": [
      "True\n",
      "False\n",
      "False\n",
      "True\n"
     ]
    }
   ],
   "source": [
    "print(True)\n",
    "print(False)\n",
    "print(not(True))\n",
    "print(not(False))"
   ]
  },
  {
   "cell_type": "code",
   "execution_count": null,
   "id": "b1809198-af14-4b58-a98f-ef9a211fdb36",
   "metadata": {},
   "outputs": [],
   "source": []
  }
 ],
 "metadata": {
  "kernelspec": {
   "display_name": "anaconda-2024.02-py310",
   "language": "python",
   "name": "conda-env-anaconda-2024.02-py310-py"
  },
  "language_info": {
   "codemirror_mode": {
    "name": "ipython",
    "version": 3
   },
   "file_extension": ".py",
   "mimetype": "text/x-python",
   "name": "python",
   "nbconvert_exporter": "python",
   "pygments_lexer": "ipython3",
   "version": "3.10.14"
  }
 },
 "nbformat": 4,
 "nbformat_minor": 5
}
