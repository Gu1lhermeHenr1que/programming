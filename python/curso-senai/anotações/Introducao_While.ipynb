{
 "cells": [
  {
   "cell_type": "code",
   "execution_count": null,
   "id": "7260bceb-3901-4ec2-b337-10a62963af93",
   "metadata": {},
   "outputs": [],
   "source": [
    "#While\n",
    "\n",
    "while senha !=1234:\n",
    "    print('senha incorreta')\n",
    "    senha = input('Digite a sua senha:')\n",
    "\n",
    "print('Fim')"
   ]
  },
  {
   "cell_type": "code",
   "execution_count": 3,
   "id": "bd2a9814-c9e7-4005-83b4-df2e365928a7",
   "metadata": {
    "execution": {
     "iopub.execute_input": "2025-06-07T11:52:01.608654Z",
     "iopub.status.busy": "2025-06-07T11:52:01.608283Z",
     "iopub.status.idle": "2025-06-07T11:52:01.612607Z",
     "shell.execute_reply": "2025-06-07T11:52:01.612015Z",
     "shell.execute_reply.started": "2025-06-07T11:52:01.608608Z"
    }
   },
   "outputs": [
    {
     "name": "stdout",
     "output_type": "stream",
     "text": [
      "Contador: 1\n",
      "Contador: 2\n",
      "Contador: 3\n",
      "Contador: 4\n",
      "Contador: 5\n",
      "fim\n"
     ]
    }
   ],
   "source": [
    "contador = 0\n",
    "\n",
    "while contador < 5:\n",
    "    contador = contador + 1\n",
    "    print(f'Contador: {contador}')\n",
    "\n",
    "print('fim')"
   ]
  },
  {
   "cell_type": "code",
   "execution_count": 4,
   "id": "66094665-8e8e-4d03-82e7-6d5c18be0a37",
   "metadata": {
    "execution": {
     "iopub.execute_input": "2025-06-07T12:12:34.026104Z",
     "iopub.status.busy": "2025-06-07T12:12:34.025768Z",
     "iopub.status.idle": "2025-06-07T12:12:38.817628Z",
     "shell.execute_reply": "2025-06-07T12:12:38.816967Z",
     "shell.execute_reply.started": "2025-06-07T12:12:34.026080Z"
    }
   },
   "outputs": [
    {
     "name": "stdin",
     "output_type": "stream",
     "text": [
      "Digite um valor para a lista: 1\n",
      "Digite um valor para a lista: 23\n",
      "Digite um valor para a lista: 6\n",
      "Digite um valor para a lista: 5\n"
     ]
    },
    {
     "name": "stdout",
     "output_type": "stream",
     "text": [
      "['1', '23', '6', '5']\n"
     ]
    }
   ],
   "source": [
    "lista = []\n",
    "contador = 0\n",
    "\n",
    "while contador < 4:\n",
    "    valor = input('Digite um valor para a lista:')\n",
    "    lista.append(valor)\n",
    "    contador = contador + 1\n",
    "\n",
    "print(lista)"
   ]
  },
  {
   "cell_type": "code",
   "execution_count": 8,
   "id": "c94d70be-2f26-446e-abfc-0f50490ece04",
   "metadata": {
    "execution": {
     "iopub.execute_input": "2025-06-07T12:19:19.644234Z",
     "iopub.status.busy": "2025-06-07T12:19:19.643882Z",
     "iopub.status.idle": "2025-06-07T12:19:19.648408Z",
     "shell.execute_reply": "2025-06-07T12:19:19.647796Z",
     "shell.execute_reply.started": "2025-06-07T12:19:19.644213Z"
    }
   },
   "outputs": [
    {
     "name": "stdout",
     "output_type": "stream",
     "text": [
      "Contador: 1\n",
      "Contador: 2\n",
      "Contador: 3\n",
      "Contador: 4\n",
      "Contador: 5\n",
      "fim\n"
     ]
    }
   ],
   "source": [
    "# o loop pode ser interrompido pela instruçãi BREAK\n",
    "\n",
    "contador = 0\n",
    "\n",
    "while contador < 10:\n",
    "    contador = contador + 1\n",
    "    print (f'Contador: {contador}')\n",
    "\n",
    "    if contador == 5:\n",
    "        break\n",
    "\n",
    "print('fim')"
   ]
  },
  {
   "cell_type": "code",
   "execution_count": 10,
   "id": "05f34061-aa96-4753-b5a8-626ab8a40a10",
   "metadata": {
    "execution": {
     "iopub.execute_input": "2025-06-07T12:22:37.740669Z",
     "iopub.status.busy": "2025-06-07T12:22:37.740278Z",
     "iopub.status.idle": "2025-06-07T12:22:42.619781Z",
     "shell.execute_reply": "2025-06-07T12:22:42.619173Z",
     "shell.execute_reply.started": "2025-06-07T12:22:37.740611Z"
    }
   },
   "outputs": [
    {
     "name": "stdin",
     "output_type": "stream",
     "text": [
      "Voce deseja parar o loop? não\n"
     ]
    },
    {
     "name": "stdout",
     "output_type": "stream",
     "text": [
      "o loop deve continuar\n"
     ]
    },
    {
     "name": "stdin",
     "output_type": "stream",
     "text": [
      "Voce deseja parar o loop? sim\n"
     ]
    },
    {
     "name": "stdout",
     "output_type": "stream",
     "text": [
      "fim\n"
     ]
    }
   ],
   "source": [
    "resposta = input('Voce deseja parar o loop?')\n",
    "\n",
    "while resposta != 'sim':\n",
    "    print('o loop deve continuar')\n",
    "    resposta = input('Voce deseja parar o loop?')\n",
    "\n",
    "print('fim')"
   ]
  },
  {
   "cell_type": "code",
   "execution_count": null,
   "id": "87b7c1c1-3da2-4aa9-bd71-d7a84e228a56",
   "metadata": {},
   "outputs": [],
   "source": []
  }
 ],
 "metadata": {
  "kernelspec": {
   "display_name": "anaconda-2024.02-py310",
   "language": "python",
   "name": "conda-env-anaconda-2024.02-py310-py"
  },
  "language_info": {
   "codemirror_mode": {
    "name": "ipython",
    "version": 3
   },
   "file_extension": ".py",
   "mimetype": "text/x-python",
   "name": "python",
   "nbconvert_exporter": "python",
   "pygments_lexer": "ipython3",
   "version": "3.10.14"
  }
 },
 "nbformat": 4,
 "nbformat_minor": 5
}
