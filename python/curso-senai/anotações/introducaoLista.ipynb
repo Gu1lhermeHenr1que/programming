{
 "cells": [
  {
   "cell_type": "code",
   "execution_count": 1,
   "id": "680e7aa1-4a94-461f-a8d4-f94f7651bddf",
   "metadata": {},
   "outputs": [],
   "source": [
    "#Lista "
   ]
  },
  {
   "cell_type": "code",
   "execution_count": 39,
   "id": "52589b45-14a8-44ac-b64f-44ffae9c548d",
   "metadata": {},
   "outputs": [],
   "source": [
    "nome = 'Thiago'\n",
    "numero = 8\n",
    "lista = ['thiago', 8, 5.5, False, 0]"
   ]
  },
  {
   "cell_type": "code",
   "execution_count": 3,
   "id": "eca6f213-1e0f-416f-8189-c88d6b19eb02",
   "metadata": {},
   "outputs": [
    {
     "name": "stdout",
     "output_type": "stream",
     "text": [
      "['alex', 'maria', 'Paulo']\n"
     ]
    }
   ],
   "source": [
    "lista = ['alex', 'maria', 'Paulo']\n",
    "\n",
    "print(lista)"
   ]
  },
  {
   "cell_type": "code",
   "execution_count": 6,
   "id": "22c329fd-b119-4621-bd5d-288e8d099e8e",
   "metadata": {},
   "outputs": [
    {
     "name": "stdout",
     "output_type": "stream",
     "text": [
      "['maça', 'banana', 'melão', 'limaão']\n",
      "maça\n",
      "banana\n",
      "melão\n",
      "limaão\n"
     ]
    }
   ],
   "source": [
    "frutas = ['maça', 'banana', 'melão', 'limaão']\n",
    "\n",
    "print(frutas)\n",
    "print(frutas[0])\n",
    "print(frutas[1])\n",
    "print(frutas[2])\n",
    "print(frutas[3])"
   ]
  },
  {
   "cell_type": "code",
   "execution_count": 40,
   "id": "73ce2a00-8fe3-4858-b1a4-750be9a76b28",
   "metadata": {},
   "outputs": [
    {
     "name": "stdout",
     "output_type": "stream",
     "text": [
      "banana\n"
     ]
    }
   ],
   "source": [
    "# Os indices são tipos INT\n",
    "\n",
    "frutas = ['maça', 'banana', 'melão', 'limaão']\n",
    "print(frutas[1])\n",
    "#print(frutas[1.0]) #erro\n",
    "#print(frutas['1'])#erro\n"
   ]
  },
  {
   "cell_type": "code",
   "execution_count": 9,
   "id": "d70f817b-672d-45a6-a4c1-626433b532e0",
   "metadata": {},
   "outputs": [
    {
     "name": "stdout",
     "output_type": "stream",
     "text": [
      "banana\n",
      "melão\n"
     ]
    }
   ],
   "source": [
    "frutas = ['maça', 'banana', 'melão', 'limaão']\n",
    "\n",
    "i = 1\n",
    "print(frutas[i])\n",
    "print(frutas[2])"
   ]
  },
  {
   "cell_type": "code",
   "execution_count": 11,
   "id": "0255afd9-0abd-4955-a32b-c8863d828dc8",
   "metadata": {},
   "outputs": [
    {
     "name": "stdin",
     "output_type": "stream",
     "text": [
      "Informw um indice da lista: 3\n"
     ]
    },
    {
     "name": "stdout",
     "output_type": "stream",
     "text": [
      "limaão\n",
      "melão\n"
     ]
    }
   ],
   "source": [
    "frutas = ['maça', 'banana', 'melão', 'limaão']\n",
    "i = int(input('Informw um indice da lista:'))\n",
    "\n",
    "print(frutas[i])\n",
    "print(frutas[2])"
   ]
  },
  {
   "cell_type": "code",
   "execution_count": 12,
   "id": "219672be-9eaf-4f28-91fe-ed6e4bbec6b5",
   "metadata": {},
   "outputs": [
    {
     "name": "stdout",
     "output_type": "stream",
     "text": [
      "i\n"
     ]
    }
   ],
   "source": [
    "### a lista é uma colecão\n",
    "lista = ['u', 'n', 'i', 'p']\n",
    "\n",
    "print (lista[2])"
   ]
  },
  {
   "cell_type": "code",
   "execution_count": 13,
   "id": "0fbc94b1-f0fb-4484-8f18-4fc750ef362d",
   "metadata": {},
   "outputs": [
    {
     "name": "stdout",
     "output_type": "stream",
     "text": [
      "t\n"
     ]
    }
   ],
   "source": [
    "# uma string é uma coleção\n",
    "texto = 'python'\n",
    "print(texto[2])"
   ]
  },
  {
   "cell_type": "code",
   "execution_count": 14,
   "id": "8edb5d48-815a-4b4e-a785-804d690af467",
   "metadata": {},
   "outputs": [
    {
     "name": "stdout",
     "output_type": "stream",
     "text": [
      "[]\n",
      "[1, 2, 3, 4, 5]\n",
      "['ana', 'camila', 'vitor']\n"
     ]
    }
   ],
   "source": [
    "# Formas de criar listas\n",
    "\n",
    "lista1 = []\n",
    "lista2 = [1,2,3,4,5]\n",
    "lista3 = list(('ana', 'camila', 'vitor'))\n",
    "\n",
    "print(lista1)\n",
    "print(lista2)\n",
    "print(lista3)"
   ]
  },
  {
   "cell_type": "code",
   "execution_count": 19,
   "id": "6ca3986c-c193-4507-9660-2ba226df484f",
   "metadata": {},
   "outputs": [
    {
     "name": "stdout",
     "output_type": "stream",
     "text": [
      "['maça', 'banana', 'melão', 'limaão']\n",
      "['maça', 'banana', 'melão', 'limaão', 'Abacaxi']\n",
      "['maça', 'banana', 'melão', 'limaão', 'Abacaxi', 'Manga']\n"
     ]
    }
   ],
   "source": [
    "#metodos des listas\n",
    "\n",
    "#.append() - Adiciona um item ao final da lista\n",
    "\n",
    "frutas = ['maça', 'banana', 'melão', 'limaão']\n",
    "print(frutas)\n",
    "\n",
    "frutas.append('Abacaxi')\n",
    "print(frutas)\n",
    "\n",
    "frutas.append('Manga')\n",
    "print(frutas)\n"
   ]
  },
  {
   "cell_type": "code",
   "execution_count": 21,
   "id": "e3010c86-0726-4e0c-9cff-2a84ac019afc",
   "metadata": {},
   "outputs": [
    {
     "name": "stdout",
     "output_type": "stream",
     "text": [
      "['Thiago', 'eduarda', 'matheus', 'bruna']\n",
      "eduarda\n"
     ]
    }
   ],
   "source": [
    "# .insert()- adiciona um item na posição informada\n",
    "\n",
    "nomes = ['eduarda', 'matheus', 'bruna']\n",
    "nomes.insert(0, 'Thiago')\n",
    "\n",
    "print(nomes)\n",
    "print(nomes[1])"
   ]
  },
  {
   "cell_type": "code",
   "execution_count": 41,
   "id": "4aff76b3-aae1-48b2-8488-d6a07bfce77c",
   "metadata": {},
   "outputs": [
    {
     "name": "stdout",
     "output_type": "stream",
     "text": [
      "['eduarda', 'caio', 'bruna']\n"
     ]
    }
   ],
   "source": [
    "# remove()- remove um item da lista pelo valor\n",
    "\n",
    "nomes = ['eduarda','caio','matheus', 'bruna']\n",
    "\n",
    "nomes.remove('matheus')\n",
    "print(nomes)"
   ]
  },
  {
   "cell_type": "code",
   "execution_count": 23,
   "id": "d4d280f1-a1e4-492f-b1e7-9a4966afdd4b",
   "metadata": {},
   "outputs": [
    {
     "name": "stdout",
     "output_type": "stream",
     "text": [
      "['eduarda', 'matheus', 'bruna']\n"
     ]
    }
   ],
   "source": [
    "# pop() -remove um item da lista peloindice\n",
    "\n",
    "nomes = ['eduarda','caio','matheus', 'bruna']\n",
    "\n",
    "nomes.pop(1)\n",
    "print(nomes)"
   ]
  },
  {
   "cell_type": "code",
   "execution_count": 25,
   "id": "e733dee1-9ecf-41a9-a4e6-0c402a2ec28e",
   "metadata": {},
   "outputs": [
    {
     "name": "stdout",
     "output_type": "stream",
     "text": [
      "['eduarda', 'Gabriel', 'matheus', 'bruna']\n"
     ]
    }
   ],
   "source": [
    "# lista[] -substitui um valor da lista\n",
    "\n",
    "nomes = ['eduarda','caio','matheus', 'bruna']\n",
    "\n",
    "nomes[1] = 'Gabriel'\n",
    "print(nomes)"
   ]
  },
  {
   "cell_type": "code",
   "execution_count": 26,
   "id": "2e4e2807-ec23-4c76-bffc-933cc46ff479",
   "metadata": {},
   "outputs": [
    {
     "name": "stdout",
     "output_type": "stream",
     "text": [
      "0\n",
      "1\n"
     ]
    }
   ],
   "source": [
    "# index() - Consulta o indice do valor informado\n",
    "\n",
    "nomes = ['eduarda','caio','matheus', 'bruna']\n",
    "\n",
    "print(nomes.index('eduarda'))\n",
    "print(nomes.index('caio'))"
   ]
  },
  {
   "cell_type": "code",
   "execution_count": 27,
   "id": "b23bd3c7-7589-4a3c-b8f3-849163e5907b",
   "metadata": {},
   "outputs": [
    {
     "name": "stdout",
     "output_type": "stream",
     "text": [
      "1\n",
      "2\n",
      "4\n",
      "3\n"
     ]
    }
   ],
   "source": [
    "#count() - Retorna o numero de vezes que o valor informado foi encontrado\n",
    "\n",
    "lista = [5,6,7,6,7,7,7,8,8,8]\n",
    "\n",
    "print(lista.count(5))\n",
    "print(lista.count(6))\n",
    "print(lista.count(7))\n",
    "print(lista.count(8))"
   ]
  },
  {
   "cell_type": "code",
   "execution_count": 29,
   "id": "56b473a8-2dcf-44ce-a60f-5e954d90850d",
   "metadata": {},
   "outputs": [
    {
     "name": "stdout",
     "output_type": "stream",
     "text": [
      "['a', 'b', 'c', 'd', 'e']\n",
      "[0, 1, 2, 3, 4]\n"
     ]
    }
   ],
   "source": [
    "#sort () -ordena os itens da lista\n",
    "\n",
    "letras = ['e', 'c', 'a', 'd', 'b']\n",
    "numeros = [3, 4, 2, 0, 1]\n",
    "\n",
    "letras.sort()\n",
    "numeros.sort()\n",
    "\n",
    "print(letras)\n",
    "print(numeros)"
   ]
  },
  {
   "cell_type": "code",
   "execution_count": 30,
   "id": "c3f5c44a-03d5-4177-a445-811b956d5886",
   "metadata": {},
   "outputs": [
    {
     "name": "stdout",
     "output_type": "stream",
     "text": [
      "['b', 'd', 'a', 'c', 'e']\n",
      "[1, 0, 2, 4, 3]\n"
     ]
    }
   ],
   "source": [
    "#reverse - inverte os valores da lista\n",
    "\n",
    "letras = ['e', 'c', 'a', 'd', 'b']\n",
    "numeros = [3, 4, 2, 0, 1]\n",
    "\n",
    "letras.reverse()\n",
    "numeros.reverse()\n",
    "\n",
    "print(letras)\n",
    "print(numeros)"
   ]
  },
  {
   "cell_type": "code",
   "execution_count": 42,
   "id": "3b21715e-619f-4c47-b3d0-8af0a0bdf026",
   "metadata": {},
   "outputs": [
    {
     "name": "stdout",
     "output_type": "stream",
     "text": [
      "5\n"
     ]
    }
   ],
   "source": [
    "#len() - Retorna quantidade de itens\n",
    "\n",
    "lista = [6,5,4,3,2]\n",
    "\n",
    "print(len(lista))"
   ]
  },
  {
   "cell_type": "code",
   "execution_count": 32,
   "id": "1e6733ab-845e-4320-8f8c-b371cff25508",
   "metadata": {},
   "outputs": [
    {
     "name": "stdout",
     "output_type": "stream",
     "text": [
      "20\n"
     ]
    }
   ],
   "source": [
    "#sum () -Retorna a soma dos valores da lista\n",
    "\n",
    "lista = [6, 5, 4, 3, 2]\n",
    "\n",
    "print(sum(lista))\n"
   ]
  },
  {
   "cell_type": "code",
   "execution_count": 33,
   "id": "f33561fe-45f8-4d4f-b67c-89b3424e1b05",
   "metadata": {},
   "outputs": [
    {
     "name": "stdout",
     "output_type": "stream",
     "text": [
      "6\n"
     ]
    }
   ],
   "source": [
    "#max () -Retorna o maior dos valores da lista\n",
    "\n",
    "lista = [6, 5, 4, 3, 2]\n",
    "\n",
    "print(max(lista))"
   ]
  },
  {
   "cell_type": "code",
   "execution_count": 34,
   "id": "4e607544-255c-4c96-a9dd-520c776ebf34",
   "metadata": {},
   "outputs": [
    {
     "name": "stdout",
     "output_type": "stream",
     "text": [
      "2\n"
     ]
    }
   ],
   "source": [
    "#min () -Retorna o menor dos valores da lista\n",
    "\n",
    "lista = [6, 5, 4, 3, 2]\n",
    "\n",
    "print(min(lista))"
   ]
  },
  {
   "cell_type": "code",
   "execution_count": 37,
   "id": "8a77023c-0591-483f-b59d-35a7d7584345",
   "metadata": {},
   "outputs": [
    {
     "name": "stdout",
     "output_type": "stream",
     "text": [
      "[1, 2, 3, 4, 5, 6]\n",
      "[4, 5, 6, 1, 2, 3]\n"
     ]
    }
   ],
   "source": [
    "#Operador +:Junta as listas\n",
    "\n",
    "lista1 = [1,2,3]\n",
    "lista2 = [4,5,6]\n",
    "lista3 = lista1 + lista2\n",
    "lista4 = lista2 + lista1\n",
    "print(lista3)\n",
    "print(lista4)"
   ]
  },
  {
   "cell_type": "code",
   "execution_count": 38,
   "id": "da6dddc5-1e38-49c2-a84a-c787574bcc60",
   "metadata": {},
   "outputs": [
    {
     "name": "stdout",
     "output_type": "stream",
     "text": [
      "['maçã', 'banana', 'maçã', 'banana', 'maçã', 'banana']\n"
     ]
    }
   ],
   "source": [
    "# operador *: retorna uma lista com os valores repetidos pela quantidade de vezes informada\n",
    "\n",
    "# Lista original\n",
    "frutas = [\"maçã\", \"banana\"]\n",
    "\n",
    "# Usando o operador * para repetir a lista 3 vezes\n",
    "lista_repetida = frutas * 3\n",
    "\n",
    "# Exibindo o resultado\n",
    "print(lista_repetida)"
   ]
  },
  {
   "cell_type": "code",
   "execution_count": null,
   "id": "3e9a83ef-4376-4f63-8b2d-f5f5d8d4ade6",
   "metadata": {},
   "outputs": [],
   "source": []
  }
 ],
 "metadata": {
  "kernelspec": {
   "display_name": "anaconda-2024.02-py310",
   "language": "python",
   "name": "conda-env-anaconda-2024.02-py310-py"
  },
  "language_info": {
   "codemirror_mode": {
    "name": "ipython",
    "version": 3
   },
   "file_extension": ".py",
   "mimetype": "text/x-python",
   "name": "python",
   "nbconvert_exporter": "python",
   "pygments_lexer": "ipython3",
   "version": "3.10.14"
  }
 },
 "nbformat": 4,
 "nbformat_minor": 5
}
