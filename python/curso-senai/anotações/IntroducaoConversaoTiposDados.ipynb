{
 "cells": [
  {
   "cell_type": "code",
   "execution_count": 3,
   "id": "2fe069b5-ccc6-4656-905f-d861bdec03cb",
   "metadata": {},
   "outputs": [
    {
     "name": "stdin",
     "output_type": "stream",
     "text": [
      "digite o primeiro numero: 1\n",
      "digite o segundo numero: 2\n"
     ]
    },
    {
     "name": "stdout",
     "output_type": "stream",
     "text": [
      "Resultado: 12\n"
     ]
    }
   ],
   "source": [
    "num1 =input('digite o primeiro numero:') #sem a declaração de int, esta armazenando com string\n",
    "num2 =input('digite o segundo numero:')\n",
    "\n",
    "print(f'Resultado: {num1 + num2}') #por isso aqui ele não soma, somente junte\n",
    "# esta sendo feito \"num1\" + \"num2\" "
   ]
  },
  {
   "cell_type": "code",
   "execution_count": 4,
   "id": "7da79eb8-fb32-4ee3-a272-7e8e012969c3",
   "metadata": {},
   "outputs": [
    {
     "name": "stdin",
     "output_type": "stream",
     "text": [
      "digite o primeiro numero: 1\n",
      "digite o segundo numero: 2\n"
     ]
    },
    {
     "name": "stdout",
     "output_type": "stream",
     "text": [
      "Resultado: 3\n"
     ]
    }
   ],
   "source": [
    "num1 =int(input('digite o primeiro numero:'))\n",
    "num2 =int(input('digite o segundo numero:'))\n",
    "\n",
    "print(f'Resultado: {num1 + num2}')"
   ]
  },
  {
   "cell_type": "code",
   "execution_count": 1,
   "id": "af7e6544-b620-4eef-a57b-ba9d6e36b04b",
   "metadata": {},
   "outputs": [
    {
     "name": "stdout",
     "output_type": "stream",
     "text": [
      "<class 'int'>\n",
      "<class 'str'>\n"
     ]
    }
   ],
   "source": [
    "# type () - retorna o tipo de dado\n",
    "\n",
    "print(type (4)) # int -numero inteiro\n",
    "print(type(\"4\")) #str - string (texto)\n"
   ]
  },
  {
   "cell_type": "code",
   "execution_count": 2,
   "id": "9603927f-f2e8-4e33-b3c1-7f7042ac03d3",
   "metadata": {},
   "outputs": [
    {
     "name": "stdin",
     "output_type": "stream",
     "text": [
      "digite um numero: 10\n"
     ]
    },
    {
     "name": "stdout",
     "output_type": "stream",
     "text": [
      "numero digitado é: 10\n",
      "<class 'str'>\n"
     ]
    }
   ],
   "source": [
    "numero = input('digite um numero:')\n",
    "\n",
    "print(f'numero digitado é: {numero}')\n",
    "print(type(numero))"
   ]
  },
  {
   "cell_type": "code",
   "execution_count": 6,
   "id": "255aa477-b789-461d-ab24-a7b1601269e1",
   "metadata": {},
   "outputs": [
    {
     "name": "stdout",
     "output_type": "stream",
     "text": [
      "15\n"
     ]
    }
   ],
   "source": [
    "#funções para conversão\n",
    "\n",
    "v1 = int('7')\n",
    "v2 = int('8')\n",
    "\n",
    "print(v1 + v2)"
   ]
  },
  {
   "cell_type": "code",
   "execution_count": 2,
   "id": "908972f5-fbc7-48e2-b31d-83f1ab12168b",
   "metadata": {},
   "outputs": [
    {
     "name": "stdout",
     "output_type": "stream",
     "text": [
      "12\n",
      "3\n"
     ]
    }
   ],
   "source": [
    "#Exercicio\n",
    "\n",
    "v1 = \"1\"\n",
    "v2 = \"2\"\n",
    "\n",
    "print(v1 + v2) #somou como letra\n",
    "\n",
    "v1 = int(\"1\")\n",
    "v2 = int(\"2\")\n",
    "\n",
    "print(v1 + v2) #somou como numero - Conversão\n"
   ]
  },
  {
   "cell_type": "code",
   "execution_count": 3,
   "id": "bde2d2b6-858d-4a47-87c6-65d7df6b913e",
   "metadata": {},
   "outputs": [
    {
     "name": "stdout",
     "output_type": "stream",
     "text": [
      "<class 'str'>\n",
      "<class 'int'>\n"
     ]
    }
   ],
   "source": [
    "# int() - Converte para o tipo inteiro\n",
    "\n",
    "valor = '8'\n",
    "print (type(valor))\n",
    "\n",
    "valor = int('8')\n",
    "print (type(valor))"
   ]
  },
  {
   "cell_type": "code",
   "execution_count": 4,
   "id": "c1adfa2a-1a8b-47b3-aa95-5b5b53dec453",
   "metadata": {},
   "outputs": [
    {
     "name": "stdout",
     "output_type": "stream",
     "text": [
      "<class 'int'>\n",
      "<class 'str'>\n"
     ]
    }
   ],
   "source": [
    "# str () - converte para o tipo string (texto)\n",
    "\n",
    "valor = 8\n",
    "print(type(valor))\n",
    "\n",
    "valor = str(8)\n",
    "print (type(valor))"
   ]
  },
  {
   "cell_type": "code",
   "execution_count": 5,
   "id": "4a6d8f97-963c-4c11-b361-bdd92c15bb68",
   "metadata": {},
   "outputs": [
    {
     "name": "stdout",
     "output_type": "stream",
     "text": [
      "<class 'int'>\n",
      "<class 'bool'>\n",
      "False\n"
     ]
    }
   ],
   "source": [
    "# bool () - Converte para o tipo booleano\n",
    "valor = 0\n",
    "print (type(valor))\n",
    "\n",
    "valor = bool(0)\n",
    "print(type(valor))\n",
    "print (valor)"
   ]
  },
  {
   "cell_type": "code",
   "execution_count": 1,
   "id": "13f89cc2-d9fa-4763-8720-97390d2ac489",
   "metadata": {},
   "outputs": [
    {
     "name": "stdin",
     "output_type": "stream",
     "text": [
      "digite o 1 numero: 1\n",
      "digite o 2 numero: 2\n"
     ]
    },
    {
     "name": "stdout",
     "output_type": "stream",
     "text": [
      "Resultado: 3\n"
     ]
    }
   ],
   "source": [
    "# solução 1\n",
    "num1 = int(input('digite o 1 numero:'))\n",
    "num2 = int(input('digite o 2 numero:'))\n",
    "\n",
    "print(f'Resultado: {num1 + num2}')"
   ]
  },
  {
   "cell_type": "code",
   "execution_count": 3,
   "id": "20e8ec10-34c5-4a0f-bc8d-14bf6ef48c8f",
   "metadata": {},
   "outputs": [
    {
     "name": "stdin",
     "output_type": "stream",
     "text": [
      "digite o 1 numero: 1\n",
      "digite o 2 numero: 2\n"
     ]
    },
    {
     "name": "stdout",
     "output_type": "stream",
     "text": [
      "Resultado: 3\n"
     ]
    }
   ],
   "source": [
    "# solução 2\n",
    "num1 = input('digite o 1 numero:')\n",
    "num1 = int(num1)\n",
    "\n",
    "num2 = input('digite o 2 numero:')\n",
    "num2 = int(num2)\n",
    "\n",
    "print(f'Resultado: {num1 + num2}')"
   ]
  },
  {
   "cell_type": "code",
   "execution_count": 4,
   "id": "373fe854-9fbe-4d1d-83b3-dceb21c2d44e",
   "metadata": {},
   "outputs": [
    {
     "name": "stdin",
     "output_type": "stream",
     "text": [
      "digite o 1 numero: 4\n",
      "digite o 2 numero: 5\n"
     ]
    },
    {
     "name": "stdout",
     "output_type": "stream",
     "text": [
      "Resultado: 9\n"
     ]
    }
   ],
   "source": [
    "# solução 3\n",
    "num1 = input('digite o 1 numero:')\n",
    "\n",
    "num2 = input('digite o 2 numero:')\n",
    "\n",
    "print(f'Resultado: {int(num1) + int(num2)}')"
   ]
  },
  {
   "cell_type": "code",
   "execution_count": null,
   "id": "f88b94ba-2b9f-4948-998f-411546c5897e",
   "metadata": {},
   "outputs": [],
   "source": []
  }
 ],
 "metadata": {
  "kernelspec": {
   "display_name": "anaconda-2024.02-py310",
   "language": "python",
   "name": "conda-env-anaconda-2024.02-py310-py"
  },
  "language_info": {
   "codemirror_mode": {
    "name": "ipython",
    "version": 3
   },
   "file_extension": ".py",
   "mimetype": "text/x-python",
   "name": "python",
   "nbconvert_exporter": "python",
   "pygments_lexer": "ipython3",
   "version": "3.10.14"
  }
 },
 "nbformat": 4,
 "nbformat_minor": 5
}
