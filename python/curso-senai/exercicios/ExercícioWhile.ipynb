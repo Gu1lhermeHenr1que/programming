{
 "cells": [
  {
   "cell_type": "markdown",
   "id": "a55a1c33-9a5a-4214-b4fb-567fc561fa60",
   "metadata": {},
   "source": [
    "# <font color='OrangeRed'><center>Exercícios - Laço de repetição While</center></font>"
   ]
  },
  {
   "cell_type": "markdown",
   "id": "a7afefee-53de-44b4-b9b5-4572861f6960",
   "metadata": {},
   "source": [
    "### Exercício 01\n",
    "\n",
    "Crie uma variável e atribua a ela o valor 10, utilizando a instrução while crie um programa onde a cada iteração do loop seja incrementando +1 a variável, enquanto o valor da variável for menor ou igual a 20 continue executando."
   ]
  },
  {
   "cell_type": "code",
   "execution_count": 4,
   "id": "0a96d5a9-a863-4790-b8c3-0e4c2ba925b2",
   "metadata": {
    "execution": {
     "iopub.execute_input": "2025-06-07T12:45:37.630692Z",
     "iopub.status.busy": "2025-06-07T12:45:37.630140Z",
     "iopub.status.idle": "2025-06-07T12:45:37.634401Z",
     "shell.execute_reply": "2025-06-07T12:45:37.633907Z",
     "shell.execute_reply.started": "2025-06-07T12:45:37.630666Z"
    }
   },
   "outputs": [
    {
     "name": "stdout",
     "output_type": "stream",
     "text": [
      "10\n",
      "11\n",
      "12\n",
      "13\n",
      "14\n",
      "15\n",
      "16\n",
      "17\n",
      "18\n",
      "19\n",
      "20\n",
      "o Valor de x, chegou a 20\n"
     ]
    }
   ],
   "source": [
    "x = 10\n",
    "print(x)\n",
    "\n",
    "while x < 20:\n",
    "    x = x +1\n",
    "    print(x)\n",
    "\n",
    "print(f'o Valor de x, chegou a {x}')\n",
    "    \n",
    "\n"
   ]
  },
  {
   "cell_type": "markdown",
   "id": "e50652d8-3a09-4046-b286-e6cd4b2c0b32",
   "metadata": {},
   "source": [
    "---"
   ]
  },
  {
   "cell_type": "markdown",
   "id": "2fd35e37-3b7e-49f2-acbe-c818da01e2d9",
   "metadata": {},
   "source": [
    "### Exercício 02\n",
    "\n",
    "Utilizando a instrução while, crie um programa que pergunte ao usuário se ele deseja continuar no loop, enquanto o usuário não digitar a palavra 'não' continue executando o loop."
   ]
  },
  {
   "cell_type": "code",
   "execution_count": 5,
   "id": "a2db5c33-42bd-4f4d-a9c8-ce339e4df672",
   "metadata": {
    "execution": {
     "iopub.execute_input": "2025-06-07T12:54:56.493437Z",
     "iopub.status.busy": "2025-06-07T12:54:56.493145Z",
     "iopub.status.idle": "2025-06-07T12:55:04.661542Z",
     "shell.execute_reply": "2025-06-07T12:55:04.660971Z",
     "shell.execute_reply.started": "2025-06-07T12:54:56.493415Z"
    }
   },
   "outputs": [
    {
     "name": "stdin",
     "output_type": "stream",
     "text": [
      "voce deseja continuar o loop? sim\n",
      "voce deseja continuar o loop? sim\n",
      "voce deseja continuar o loop? sim\n",
      "voce deseja continuar o loop? nao\n"
     ]
    },
    {
     "name": "stdout",
     "output_type": "stream",
     "text": [
      "Fim. Loop = nao\n"
     ]
    }
   ],
   "source": [
    "loop = 'sim'\n",
    "\n",
    "while loop != 'nao':\n",
    "    loop = input('voce deseja continuar o loop?')\n",
    "\n",
    "print(f'Fim. Loop = {loop}')\n",
    "\n"
   ]
  },
  {
   "cell_type": "markdown",
   "id": "e620440b-cc5e-405f-99af-95232020dac2",
   "metadata": {},
   "source": [
    "---"
   ]
  },
  {
   "cell_type": "markdown",
   "id": "9bafa94b-0f3a-48c8-9ee2-40aba2a10143",
   "metadata": {},
   "source": [
    "### Exercício 03\n",
    "\n",
    "Crie uma variável e atribua a ela o valor 0, utilizando a instrução while crie um programa onde a cada iteração seja incrementando +5 a variável, enquanto o valor da variável for menor ou igual a 50 continue executando."
   ]
  },
  {
   "cell_type": "code",
   "execution_count": 8,
   "id": "63793dfc-e3a1-4f25-9764-e0d2b9730946",
   "metadata": {
    "execution": {
     "iopub.execute_input": "2025-06-07T12:59:45.159993Z",
     "iopub.status.busy": "2025-06-07T12:59:45.159705Z",
     "iopub.status.idle": "2025-06-07T12:59:45.164029Z",
     "shell.execute_reply": "2025-06-07T12:59:45.163526Z",
     "shell.execute_reply.started": "2025-06-07T12:59:45.159972Z"
    }
   },
   "outputs": [
    {
     "name": "stdout",
     "output_type": "stream",
     "text": [
      "5\n",
      "10\n",
      "15\n",
      "20\n",
      "25\n",
      "30\n",
      "35\n",
      "40\n",
      "45\n",
      "50\n"
     ]
    }
   ],
   "source": [
    "val = 0\n",
    "\n",
    "while val < 50:\n",
    "    if val == 50:\n",
    "        print(val)\n",
    "        break\n",
    "    val = val + 5\n",
    "    print(val)\n",
    "    \n",
    "    \n"
   ]
  },
  {
   "cell_type": "markdown",
   "id": "5a0d5e75-16d6-4513-964c-62ca1e32b479",
   "metadata": {},
   "source": [
    "---"
   ]
  },
  {
   "cell_type": "markdown",
   "id": "9a1da876-a633-43d1-9d71-3d9335a6e0ed",
   "metadata": {},
   "source": [
    "### Exercício 04\n",
    "\n",
    "Utilizando a instrução while, crie um programa que peça para o usuário digitar uma **vogal** e enquanto o usuário não digitar uma vogal continue executando o código."
   ]
  },
  {
   "cell_type": "code",
   "execution_count": 19,
   "id": "184e174b-3ef0-414c-901f-4c1f447cb770",
   "metadata": {
    "execution": {
     "iopub.execute_input": "2025-06-07T14:00:18.908006Z",
     "iopub.status.busy": "2025-06-07T14:00:18.907448Z",
     "iopub.status.idle": "2025-06-07T14:00:22.581467Z",
     "shell.execute_reply": "2025-06-07T14:00:22.580922Z",
     "shell.execute_reply.started": "2025-06-07T14:00:18.907980Z"
    }
   },
   "outputs": [
    {
     "name": "stdin",
     "output_type": "stream",
     "text": [
      "Informe uma letra: r\n"
     ]
    },
    {
     "name": "stdout",
     "output_type": "stream",
     "text": [
      "Voce digitou uma consoante\n"
     ]
    },
    {
     "name": "stdin",
     "output_type": "stream",
     "text": [
      "Informe uma letra t\n"
     ]
    },
    {
     "name": "stdout",
     "output_type": "stream",
     "text": [
      "Voce digitou uma consoante\n"
     ]
    },
    {
     "name": "stdin",
     "output_type": "stream",
     "text": [
      "Informe uma letra i\n"
     ]
    },
    {
     "name": "stdout",
     "output_type": "stream",
     "text": [
      "foi detectado uma vogal, \"i\"\n"
     ]
    }
   ],
   "source": [
    "letra = input('Informe uma letra:')\n",
    "vogais = ['a', 'e', 'i', 'o', 'u']\n",
    "\n",
    "while letra != \"a\" and letra != \"e\" and letra != \"i\" and letra != \"o\" and letra != \"u\":\n",
    "    print(f'Voce digitou uma consoante')\n",
    "    letra= input('Informe uma letra')\n",
    "\n",
    "print(f'foi detectado uma vogal, \"{letra}\"')"
   ]
  },
  {
   "cell_type": "markdown",
   "id": "a6deec0a-e737-4a96-9d15-76fbc5216253",
   "metadata": {},
   "source": [
    "---"
   ]
  },
  {
   "cell_type": "markdown",
   "id": "2f31bd8e-f02e-4630-a7f4-2c296ea6a2c4",
   "metadata": {},
   "source": [
    "### Exercício 05\n",
    "\n",
    "Utilizando a instrução while, crie um programa que peça para o usuário inserir um número inteiro e enquanto o usuário não inserir um valor **divisível por 3** continue executando o código."
   ]
  },
  {
   "cell_type": "code",
   "execution_count": 21,
   "id": "917e7b34-bc31-4556-8be9-d49d558e874f",
   "metadata": {
    "execution": {
     "iopub.execute_input": "2025-06-07T14:09:23.995758Z",
     "iopub.status.busy": "2025-06-07T14:09:23.995469Z",
     "iopub.status.idle": "2025-06-07T14:09:25.465901Z",
     "shell.execute_reply": "2025-06-07T14:09:25.465301Z",
     "shell.execute_reply.started": "2025-06-07T14:09:23.995737Z"
    }
   },
   "outputs": [
    {
     "name": "stdin",
     "output_type": "stream",
     "text": [
      "Informe um numerico: 3\n"
     ]
    },
    {
     "name": "stdout",
     "output_type": "stream",
     "text": [
      "fim\n"
     ]
    }
   ],
   "source": [
    "n = int(input('Informe um numerico:'))\n",
    "resto = n%3\n",
    "\n",
    "while resto != 0:\n",
    "    print(f\"O numero {n} n é divisil por 3\")\n",
    "    n = int(input('Informe um numerico:'))\n",
    "    resto = n%3\n",
    "\n",
    "print('fim')\n",
    "\n"
   ]
  },
  {
   "cell_type": "markdown",
   "id": "c174efc7-c12d-4173-b77f-e05c28d3cd52",
   "metadata": {},
   "source": [
    "---"
   ]
  },
  {
   "cell_type": "markdown",
   "id": "7426b6c3-b5f5-450e-9cfe-7c99974038ff",
   "metadata": {},
   "source": [
    "### Exercício 06\n",
    "\n",
    "Utilizando a instrução while, crie um programa que peça para o usuário inserir um número inteiro e enquanto o usuário inserir um valor **menor que 10 OU maior que 20** continue executando o código."
   ]
  },
  {
   "cell_type": "code",
   "execution_count": null,
   "id": "61ae61e0-7c11-4f43-bf3d-d89a74d11407",
   "metadata": {},
   "outputs": [],
   "source": [
    "\n",
    "n = int(input('Digite umnumero:'))\n",
    "\n",
    "while n < 10 or n >20:\n",
    "    print('O LOOP vai continuar')\n",
    "    n = int(input('digite um numero'))\n",
    "\n",
    "print('fim')\n"
   ]
  },
  {
   "cell_type": "markdown",
   "id": "b91fca52-ea24-474a-a953-c1f7d6ff622d",
   "metadata": {},
   "source": [
    "---"
   ]
  },
  {
   "cell_type": "markdown",
   "id": "8cded626-7d89-44a8-b5ba-9907722b6da1",
   "metadata": {},
   "source": [
    "### Exercício 07\n",
    "\n",
    "Utilizando a instrução while, crie um programa que peça para o usuário **'Digitar a senha de acesso'** e enquanto o usuário não digitar a palavra **'segredo'** continue executando o loop."
   ]
  },
  {
   "cell_type": "code",
   "execution_count": 22,
   "id": "a0aa84ff-cdc8-4944-94cd-586e7d589e8a",
   "metadata": {
    "execution": {
     "iopub.execute_input": "2025-06-07T14:16:17.517704Z",
     "iopub.status.busy": "2025-06-07T14:16:17.517415Z",
     "iopub.status.idle": "2025-06-07T14:17:03.097469Z",
     "shell.execute_reply": "2025-06-07T14:17:03.096860Z",
     "shell.execute_reply.started": "2025-06-07T14:16:17.517682Z"
    }
   },
   "outputs": [
    {
     "name": "stdin",
     "output_type": "stream",
     "text": [
      "digite a sua senha: 10\n"
     ]
    },
    {
     "name": "stdout",
     "output_type": "stream",
     "text": [
      "senha incorreta, tente novamente\n"
     ]
    },
    {
     "name": "stdin",
     "output_type": "stream",
     "text": [
      "digite a sua senha segredo\n"
     ]
    },
    {
     "name": "stdout",
     "output_type": "stream",
     "text": [
      "fim\n"
     ]
    }
   ],
   "source": [
    "senha = input('digite a sua senha:')\n",
    "\n",
    "while senha != 'segredo':\n",
    "    print('senha incorreta, tente novamente')\n",
    "    senha = input('digite a sua senha')\n",
    "\n",
    "print('fim')\n",
    "\n"
   ]
  },
  {
   "cell_type": "markdown",
   "id": "a9edd058-80ac-4172-9539-c16f6ebefbd2",
   "metadata": {},
   "source": [
    "---"
   ]
  },
  {
   "cell_type": "markdown",
   "id": "2731e88d-620b-4881-8b43-419ffe35e443",
   "metadata": {},
   "source": [
    "### Exercício 08\n",
    "\n",
    "Utilizando a instrução while, crie um programa que imprima 5 vezes a frase **'Programação em Python'**.\n",
    "\n",
    "**Dica:**  \n",
    "_Utilize um contador_"
   ]
  },
  {
   "cell_type": "code",
   "execution_count": null,
   "id": "e8ab5ad4-f3f7-43f0-a808-464b59c20726",
   "metadata": {},
   "outputs": [],
   "source": [
    "contador \n",
    "while \n",
    "\n"
   ]
  },
  {
   "cell_type": "markdown",
   "id": "da3fa10e-b2d2-4439-a151-58ebecdf91bd",
   "metadata": {},
   "source": [
    "---"
   ]
  },
  {
   "cell_type": "markdown",
   "id": "1586e09e-4614-488b-8d33-5dc8d5cc4588",
   "metadata": {
    "tags": []
   },
   "source": [
    "### Exercício 09\n",
    "\n",
    "Crie uma variável e atribua a ela uma lista vazia [], utilizando a instrução while faça um programa onde a cada iteração pergunte **'qual fruta o usuário deseja adicionar a lista'**, e enquanto a lista tiver menos que 5 frutas continue executando o código.  \n",
    "\n",
    "Após o fim do loop imprima os itens da lista."
   ]
  },
  {
   "cell_type": "code",
   "execution_count": 23,
   "id": "7abaac3b-e63c-4438-beb5-efb0e02ba727",
   "metadata": {
    "execution": {
     "iopub.execute_input": "2025-06-07T14:19:53.463493Z",
     "iopub.status.busy": "2025-06-07T14:19:53.463172Z",
     "iopub.status.idle": "2025-06-07T14:20:42.269013Z",
     "shell.execute_reply": "2025-06-07T14:20:42.268245Z",
     "shell.execute_reply.started": "2025-06-07T14:19:53.463464Z"
    },
    "tags": []
   },
   "outputs": [
    {
     "name": "stdin",
     "output_type": "stream",
     "text": [
      "Digite o nome de uma fruta limao\n",
      "Digite o nome de uma fruta maça\n",
      "Digite o nome de uma fruta banana\n",
      "Digite o nome de uma fruta abacaxi\n",
      "Digite o nome de uma fruta kiwi\n",
      "Digite o nome de uma fruta laranja\n"
     ]
    },
    {
     "ename": "KeyboardInterrupt",
     "evalue": "Interrupted by user",
     "output_type": "error",
     "traceback": [
      "\u001b[0;31m---------------------------------------------------------------------------\u001b[0m",
      "\u001b[0;31mKeyboardInterrupt\u001b[0m                         Traceback (most recent call last)",
      "Cell \u001b[0;32mIn[23], line 5\u001b[0m\n\u001b[1;32m      2\u001b[0m contador \u001b[38;5;241m=\u001b[39m \u001b[38;5;241m0\u001b[39m\n\u001b[1;32m      4\u001b[0m \u001b[38;5;28;01mwhile\u001b[39;00m contador \u001b[38;5;241m<\u001b[39m \u001b[38;5;241m5\u001b[39m:\n\u001b[0;32m----> 5\u001b[0m     fruta \u001b[38;5;241m=\u001b[39m \u001b[38;5;28minput\u001b[39m(\u001b[38;5;124m'\u001b[39m\u001b[38;5;124mDigite o nome de uma fruta\u001b[39m\u001b[38;5;124m'\u001b[39m)\n\u001b[1;32m      6\u001b[0m     contafor \u001b[38;5;241m=\u001b[39m contador \u001b[38;5;241m+\u001b[39m\u001b[38;5;241m1\u001b[39m\n\u001b[1;32m      8\u001b[0m \u001b[38;5;28mprint\u001b[39m(lista)\n",
      "File \u001b[0;32m/opt/conda/envs/anaconda-panel-2023.05-py310/lib/python3.11/site-packages/ipykernel/kernelbase.py:1202\u001b[0m, in \u001b[0;36mKernel.raw_input\u001b[0;34m(self, prompt)\u001b[0m\n\u001b[1;32m   1200\u001b[0m     msg \u001b[38;5;241m=\u001b[39m \u001b[38;5;124m\"\u001b[39m\u001b[38;5;124mraw_input was called, but this frontend does not support input requests.\u001b[39m\u001b[38;5;124m\"\u001b[39m\n\u001b[1;32m   1201\u001b[0m     \u001b[38;5;28;01mraise\u001b[39;00m StdinNotImplementedError(msg)\n\u001b[0;32m-> 1202\u001b[0m \u001b[38;5;28;01mreturn\u001b[39;00m \u001b[38;5;28mself\u001b[39m\u001b[38;5;241m.\u001b[39m_input_request(\n\u001b[1;32m   1203\u001b[0m     \u001b[38;5;28mstr\u001b[39m(prompt),\n\u001b[1;32m   1204\u001b[0m     \u001b[38;5;28mself\u001b[39m\u001b[38;5;241m.\u001b[39m_parent_ident[\u001b[38;5;124m\"\u001b[39m\u001b[38;5;124mshell\u001b[39m\u001b[38;5;124m\"\u001b[39m],\n\u001b[1;32m   1205\u001b[0m     \u001b[38;5;28mself\u001b[39m\u001b[38;5;241m.\u001b[39mget_parent(\u001b[38;5;124m\"\u001b[39m\u001b[38;5;124mshell\u001b[39m\u001b[38;5;124m\"\u001b[39m),\n\u001b[1;32m   1206\u001b[0m     password\u001b[38;5;241m=\u001b[39m\u001b[38;5;28;01mFalse\u001b[39;00m,\n\u001b[1;32m   1207\u001b[0m )\n",
      "File \u001b[0;32m/opt/conda/envs/anaconda-panel-2023.05-py310/lib/python3.11/site-packages/ipykernel/kernelbase.py:1245\u001b[0m, in \u001b[0;36mKernel._input_request\u001b[0;34m(self, prompt, ident, parent, password)\u001b[0m\n\u001b[1;32m   1242\u001b[0m \u001b[38;5;28;01mexcept\u001b[39;00m \u001b[38;5;167;01mKeyboardInterrupt\u001b[39;00m:\n\u001b[1;32m   1243\u001b[0m     \u001b[38;5;66;03m# re-raise KeyboardInterrupt, to truncate traceback\u001b[39;00m\n\u001b[1;32m   1244\u001b[0m     msg \u001b[38;5;241m=\u001b[39m \u001b[38;5;124m\"\u001b[39m\u001b[38;5;124mInterrupted by user\u001b[39m\u001b[38;5;124m\"\u001b[39m\n\u001b[0;32m-> 1245\u001b[0m     \u001b[38;5;28;01mraise\u001b[39;00m \u001b[38;5;167;01mKeyboardInterrupt\u001b[39;00m(msg) \u001b[38;5;28;01mfrom\u001b[39;00m \u001b[38;5;28;01mNone\u001b[39;00m\n\u001b[1;32m   1246\u001b[0m \u001b[38;5;28;01mexcept\u001b[39;00m \u001b[38;5;167;01mException\u001b[39;00m:\n\u001b[1;32m   1247\u001b[0m     \u001b[38;5;28mself\u001b[39m\u001b[38;5;241m.\u001b[39mlog\u001b[38;5;241m.\u001b[39mwarning(\u001b[38;5;124m\"\u001b[39m\u001b[38;5;124mInvalid Message:\u001b[39m\u001b[38;5;124m\"\u001b[39m, exc_info\u001b[38;5;241m=\u001b[39m\u001b[38;5;28;01mTrue\u001b[39;00m)\n",
      "\u001b[0;31mKeyboardInterrupt\u001b[0m: Interrupted by user"
     ]
    }
   ],
   "source": [
    "lista = []\n",
    "contador = 0\n",
    "\n",
    "while contador < 5:\n",
    "    fruta = input('Digite o nome de uma fruta')\n",
    "    lista.append(fruta)\n",
    "    contafor = contador +1\n",
    "\n",
    "print(lista)\n",
    "\n"
   ]
  },
  {
   "cell_type": "markdown",
   "id": "7aee4a32-8157-45a4-adb9-e519f941f353",
   "metadata": {},
   "source": [
    "---"
   ]
  },
  {
   "cell_type": "markdown",
   "id": "c423400e-5e2a-426d-86ed-5e29f6d351b9",
   "metadata": {},
   "source": [
    "### Exercício 10\n",
    "\n",
    "Utilizando a instrução while, crie um programa que peça para o usuário inserir um número inteiro e enquanto o usuário inserir um valor **maior ou igual a zero** continue executando o loop."
   ]
  },
  {
   "cell_type": "code",
   "execution_count": 26,
   "id": "5ef50124-40eb-43bd-8235-55d450ee0b5b",
   "metadata": {
    "execution": {
     "iopub.execute_input": "2025-06-07T14:25:21.156276Z",
     "iopub.status.busy": "2025-06-07T14:25:21.155970Z",
     "iopub.status.idle": "2025-06-07T14:25:41.984344Z",
     "shell.execute_reply": "2025-06-07T14:25:41.983625Z",
     "shell.execute_reply.started": "2025-06-07T14:25:21.156255Z"
    }
   },
   "outputs": [
    {
     "ename": "KeyboardInterrupt",
     "evalue": "Interrupted by user",
     "output_type": "error",
     "traceback": [
      "\u001b[0;31m---------------------------------------------------------------------------\u001b[0m",
      "\u001b[0;31mKeyboardInterrupt\u001b[0m                         Traceback (most recent call last)",
      "Cell \u001b[0;32mIn[26], line 1\u001b[0m\n\u001b[0;32m----> 1\u001b[0m n\u001b[38;5;241m=\u001b[39m \u001b[38;5;28mint\u001b[39m(\u001b[38;5;28minput\u001b[39m(\u001b[38;5;124m'\u001b[39m\u001b[38;5;124mdigite um numero inteiro\u001b[39m\u001b[38;5;124m'\u001b[39m))\n\u001b[1;32m      3\u001b[0m \u001b[38;5;28;01mwhile\u001b[39;00m n \u001b[38;5;241m>\u001b[39m\u001b[38;5;241m=\u001b[39m \u001b[38;5;241m0\u001b[39m:\n\u001b[1;32m      4\u001b[0m     \u001b[38;5;28mprint\u001b[39m(\u001b[38;5;124m'\u001b[39m\u001b[38;5;124mo loop vai continuar\u001b[39m\u001b[38;5;124m'\u001b[39m)\n",
      "File \u001b[0;32m/opt/conda/envs/anaconda-panel-2023.05-py310/lib/python3.11/site-packages/ipykernel/kernelbase.py:1202\u001b[0m, in \u001b[0;36mKernel.raw_input\u001b[0;34m(self, prompt)\u001b[0m\n\u001b[1;32m   1200\u001b[0m     msg \u001b[38;5;241m=\u001b[39m \u001b[38;5;124m\"\u001b[39m\u001b[38;5;124mraw_input was called, but this frontend does not support input requests.\u001b[39m\u001b[38;5;124m\"\u001b[39m\n\u001b[1;32m   1201\u001b[0m     \u001b[38;5;28;01mraise\u001b[39;00m StdinNotImplementedError(msg)\n\u001b[0;32m-> 1202\u001b[0m \u001b[38;5;28;01mreturn\u001b[39;00m \u001b[38;5;28mself\u001b[39m\u001b[38;5;241m.\u001b[39m_input_request(\n\u001b[1;32m   1203\u001b[0m     \u001b[38;5;28mstr\u001b[39m(prompt),\n\u001b[1;32m   1204\u001b[0m     \u001b[38;5;28mself\u001b[39m\u001b[38;5;241m.\u001b[39m_parent_ident[\u001b[38;5;124m\"\u001b[39m\u001b[38;5;124mshell\u001b[39m\u001b[38;5;124m\"\u001b[39m],\n\u001b[1;32m   1205\u001b[0m     \u001b[38;5;28mself\u001b[39m\u001b[38;5;241m.\u001b[39mget_parent(\u001b[38;5;124m\"\u001b[39m\u001b[38;5;124mshell\u001b[39m\u001b[38;5;124m\"\u001b[39m),\n\u001b[1;32m   1206\u001b[0m     password\u001b[38;5;241m=\u001b[39m\u001b[38;5;28;01mFalse\u001b[39;00m,\n\u001b[1;32m   1207\u001b[0m )\n",
      "File \u001b[0;32m/opt/conda/envs/anaconda-panel-2023.05-py310/lib/python3.11/site-packages/ipykernel/kernelbase.py:1245\u001b[0m, in \u001b[0;36mKernel._input_request\u001b[0;34m(self, prompt, ident, parent, password)\u001b[0m\n\u001b[1;32m   1242\u001b[0m \u001b[38;5;28;01mexcept\u001b[39;00m \u001b[38;5;167;01mKeyboardInterrupt\u001b[39;00m:\n\u001b[1;32m   1243\u001b[0m     \u001b[38;5;66;03m# re-raise KeyboardInterrupt, to truncate traceback\u001b[39;00m\n\u001b[1;32m   1244\u001b[0m     msg \u001b[38;5;241m=\u001b[39m \u001b[38;5;124m\"\u001b[39m\u001b[38;5;124mInterrupted by user\u001b[39m\u001b[38;5;124m\"\u001b[39m\n\u001b[0;32m-> 1245\u001b[0m     \u001b[38;5;28;01mraise\u001b[39;00m \u001b[38;5;167;01mKeyboardInterrupt\u001b[39;00m(msg) \u001b[38;5;28;01mfrom\u001b[39;00m \u001b[38;5;28;01mNone\u001b[39;00m\n\u001b[1;32m   1246\u001b[0m \u001b[38;5;28;01mexcept\u001b[39;00m \u001b[38;5;167;01mException\u001b[39;00m:\n\u001b[1;32m   1247\u001b[0m     \u001b[38;5;28mself\u001b[39m\u001b[38;5;241m.\u001b[39mlog\u001b[38;5;241m.\u001b[39mwarning(\u001b[38;5;124m\"\u001b[39m\u001b[38;5;124mInvalid Message:\u001b[39m\u001b[38;5;124m\"\u001b[39m, exc_info\u001b[38;5;241m=\u001b[39m\u001b[38;5;28;01mTrue\u001b[39;00m)\n",
      "\u001b[0;31mKeyboardInterrupt\u001b[0m: Interrupted by user"
     ]
    }
   ],
   "source": [
    "n= int(input('digite um numero inteiro'))\n",
    "\n",
    "while n >= 0:\n",
    "    print('o loop vai continuar')\n",
    "    n = int(input('digite um numero intiero:'))\n",
    "\n",
    "print('fim')\n",
    "\n"
   ]
  },
  {
   "cell_type": "markdown",
   "id": "e3a6c527-ccfc-457c-9400-002802de044b",
   "metadata": {},
   "source": [
    "---"
   ]
  },
  {
   "cell_type": "markdown",
   "id": "16d3fc53-96a9-4edf-8688-c23a60ab67ab",
   "metadata": {},
   "source": [
    "### Exercício 11\n",
    "\n",
    "Utilizando a instrução while, crie um programa que peça para o usuário **'Digitar um texto'** e enquanto o usuário digitar uma palavra com **menos que 6** caracteres continue executando o código."
   ]
  },
  {
   "cell_type": "code",
   "execution_count": null,
   "id": "38bb2a63-b5ee-49f5-ab8e-32ad0579a2e9",
   "metadata": {},
   "outputs": [],
   "source": [
    "palavra  = input('digite uma palavra')\n",
    "\n",
    "while len(palavra) < 6:\n",
    "    print('palavra incorreta')\n",
    "    palavra = input('digite uma palavra')\n",
    "\n",
    "print('fim')\n",
    "\n"
   ]
  },
  {
   "cell_type": "markdown",
   "id": "b277f9bd-6c08-4376-84ce-2366ecfcdcc3",
   "metadata": {},
   "source": [
    "---"
   ]
  },
  {
   "cell_type": "markdown",
   "id": "f9540547-db11-4bd1-8307-064b82f09c20",
   "metadata": {},
   "source": [
    "### Exercício 12\n",
    "\n",
    "Crie uma variável e atribua a ela o valor 0, utilizando a instrção while, crie um programa que peça para o usuário digitar um número inteiro e a cada vez que o usuário digitar um número some o valor informado a variável criada. \n",
    "\n",
    "Enquando a variável criada for **menor que 100** continue executando o código."
   ]
  },
  {
   "cell_type": "code",
   "execution_count": null,
   "id": "422e0260-d6d9-4930-9601-b39d209a43fd",
   "metadata": {
    "tags": []
   },
   "outputs": [],
   "source": [
    "contador = 0\n",
    "\n",
    "n = int(input('digite um numero'))\n",
    "contador = contador + n\n",
    "\n",
    "while contador <100:\n",
    "    n = int(input('digite um numero'))\n",
    "    contador = contador + n\n",
    "\n",
    "print('fim')\n",
    "\n"
   ]
  },
  {
   "cell_type": "markdown",
   "id": "d2f352c3-9a73-4042-986a-2710abbebf85",
   "metadata": {},
   "source": [
    "---"
   ]
  }
 ],
 "metadata": {
  "kernelspec": {
   "display_name": "anaconda-panel-2023.05-py310",
   "language": "python",
   "name": "conda-env-anaconda-panel-2023.05-py310-py"
  },
  "language_info": {
   "codemirror_mode": {
    "name": "ipython",
    "version": 3
   },
   "file_extension": ".py",
   "mimetype": "text/x-python",
   "name": "python",
   "nbconvert_exporter": "python",
   "pygments_lexer": "ipython3",
   "version": "3.11.5"
  }
 },
 "nbformat": 4,
 "nbformat_minor": 5
}
