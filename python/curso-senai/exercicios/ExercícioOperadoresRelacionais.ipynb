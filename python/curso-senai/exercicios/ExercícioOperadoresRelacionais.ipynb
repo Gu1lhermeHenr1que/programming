{
 "cells": [
  {
   "cell_type": "markdown",
   "id": "9ac59412-3145-490a-b0a9-f8f8cc8e7fe0",
   "metadata": {},
   "source": [
    "# <font color='OrangeRed'><center>Exercícios - Operadores Relacionais</center></font>"
   ]
  },
  {
   "cell_type": "markdown",
   "id": "a1dc3402-8b11-4578-abea-bfd76df423bb",
   "metadata": {
    "tags": []
   },
   "source": [
    "### Exercício 01\n",
    "\n",
    "Faça um programa que pergunte a idade do usuário:\n",
    "- Se a idade for maior ou igual a 18 anos retorne 'Você é maior de idade.'\n",
    "- Senão retorne 'Você é menor de idade.'"
   ]
  },
  {
   "cell_type": "code",
   "execution_count": 3,
   "id": "da43a36d-ddb8-4030-9b50-afee9e141d7c",
   "metadata": {},
   "outputs": [
    {
     "name": "stdin",
     "output_type": "stream",
     "text": [
      "Informe a suaidade: 20\n"
     ]
    },
    {
     "name": "stdout",
     "output_type": "stream",
     "text": [
      "Voce é maior de idade.\n"
     ]
    }
   ],
   "source": [
    "idade = int(input('Informe a suaidade:'))\n",
    "\n",
    "if idade >= 18:\n",
    "    print('Voce é maior de idade.')\n",
    "else:\n",
    "    print('Voce é menor de idade.')\n"
   ]
  },
  {
   "cell_type": "markdown",
   "id": "53ca12b7-4b4b-4137-ae90-e987f006ffc8",
   "metadata": {},
   "source": [
    "---"
   ]
  },
  {
   "cell_type": "markdown",
   "id": "ebc14d7a-cd4a-456b-837f-3fcdaac8cdfc",
   "metadata": {},
   "source": [
    "### Exercício 02\n",
    "\n",
    "Usando a conficional If, faça um programa que peça um número ao usuário e em seguida retorne uma das condições abaixo:\n",
    "- Se o número for maior do que zero retorne 'O número é positivo.'\n",
    "- Se o número for igual a zero retorne 'O número é neutro.'\n",
    "- Se o número for menor do que zero retorne 'O número é negativo.'"
   ]
  },
  {
   "cell_type": "code",
   "execution_count": 8,
   "id": "5ea33518-0325-462a-aac4-4f37295278db",
   "metadata": {},
   "outputs": [
    {
     "name": "stdin",
     "output_type": "stream",
     "text": [
      "Infome um valor aleatório, inclusive negativo: -9\n"
     ]
    },
    {
     "name": "stdout",
     "output_type": "stream",
     "text": [
      "O numero é negativo.\n"
     ]
    }
   ],
   "source": [
    "numero = float(input('Infome um valor aleatório, inclusive negativo:'))\n",
    "\n",
    "if numero == 0:\n",
    "    print('O numero é neutro')\n",
    "if numero > 0:\n",
    "    print('O numero é positivo.')\n",
    "if numero < 0:\n",
    "    print('O numero é negativo.')\n"
   ]
  },
  {
   "cell_type": "markdown",
   "id": "57c4de84-49bb-423b-97c2-35c2db28be31",
   "metadata": {},
   "source": [
    "---"
   ]
  },
  {
   "cell_type": "markdown",
   "id": "d3da91c1-1159-4ef7-a7e6-abb5003b5836",
   "metadata": {},
   "source": [
    "### Exercício 03\n",
    "\n",
    "Usando a condicioal If, faça um programa que verifique a letra digita pelo usuário:\n",
    "- Se a letra for igual a 'F' retorne 'Feminino'\n",
    "- Se a letra for igual a 'M' retorne 'Masculino'\n",
    "- Qualquer outra letra retorne 'Sexo inválido'\n"
   ]
  },
  {
   "cell_type": "code",
   "execution_count": 13,
   "id": "c71775fc-08ed-4b22-a164-2acd2ef7eab1",
   "metadata": {},
   "outputs": [
    {
     "name": "stdin",
     "output_type": "stream",
     "text": [
      "Informe o seu sexo: g\n"
     ]
    },
    {
     "name": "stdout",
     "output_type": "stream",
     "text": [
      "Sexo invalido\n"
     ]
    }
   ],
   "source": [
    "sexo = str(input('Informe o seu sexo:'))\n",
    "\n",
    "if sexo == 'F':\n",
    "    print('Feminino')\n",
    "elif sexo == 'M':\n",
    "    print('Masculino')\n",
    "else:\n",
    "    print('Sexo invalido')"
   ]
  },
  {
   "cell_type": "markdown",
   "id": "6eef26a1-6ea3-429f-b878-0a1f84cafb9d",
   "metadata": {},
   "source": [
    "---"
   ]
  },
  {
   "cell_type": "markdown",
   "id": "989aa1a6-f556-4c6b-b64d-bc8a4bfaaab4",
   "metadata": {},
   "source": [
    "### Exercício 04\n",
    "\n",
    "Escreva um programa que receba dois números, sendo um número de cada vez e em seguida crie a condição abaixo:\n",
    "- Se a soma dos dois números for igual a 10 retorne 'A soma dos dois números é igual a 10'\n",
    "- Senão retorne 'A soma dos dois números é diferente de 10'"
   ]
  },
  {
   "cell_type": "code",
   "execution_count": 17,
   "id": "5024a926-dda9-4285-9914-d6a33bcccd15",
   "metadata": {},
   "outputs": [
    {
     "name": "stdin",
     "output_type": "stream",
     "text": [
      "Informe o primeiro numero: 5.5\n",
      "Informe o segundo numero: 4.5\n"
     ]
    },
    {
     "name": "stdout",
     "output_type": "stream",
     "text": [
      "A soma dos dois números é igual a 10\n"
     ]
    }
   ],
   "source": [
    "n1 = float(input('Informe o primeiro numero:'))\n",
    "n2 = float(input('Informe o segundo numero:'))\n",
    "n3 = n1 + n2\n",
    "\n",
    "if n3 == 10:\n",
    "    print('A soma dos dois números é igual a 10')\n",
    "else:\n",
    "    print('A soma dos dois números NÃO é igual a 10')"
   ]
  },
  {
   "cell_type": "markdown",
   "id": "5710113c-8795-49a7-8134-4be57c465f8b",
   "metadata": {},
   "source": [
    "---"
   ]
  },
  {
   "cell_type": "markdown",
   "id": "c36f5fd6-c192-45cf-af91-603a434899b7",
   "metadata": {},
   "source": [
    "### Exercício 05\n",
    "\n",
    "Usando a conficional If, faça um programa que peça dois números ao usuário e retorne uma das condições abaixo:\n",
    "- Se o 1º número for maior que o 2º número retorne 'O 1º número é maior que 2º número'\n",
    "- Se o 1º número for menor que o 2º número retorne 'O 1º número é menor que 2º número'\n",
    "- Se o 1º número for igual ao 2º número retorne 'O 1º número é igual ao 2º número'"
   ]
  },
  {
   "cell_type": "code",
   "execution_count": 20,
   "id": "ed136817-6e36-4821-8a63-bf6bda62badc",
   "metadata": {},
   "outputs": [
    {
     "name": "stdin",
     "output_type": "stream",
     "text": [
      "Informe um numero: 10\n",
      "Informe um numero: 2\n"
     ]
    },
    {
     "name": "stdout",
     "output_type": "stream",
     "text": [
      "O primeiro numero é maior que o segundo numero\n"
     ]
    }
   ],
   "source": [
    "n1 = float(input('Informe um numero:'))\n",
    "n2 = float(input('Informe um numero:'))\n",
    "\n",
    "if n1 == n2:\n",
    "    print('O primerio numero é igual ao segundo numero')\n",
    "elif n1 > n2:\n",
    "    print('O primeiro numero é maior que o segundo numero')\n",
    "else:\n",
    "    print('O primeiro numero é menor que o segundo numero')"
   ]
  },
  {
   "cell_type": "markdown",
   "id": "bec4c324-e081-49f5-9637-a04f049d7cc4",
   "metadata": {},
   "source": [
    "---"
   ]
  },
  {
   "cell_type": "markdown",
   "id": "15a0fb6a-8fb9-4591-b1f2-16ab84a940b9",
   "metadata": {},
   "source": [
    "### Exercício 06\n",
    "\n",
    "Escreva um programa que verifique a validade de uma senha fornecida pelo usuário.  \n",
    "A senha correta é o número '1234', dependendo da entrada do usuário imprima as seguintes mensagens:\n",
    "\n",
    "- ACESSO PERMITIDO, caso a senha seja válida.\n",
    "- ACESSO NEGADO, caso a senha seja inválida."
   ]
  },
  {
   "cell_type": "code",
   "execution_count": 23,
   "id": "8ba3d275-3b13-4b62-bcf5-0573b730c978",
   "metadata": {},
   "outputs": [
    {
     "name": "stdin",
     "output_type": "stream",
     "text": [
      "Informe a senha para ter acesso: 1234\n"
     ]
    },
    {
     "name": "stdout",
     "output_type": "stream",
     "text": [
      "ACESSO PERMITIDO\n"
     ]
    }
   ],
   "source": [
    "senha = '1234'\n",
    "senha_user = str(input('Informe a senha para ter acesso:'))\n",
    "\n",
    "if senha_user == senha:\n",
    "    print('ACESSO PERMITIDO')\n",
    "else:\n",
    "    print('ACESSO NEGADO')"
   ]
  },
  {
   "cell_type": "markdown",
   "id": "22a5db7a-3fce-4dd5-9a83-218807aec4a6",
   "metadata": {},
   "source": [
    "---"
   ]
  },
  {
   "cell_type": "markdown",
   "id": "fd325872-9f9c-4f5f-bef0-6c059637fae7",
   "metadata": {},
   "source": [
    "### Exercício 07\n",
    "\n",
    "Escreva um programa que peça para o usuário digitar uma senha, em seguida peça para ele confirmar a senha digitada. Em seguida crie a condição abaixo:\n",
    "\n",
    "- SENHA CORRETA, caso ele tenha digitado a mesma senha duas vezes.\n",
    "- SENHA INCORRETA, caso ele tenha digitado senhas diferentes."
   ]
  },
  {
   "cell_type": "code",
   "execution_count": 25,
   "id": "43e286ca-5d23-4cf9-a973-79da785be638",
   "metadata": {},
   "outputs": [
    {
     "name": "stdin",
     "output_type": "stream",
     "text": [
      "Informe a senha para ter acesso: 1234\n",
      "Informe a novamente senha para confirmar: 1234\n"
     ]
    },
    {
     "name": "stdout",
     "output_type": "stream",
     "text": [
      "SENHA CORRETA\n"
     ]
    }
   ],
   "source": [
    "senha_user = str(input('Informe a senha para ter acesso:'))\n",
    "senha_user_confirmar = str(input('Informe a novamente senha para confirmar:'))\n",
    "\n",
    "\n",
    "if senha_user == senha_user_confirmar:\n",
    "    print('SENHA CORRETA')\n",
    "else:\n",
    "    print('SENHA INCORRETA')\n",
    "\n"
   ]
  },
  {
   "cell_type": "markdown",
   "id": "91362d09-5bf1-462a-b07f-6cfaacfb0920",
   "metadata": {},
   "source": [
    "---"
   ]
  },
  {
   "cell_type": "markdown",
   "id": "da521ccf-fffd-42e9-963a-c187fb1e9d7d",
   "metadata": {},
   "source": [
    "### Exercício 08\n",
    "\n",
    "Escreva um programa que pergunte a nota final do aluno e em seguida crie a condição abaixo:\n",
    "\n",
    "- Caso a nota final for maior ou igual a 5 retorne 'Você está aprovado.'\n",
    "- Caso a nota final for menor a 5 retorne 'Você está reprovado."
   ]
  },
  {
   "cell_type": "code",
   "execution_count": 28,
   "id": "ae0f3834-c307-485f-bc8f-c7916b22d1a6",
   "metadata": {},
   "outputs": [
    {
     "name": "stdin",
     "output_type": "stream",
     "text": [
      "Informe a sua nota final: 10\n"
     ]
    },
    {
     "name": "stdout",
     "output_type": "stream",
     "text": [
      "Voce esta aprovado\n"
     ]
    }
   ],
   "source": [
    "nota_final = float(input('Informe a sua nota final:'))\n",
    "\n",
    "if nota_final >= 5:\n",
    "    print('Voce esta aprovado')\n",
    "else:\n",
    "    print('Voce esta reprovado')"
   ]
  },
  {
   "cell_type": "markdown",
   "id": "46536cf8-f4d8-4594-8e54-f65c2b5668b3",
   "metadata": {},
   "source": [
    "---"
   ]
  },
  {
   "cell_type": "markdown",
   "id": "35e88cc0-4ce7-487a-a029-0ffd9e548574",
   "metadata": {},
   "source": [
    "### Exercício 09\n",
    "\n",
    "Escreva um programa que peça dois números inteiros ao usuário e em seguida crie a condição abaixo:\n",
    "\n",
    "- Caso os números sejam iguais retorne 'Os números digitados são iguais'\n",
    "- Caso os números sejam diferentes retorne 'Os números digitados são diferentes'"
   ]
  },
  {
   "cell_type": "code",
   "execution_count": 33,
   "id": "e60a7fda-7d63-422a-9c49-5c66a15d48a6",
   "metadata": {},
   "outputs": [
    {
     "name": "stdin",
     "output_type": "stream",
     "text": [
      "Informe um numero inteiro: 5\n",
      "Informe mais um numero inteiro: 6\n"
     ]
    },
    {
     "name": "stdout",
     "output_type": "stream",
     "text": [
      "Os numeros digitados são diferentes\n"
     ]
    }
   ],
   "source": [
    "n1 = int(input('Informe um numero inteiro:'))\n",
    "n2 = int(input('Informe mais um numero inteiro:'))\n",
    "\n",
    "if n1 == n2:\n",
    "    print('Os numero digitados são iguais')\n",
    "else:\n",
    "    print('Os numeros digitados são diferentes')"
   ]
  },
  {
   "cell_type": "markdown",
   "id": "0dd116ea-8b58-4e73-a7b5-a96fc2842fb7",
   "metadata": {},
   "source": [
    "---"
   ]
  },
  {
   "cell_type": "markdown",
   "id": "6cc99926-a9bb-44b1-a918-55e41e3c16f2",
   "metadata": {},
   "source": [
    "### Exercício 10\n",
    "\n",
    "Faça um programa que peça para o usuário informar o salário dele e o total gasto, em seguida faça a diferença entre eles para obter o saldo.\n",
    "\n",
    "- Se o saldo for maior ou igual a 'zero' retorne 'Gastos dentro do orçamento.'\n",
    "- Senão retorne 'Orçamento estourado.'"
   ]
  },
  {
   "cell_type": "code",
   "execution_count": 39,
   "id": "c9264b79-e7ec-4e01-b1f5-adacf2890e2e",
   "metadata": {},
   "outputs": [
    {
     "name": "stdin",
     "output_type": "stream",
     "text": [
      "Informe o seu salario: 1000\n",
      "Informe o total gastos: 1000\n"
     ]
    },
    {
     "name": "stdout",
     "output_type": "stream",
     "text": [
      "Gastos dentro do orçamento.\n"
     ]
    }
   ],
   "source": [
    "salario = float(input('Informe o seu salario:'))\n",
    "gastos = float(input('Informe o total gastos:'))\n",
    "\n",
    "saldo_final = salario - gastos\n",
    "\n",
    "if saldo_final >= 0:\n",
    "    print('Gastos dentro do orçamento.')\n",
    "else:\n",
    "    print('Orçamento estourado')\n"
   ]
  },
  {
   "cell_type": "markdown",
   "id": "65652586-8b0c-4eac-85ca-4f12f0f950e3",
   "metadata": {},
   "source": [
    "---"
   ]
  },
  {
   "cell_type": "markdown",
   "id": "bddd37b4-d842-4fee-8aa1-c6e44231f87a",
   "metadata": {},
   "source": [
    "### Exercício 11\n",
    "\n",
    "Faça um programa que peça para o usuário em qual idioma ele deseja ser recebido de acordo com o número informado, sendo:\n",
    "- Digitando **1** retorne o texto em Espanhol: **Bienvenido**\n",
    "- Digitando **2** retorne o texto em Francês: **Bienvenue**\n",
    "- Digitando **3** retorne o texto em Português: **Bem-Vindo**\n",
    "- Digitando **4** retorne o texto em Inglês: **Welcome**\n",
    "- Digitando qualquer outro valor retorne: **Código inválido**"
   ]
  },
  {
   "cell_type": "code",
   "execution_count": 44,
   "id": "54960b7a-c42e-4b55-ba66-559df33c793a",
   "metadata": {},
   "outputs": [
    {
     "name": "stdout",
     "output_type": "stream",
     "text": [
      "Informe em qual idioma voce deseja ser recebido:\n"
     ]
    },
    {
     "name": "stdin",
     "output_type": "stream",
     "text": [
      " 1 = Espanhol, 2 = Francês, 3 = Portugues, 4 = Ingles 6\n"
     ]
    },
    {
     "name": "stdout",
     "output_type": "stream",
     "text": [
      "Código invalido\n"
     ]
    }
   ],
   "source": [
    "print('Informe em qual idioma voce deseja ser recebido:')\n",
    "idioma = int(input(' 1 = Espanhol, 2 = Francês, 3 = Portugues, 4 = Ingles'))\n",
    "\n",
    "if idioma == 1:\n",
    "    print('Espanhol: Bienvenido')\n",
    "elif idioma == 2:\n",
    "    print('Francês: Bienvenue')\n",
    "elif idioma == 3:\n",
    "    print('Português: Bem-Vindo')    \n",
    "elif idioma == 4:\n",
    "    print('Inglês: Welcome')\n",
    "else:\n",
    "    print('Código invalido')"
   ]
  },
  {
   "cell_type": "markdown",
   "id": "2e05b874-4885-4bfc-ba23-577cacfae094",
   "metadata": {},
   "source": [
    "---"
   ]
  },
  {
   "cell_type": "markdown",
   "id": "484ff688-addc-415f-b122-27d1df5c1669",
   "metadata": {},
   "source": [
    "### Exercício 12\n",
    "\n",
    "Crie um programa que pergunte uma cor do semáforo para o usuário e em seguida retorne uma das condições abaixo:\n",
    "* Se a cor for igual a **VERDE** retorne 'Siga em frente'\n",
    "* Se a cor for igual a **AMARELO** retorne 'Atenção'\n",
    "* Se a cor for igual a **VERMELHO** retorne 'Pare o carro'\n",
    "* Para qualquer outro valor retorne 'Sinal inválido'"
   ]
  },
  {
   "cell_type": "code",
   "execution_count": 48,
   "id": "b1adbe4e-fbe4-4fb1-913b-7274bc9e96a5",
   "metadata": {},
   "outputs": [
    {
     "name": "stdin",
     "output_type": "stream",
     "text": [
      "Informe a cor do semaforo AZUL\n"
     ]
    },
    {
     "name": "stdout",
     "output_type": "stream",
     "text": [
      "Sinal invalido\n"
     ]
    }
   ],
   "source": [
    "semaforo = str(input('Informe a cor do semaforo'))\n",
    "\n",
    "if semaforo == 'VERDE':\n",
    "    print('Siga em frente')\n",
    "elif semaforo == 'AMARELO':\n",
    "    print('Atenção')\n",
    "elif semaforo == 'VERMELHO':\n",
    "    print('Pare o carro')\n",
    "else:\n",
    "    print('Sinal invalido')"
   ]
  },
  {
   "cell_type": "markdown",
   "id": "deedfc22-31ef-47f8-999b-879696d91208",
   "metadata": {},
   "source": [
    "---"
   ]
  }
 ],
 "metadata": {
  "kernelspec": {
   "display_name": "anaconda-2022.05-py39",
   "language": "python",
   "name": "conda-env-anaconda-2022.05-py39-py"
  },
  "language_info": {
   "codemirror_mode": {
    "name": "ipython",
    "version": 3
   },
   "file_extension": ".py",
   "mimetype": "text/x-python",
   "name": "python",
   "nbconvert_exporter": "python",
   "pygments_lexer": "ipython3",
   "version": "3.9.12"
  }
 },
 "nbformat": 4,
 "nbformat_minor": 5
}
