{
 "cells": [
  {
   "cell_type": "markdown",
   "id": "7480272d-de8f-49a4-926f-bf7608c5c6ce",
   "metadata": {},
   "source": [
    "# <font color='OrangeRed'><center>Exercícios - Operadores Aritméticos</center></font>"
   ]
  },
  {
   "cell_type": "markdown",
   "id": "415d7594-85c3-41bc-8288-557653756e50",
   "metadata": {},
   "source": [
    "### Exercício 01\n",
    "\n",
    "Escreva um programa que receba um número do usuário e em seguida imprima o número informado multiplicado por 5."
   ]
  },
  {
   "cell_type": "code",
   "execution_count": 1,
   "id": "225f01c3-a241-405f-8ec8-c52db1b6935e",
   "metadata": {},
   "outputs": [
    {
     "name": "stdin",
     "output_type": "stream",
     "text": [
      "Informe um valor para o calculo de multiplicação por 5: 5\n"
     ]
    },
    {
     "name": "stdout",
     "output_type": "stream",
     "text": [
      "O resultado da multiplicação com os valores 5 (do sistema) e 5 (informado pelo usuario, foi : 25\n"
     ]
    }
   ],
   "source": [
    "multiplicador = 5\n",
    "numero = int(input(f'Informe um valor para o calculo de multiplicação por {multiplicador}:'))\n",
    "\n",
    "resultado = (multiplicador * numero)\n",
    "\n",
    "print(f'O resultado da multiplicação com os valores {multiplicador} (do sistema) e {numero} (informado pelo usuario, foi : {resultado}')"
   ]
  },
  {
   "cell_type": "markdown",
   "id": "f393f0a7-0d92-4126-8257-138f851ae415",
   "metadata": {},
   "source": [
    "---"
   ]
  },
  {
   "cell_type": "markdown",
   "id": "7597f154-ddb4-4e4b-8324-11d479d2d4e7",
   "metadata": {},
   "source": [
    "### Exercício 02\n",
    "\n",
    "Escreva um programa que receba dois números, sendo um número de cada vez e em seguida imprima a soma dos números informados."
   ]
  },
  {
   "cell_type": "code",
   "execution_count": 3,
   "id": "f2835437-8ebc-4626-961f-3ef705c40333",
   "metadata": {},
   "outputs": [
    {
     "name": "stdin",
     "output_type": "stream",
     "text": [
      "Informe um valor para realizar a soma:  10\n",
      "Informe mais um segundo valor para realizar a soma:  9\n"
     ]
    },
    {
     "name": "stdout",
     "output_type": "stream",
     "text": [
      "O resultado da soma entre os valores: 10 e 9, é: 19\n"
     ]
    }
   ],
   "source": [
    "num1 = int(input('Informe um valor para realizar a soma: '))\n",
    "num2 = int(input('Informe mais um segundo valor para realizar a soma: '))\n",
    "\n",
    "print(f'O resultado da soma entre os valores: {num1} e {num2}, é: {num1 + num2}')"
   ]
  },
  {
   "cell_type": "markdown",
   "id": "8fc0df85-c0b3-4f53-b40e-9735c3e5f4ff",
   "metadata": {},
   "source": [
    "---"
   ]
  },
  {
   "cell_type": "markdown",
   "id": "e55ef877-7e90-4c67-a8ab-3930bc68c5ed",
   "metadata": {},
   "source": [
    "### Exercício 03\n",
    "\n",
    "Escreva um programa que receba dois números, sendo um número de cada vez e em seguida imprima a subtração dos números informados."
   ]
  },
  {
   "cell_type": "code",
   "execution_count": 4,
   "id": "43c8304d-ee14-4428-b598-a312e09d4244",
   "metadata": {},
   "outputs": [
    {
     "name": "stdin",
     "output_type": "stream",
     "text": [
      "Informe um valor para realizar uma subtração:  10\n",
      "Informe mais um segundo valor para realizar a subtração:  7\n"
     ]
    },
    {
     "name": "stdout",
     "output_type": "stream",
     "text": [
      "O resultado da soma entre os valores: 10 e 7, é: 3\n"
     ]
    }
   ],
   "source": [
    "num1 = int(input('Informe um valor para realizar uma subtração: '))\n",
    "num2 = int(input('Informe mais um segundo valor para realizar a subtração: '))\n",
    "\n",
    "num3 = num1 - num2\n",
    "\n",
    "print(f'O resultado da soma entre os valores: {num1} e {num2}, é: {num3}')"
   ]
  },
  {
   "cell_type": "markdown",
   "id": "9142530a-1500-4382-ac27-32d02d3a5622",
   "metadata": {},
   "source": [
    "---"
   ]
  },
  {
   "cell_type": "markdown",
   "id": "d31342cb-6901-48dc-aedb-5a95e94b4aca",
   "metadata": {},
   "source": [
    "### Exercício 04\n",
    "\n",
    "Crie o algoritmo abaixo:\n",
    "1. Peça 4 notas bimestrais ao usuário, sendo uma variável para cada nota.\n",
    "1. Some as quatro notas.\n",
    "1. Imprima a média aritmética, ou seja, divida a soma das 4 notas por 4."
   ]
  },
  {
   "cell_type": "code",
   "execution_count": 3,
   "id": "e2e37afc-1959-46fb-81b7-520848d496c9",
   "metadata": {},
   "outputs": [
    {
     "name": "stdin",
     "output_type": "stream",
     "text": [
      "Informe sua primeira nota:  1\n",
      "Informe sua segunda nota:  10\n",
      "Informe sua terceira nota:  5\n",
      "Informe sua quarta nota:  5\n"
     ]
    },
    {
     "name": "stdout",
     "output_type": "stream",
     "text": [
      "A Média das duas 4 notas, é o valor 5.25\n"
     ]
    }
   ],
   "source": [
    "nota1 = int(input('Informe sua primeira nota: '))\n",
    "nota2 = int(input('Informe sua segunda nota: '))\n",
    "nota3 = int(input('Informe sua terceira nota: '))\n",
    "nota4 = int(input('Informe sua quarta nota: '))\n",
    "\n",
    "media = (nota1 +  nota2 + nota3 + nota4) / 4\n",
    "\n",
    "print(f'A Média das duas 4 notas, é o valor {media}')"
   ]
  },
  {
   "cell_type": "markdown",
   "id": "acf9b35c-d29f-41ba-99ad-1a70a72626e8",
   "metadata": {},
   "source": [
    "---"
   ]
  },
  {
   "cell_type": "markdown",
   "id": "99495f74-4a49-486f-8fa0-56e58f036163",
   "metadata": {},
   "source": [
    "### Exercício 05\n",
    "\n",
    "Escreva um programa que receba um valor em metros e em seguida \n",
    "exiba para o usuário o valor convertido em centímetros.\n",
    "\n",
    "**_Formúla:_**<br>\n",
    "_1 Metro = 100 Centímetros_"
   ]
  },
  {
   "cell_type": "code",
   "execution_count": 4,
   "id": "b58d23a3-75f4-4815-92b4-709d77c78d8e",
   "metadata": {},
   "outputs": [
    {
     "name": "stdin",
     "output_type": "stream",
     "text": [
      "Por gentileza, informe um valor inteiro para uma quatidade de metros: 2\n"
     ]
    },
    {
     "name": "stdout",
     "output_type": "stream",
     "text": [
      "Para a quantidade de metros 2, é igual a seguinte quantidade em centimetros 200\n"
     ]
    }
   ],
   "source": [
    "metros = int(input('Por gentileza, informe um valor inteiro para uma quatidade de metros:'))\n",
    "\n",
    "centimetros = metros * 100\n",
    "\n",
    "print(f'Para a quantidade de metros {metros}, é igual a seguinte quantidade em centimetros {centimetros}')"
   ]
  },
  {
   "cell_type": "markdown",
   "id": "bfe32fb3-6d3f-4b91-906b-165b1cf84910",
   "metadata": {},
   "source": [
    "---"
   ]
  },
  {
   "cell_type": "markdown",
   "id": "aeb7cc33-bc2a-491a-821d-6051d673f102",
   "metadata": {},
   "source": [
    "### Exercício 06\n",
    "\n",
    "Escreva um programa que receba um valor em centímetros e em seguida \n",
    "exiba para o usuário o valor convertido em metros.\n",
    "\n",
    "**_Formúla:_**<br>\n",
    "_100 Centímetros = 1 Metro_"
   ]
  },
  {
   "cell_type": "code",
   "execution_count": 5,
   "id": "ecfda305-93ac-4bd2-ad5c-f8c20971e05e",
   "metadata": {},
   "outputs": [
    {
     "name": "stdin",
     "output_type": "stream",
     "text": [
      "Por gentileza, informe um valor inteiro para uma quatidade de centimetros: 300\n"
     ]
    },
    {
     "name": "stdout",
     "output_type": "stream",
     "text": [
      "Para a quantidade de centimetros 300, é igual a seguinte quantidade em metros 3.0\n"
     ]
    }
   ],
   "source": [
    "centimetros = int(input('Por gentileza, informe um valor inteiro para uma quatidade de centimetros:'))\n",
    "\n",
    "metros = centimetros / 100\n",
    "\n",
    "print(f'Para a quantidade de centimetros {centimetros}, é igual a seguinte quantidade em metros {metros}')\n",
    "\n"
   ]
  },
  {
   "cell_type": "markdown",
   "id": "321c490c-6fae-456e-8b99-a1552aa35706",
   "metadata": {},
   "source": [
    "---"
   ]
  },
  {
   "cell_type": "markdown",
   "id": "d068a3a3-c074-4fa9-873e-e90fdab642aa",
   "metadata": {},
   "source": [
    "### Exercício 07\n",
    "\n",
    "Faça um programa que peça o ano de nascimento do usuário e retorne quantos anos eles tem.\n",
    "\n",
    "**Observação:**  \n",
    "_Considere que o usuário já fez aniversário este ano, exemplo:_  \n",
    "_Se o ano atual for 2024 e o usuário nasceu no ano 2004 retorne 20 anos de idade!_"
   ]
  },
  {
   "cell_type": "code",
   "execution_count": 8,
   "id": "96d5f9ec-79ce-4b56-abc7-7ed8cd70dd77",
   "metadata": {},
   "outputs": [
    {
     "name": "stdin",
     "output_type": "stream",
     "text": [
      "Informe o ano do seu nascimento: 1950\n"
     ]
    },
    {
     "name": "stdout",
     "output_type": "stream",
     "text": [
      "Segundo o calculo, considerando que o ano atual é 2025, e que voce ja fez aniversario esse ano, sua idade é 75\n"
     ]
    }
   ],
   "source": [
    "ano_nasc = int(input('Informe o ano do seu nascimento:'))\n",
    "ano_atual = 2025\n",
    "idade = ano_atual - ano_nasc\n",
    "\n",
    "print(f'Segundo o calculo, considerando que o ano atual é {ano_atual}, e que voce ja fez aniversario esse ano, sua idade é {idade}')"
   ]
  },
  {
   "cell_type": "markdown",
   "id": "dc6a9623-b74a-4993-ab96-ef5cdaff1555",
   "metadata": {},
   "source": [
    "---"
   ]
  },
  {
   "cell_type": "markdown",
   "id": "4317e942-20cb-4a87-bda3-f8b0f66669c0",
   "metadata": {},
   "source": [
    "### Exercício 08\n",
    "\n",
    "Escreva um programa que peça um número ao usuário e em seguida retorne o valor ao quadrado.\n",
    "\n",
    "**_Formúla:_**<br>\n",
    "_n²_"
   ]
  },
  {
   "cell_type": "code",
   "execution_count": 10,
   "id": "34f4160a-3be5-44db-b877-6bc3bbe5e557",
   "metadata": {},
   "outputs": [
    {
     "name": "stdin",
     "output_type": "stream",
     "text": [
      "Informe um valor para calcular o quadrado dele: 5\n"
     ]
    },
    {
     "name": "stdout",
     "output_type": "stream",
     "text": [
      "O valor 5, elevado ao quadrado, resulta em 25\n"
     ]
    }
   ],
   "source": [
    "valor = int(input('Informe um valor para calcular o quadrado dele:'))\n",
    "valor_quadrado = valor ** 2\n",
    "\n",
    "print(f'O valor {valor}, elevado ao quadrado, resulta em {valor_quadrado}')\n"
   ]
  },
  {
   "cell_type": "markdown",
   "id": "ba97d73d-4cc9-4fb9-8b50-3bbf05ce0284",
   "metadata": {},
   "source": [
    "---"
   ]
  },
  {
   "cell_type": "markdown",
   "id": "cffb8ffc-ede1-42f9-94f4-24da68cb57f3",
   "metadata": {},
   "source": [
    "### Exercício 09\n",
    "\n",
    "Escreva um programa que peça um número inteiro ao usuário e em seguida imprima o próximo número e o número anterior."
   ]
  },
  {
   "cell_type": "code",
   "execution_count": 11,
   "id": "d7cd9d8a-dabd-40bf-a660-1dfbeb8a6ce3",
   "metadata": {},
   "outputs": [
    {
     "name": "stdin",
     "output_type": "stream",
     "text": [
      "Informe um valor para apresentarmos o proximo e o valor anterior a ele 10\n"
     ]
    },
    {
     "name": "stdout",
     "output_type": "stream",
     "text": [
      "Com o valor 10, temos em seguida o valor 11, e anteriomente temos 9\n"
     ]
    }
   ],
   "source": [
    "valor = int(input('Informe um valor para apresentarmos o proximo e o valor anterior a ele'))\n",
    "valor_ante = valor - 1\n",
    "valor_prox = valor + 1\n",
    "\n",
    "print(f'Com o valor {valor}, temos em seguida o valor {valor_prox}, e anteriomente temos {valor_ante}')\n"
   ]
  },
  {
   "cell_type": "markdown",
   "id": "5f6cc9f1-8fa8-4d0b-b2fc-f38546404296",
   "metadata": {},
   "source": [
    "---"
   ]
  },
  {
   "cell_type": "markdown",
   "id": "61754b1d-5965-483e-8956-481b9edd4384",
   "metadata": {},
   "source": [
    "### Exercício 10\n",
    "\n",
    "Escreva um programa que peça uma quantidade de horas ao usuário e em seguida imprima o valor das horas convertidas em minutos.\n",
    "\n",
    "\n",
    "**_Formúla:_**<br>\n",
    "_minutos = horas * 60_"
   ]
  },
  {
   "cell_type": "code",
   "execution_count": 13,
   "id": "84770ecb-0d33-42a8-9027-2192544ca69f",
   "metadata": {},
   "outputs": [
    {
     "name": "stdin",
     "output_type": "stream",
     "text": [
      "Informe uma quantidade de horas para ter a conversão em minutos:  1.5\n"
     ]
    },
    {
     "name": "stdout",
     "output_type": "stream",
     "text": [
      "Segundo a quantidade de 1.5 horas, temos em minutos a quantidade de 90.0 minutos\n"
     ]
    }
   ],
   "source": [
    "horas = float(input('Informe uma quantidade de horas para ter a conversão em minutos: '))\n",
    "\n",
    "minutos = horas*60\n",
    "\n",
    "print(f'Segundo a quantidade de {horas} horas, temos em minutos a quantidade de {minutos} minutos')\n"
   ]
  },
  {
   "cell_type": "markdown",
   "id": "554b782e-6a68-41cb-a8c8-faef367328b5",
   "metadata": {},
   "source": [
    "---"
   ]
  },
  {
   "cell_type": "markdown",
   "id": "68472e91-1fe8-448d-b397-481a46cf6efc",
   "metadata": {},
   "source": [
    "### Exercício 11\n",
    "\n",
    "Escreva um programa que peça um número ao usuário e em seguida retorne o valor ao cubo.\n",
    "\n",
    "**_Formúla:_**<br>\n",
    "_n³_"
   ]
  },
  {
   "cell_type": "code",
   "execution_count": 14,
   "id": "3a90833e-f192-456a-93f4-bd4bdd05c7ad",
   "metadata": {},
   "outputs": [
    {
     "name": "stdin",
     "output_type": "stream",
     "text": [
      "Informe um valor para calcular o cubo dele: 3\n"
     ]
    },
    {
     "name": "stdout",
     "output_type": "stream",
     "text": [
      "O valor 3, elevado ao cubo, resulta em 27\n"
     ]
    }
   ],
   "source": [
    "valor = int(input('Informe um valor para calcular o cubo dele:'))\n",
    "valor_cubo = valor ** 3\n",
    "\n",
    "print(f'O valor {valor}, elevado ao cubo, resulta em {valor_cubo}')"
   ]
  },
  {
   "cell_type": "markdown",
   "id": "af851aec-e325-4594-a774-e21747547065",
   "metadata": {},
   "source": [
    "---"
   ]
  },
  {
   "cell_type": "markdown",
   "id": "fa319971-dc14-44e4-8616-c3fe3a5ca2e4",
   "metadata": {},
   "source": [
    "### Exercício 12\n",
    "\n",
    "Escreva um programa que pergunte quantos litros de gasolina o cliente deseja abastacer e em seguida imprima o valor total da compra.\n",
    "\n",
    "**O Valor da gasolina é de 4.99**"
   ]
  },
  {
   "cell_type": "code",
   "execution_count": 17,
   "id": "17356753-fbb4-414c-9f82-5f52c582369b",
   "metadata": {},
   "outputs": [
    {
     "name": "stdin",
     "output_type": "stream",
     "text": [
      "Informa em litros, a quantidade na qual deseja abastecer o seu veiculo:  12\n"
     ]
    },
    {
     "name": "stdout",
     "output_type": "stream",
     "text": [
      "Abastecendo 12.0 litros, deve ser pago o valor de 59.88 reais. Débito ou Crédito? \n"
     ]
    }
   ],
   "source": [
    "litros = float(input('Informa em litros, a quantidade na qual deseja abastecer o seu veiculo: '))\n",
    "cotacao_litro = 4.99\n",
    "\n",
    "pagamento = litros * cotacao_litro\n",
    "\n",
    "print(f'Abastecendo {litros} litros, deve ser pago o valor de {pagamento:.2f} reais. Débito ou Crédito? ')"
   ]
  },
  {
   "cell_type": "markdown",
   "id": "fa9623d7-9248-4c71-93c4-f2946d10a816",
   "metadata": {},
   "source": [
    "---"
   ]
  }
 ],
 "metadata": {
  "kernelspec": {
   "display_name": "anaconda-panel-2023.05-py310",
   "language": "python",
   "name": "conda-env-anaconda-panel-2023.05-py310-py"
  },
  "language_info": {
   "codemirror_mode": {
    "name": "ipython",
    "version": 3
   },
   "file_extension": ".py",
   "mimetype": "text/x-python",
   "name": "python",
   "nbconvert_exporter": "python",
   "pygments_lexer": "ipython3",
   "version": "3.11.5"
  }
 },
 "nbformat": 4,
 "nbformat_minor": 5
}
