{
 "cells": [
  {
   "cell_type": "code",
   "execution_count": 1,
   "id": "7bfb5716-3e07-4771-8802-b3c64d148540",
   "metadata": {},
   "outputs": [],
   "source": [
    "#CaluladoraSimples"
   ]
  },
  {
   "cell_type": "code",
   "execution_count": 4,
   "id": "e8c02b7d-e7ef-47db-bca7-31441e5f2662",
   "metadata": {},
   "outputs": [
    {
     "name": "stdout",
     "output_type": "stream",
     "text": [
      "Olá, seja bem vindo a calculadora, selecione a sua opção:\n"
     ]
    },
    {
     "name": "stdin",
     "output_type": "stream",
     "text": [
      "Menu inicial:\n",
      "1 - Adição\n",
      "2 - Subtração\n",
      "3 - Multiplicação\n",
      "4 - Divisão\n",
      "5 - Sair\n",
      "Digite a opção desejada:  1\n"
     ]
    },
    {
     "name": "stdout",
     "output_type": "stream",
     "text": [
      "A opção de Adição foi selecionada.\n"
     ]
    },
    {
     "name": "stdin",
     "output_type": "stream",
     "text": [
      "Informe o primeiro valor : 1\n",
      "Informe o segundo valor : 30\n"
     ]
    },
    {
     "name": "stdout",
     "output_type": "stream",
     "text": [
      "O resultado da adição é: 31.00\n"
     ]
    },
    {
     "name": "stdin",
     "output_type": "stream",
     "text": [
      "Menu inicial:\n",
      "1 - Adição\n",
      "2 - Subtração\n",
      "3 - Multiplicação\n",
      "4 - Divisão\n",
      "5 - Sair\n",
      "Digite a opção desejada:  2\n"
     ]
    },
    {
     "name": "stdout",
     "output_type": "stream",
     "text": [
      "A opção de Subtração foi selecionada.\n"
     ]
    },
    {
     "name": "stdin",
     "output_type": "stream",
     "text": [
      "Informe o primeiro valor : 60\n",
      "Informe o segundo valor : 30\n"
     ]
    },
    {
     "name": "stdout",
     "output_type": "stream",
     "text": [
      "O resultado da subtração é: 30.00\n"
     ]
    },
    {
     "name": "stdin",
     "output_type": "stream",
     "text": [
      "Menu inicial:\n",
      "1 - Adição\n",
      "2 - Subtração\n",
      "3 - Multiplicação\n",
      "4 - Divisão\n",
      "5 - Sair\n",
      "Digite a opção desejada:  3\n"
     ]
    },
    {
     "name": "stdout",
     "output_type": "stream",
     "text": [
      "A opção de Multiplicação foi selecionada.\n"
     ]
    },
    {
     "name": "stdin",
     "output_type": "stream",
     "text": [
      "Informe o primeiro valor : 5\n",
      "Informe o segundo valor : 6\n"
     ]
    },
    {
     "name": "stdout",
     "output_type": "stream",
     "text": [
      "O resultado da multiplicação é: 30.00\n"
     ]
    },
    {
     "name": "stdin",
     "output_type": "stream",
     "text": [
      "Menu inicial:\n",
      "1 - Adição\n",
      "2 - Subtração\n",
      "3 - Multiplicação\n",
      "4 - Divisão\n",
      "5 - Sair\n",
      "Digite a opção desejada:  4\n"
     ]
    },
    {
     "name": "stdout",
     "output_type": "stream",
     "text": [
      "A opção de Divisão foi selecionada.\n"
     ]
    },
    {
     "name": "stdin",
     "output_type": "stream",
     "text": [
      "Informe o primeiro valor : 50\n",
      "Informe o segundo valor : 5\n"
     ]
    },
    {
     "name": "stdout",
     "output_type": "stream",
     "text": [
      "O resultado da divisão é: 10.00\n"
     ]
    },
    {
     "name": "stdin",
     "output_type": "stream",
     "text": [
      "Menu inicial:\n",
      "1 - Adição\n",
      "2 - Subtração\n",
      "3 - Multiplicação\n",
      "4 - Divisão\n",
      "5 - Sair\n",
      "Digite a opção desejada:  6\n"
     ]
    },
    {
     "name": "stdout",
     "output_type": "stream",
     "text": [
      "Opção inserida, invalida.Tente novamente\n"
     ]
    },
    {
     "name": "stdin",
     "output_type": "stream",
     "text": [
      "Menu inicial:\n",
      "1 - Adição\n",
      "2 - Subtração\n",
      "3 - Multiplicação\n",
      "4 - Divisão\n",
      "5 - Sair\n",
      "Digite a opção desejada:  5\n"
     ]
    },
    {
     "name": "stdout",
     "output_type": "stream",
     "text": [
      "O calculadora esta sendo encerrada.\n"
     ]
    }
   ],
   "source": [
    "print(\"Olá, seja bem vindo a calculadora simples, selecione a sua opção:\")\n",
    "op = int(input('Menu inicial:\\n'\n",
    "                  '1 - Adição\\n'\n",
    "                  '2 - Subtração\\n'\n",
    "                  '3 - Multiplicação\\n'\n",
    "                  '4 - Divisão\\n'\n",
    "                  '5 - Sair\\n'\n",
    "                  'Digite a opção desejada: '))\n",
    "while True:\n",
    "    if op == 1:\n",
    "        print('A opção de Adição foi selecionada.')\n",
    "        val1 = float(input(\"Informe o primeiro valor :\"))\n",
    "        val2 = float(input(\"Informe o segundo valor :\"))\n",
    "        result = float(val1 + val2)\n",
    "        print(f'O resultado da adição é: {result:.2f}')\n",
    "        op = int(input('Menu inicial:\\n'\n",
    "                  '1 - Adição\\n'\n",
    "                  '2 - Subtração\\n'\n",
    "                  '3 - Multiplicação\\n'\n",
    "                  '4 - Divisão\\n'\n",
    "                  '5 - Sair\\n'\n",
    "                  'Digite a opção desejada: '))\n",
    "    elif op == 2:\n",
    "        print('A opção de Subtração foi selecionada.')\n",
    "        val1 = float(input(\"Informe o primeiro valor :\"))\n",
    "        val2 = float(input(\"Informe o segundo valor :\"))\n",
    "        result = float(val1 - val2)\n",
    "        print(f'O resultado da subtração é: {result:.2f}')\n",
    "        op = int(input('Menu inicial:\\n'\n",
    "                  '1 - Adição\\n'\n",
    "                  '2 - Subtração\\n'\n",
    "                  '3 - Multiplicação\\n'\n",
    "                  '4 - Divisão\\n'\n",
    "                  '5 - Sair\\n'\n",
    "                  'Digite a opção desejada: '))\n",
    "    elif op == 3:\n",
    "        print('A opção de Multiplicação foi selecionada.')\n",
    "        val1 = float(input(\"Informe o primeiro valor :\"))\n",
    "        val2 = float(input(\"Informe o segundo valor :\"))\n",
    "        result = float(val1 * val2)\n",
    "        print(f'O resultado da multiplicação é: {result:.2f}')\n",
    "        op = int(input('Menu inicial:\\n'\n",
    "                  '1 - Adição\\n'\n",
    "                  '2 - Subtração\\n'\n",
    "                  '3 - Multiplicação\\n'\n",
    "                  '4 - Divisão\\n'\n",
    "                  '5 - Sair\\n'\n",
    "                  'Digite a opção desejada: '))\n",
    "    elif op == 4:\n",
    "        print('A opção de Divisão foi selecionada.')\n",
    "        val1 = float(input(\"Informe o primeiro valor :\"))\n",
    "        val2 = float(input(\"Informe o segundo valor :\"))\n",
    "        while val1 == 0 or val2 == 0:\n",
    "            print('No caso da divisão, nenhum dos valores pode ser 0, digite novamente.')\n",
    "            val1 = float(input(\"Informe o primeiro valor :\"))\n",
    "            val2 = float(input(\"Informe o segundo valor :\"))\n",
    "        result = float(val1 / val2)\n",
    "        print(f'O resultado da divisão é: {result:.2f}')\n",
    "        op = int(input('Menu inicial:\\n'\n",
    "                  '1 - Adição\\n'\n",
    "                  '2 - Subtração\\n'\n",
    "                  '3 - Multiplicação\\n'\n",
    "                  '4 - Divisão\\n'\n",
    "                  '5 - Sair\\n'\n",
    "                  'Digite a opção desejada: '))\n",
    "    elif op == 5:\n",
    "        print('O calculadora esta sendo encerrada.')\n",
    "        break\n",
    "    else:\n",
    "        print('Opção inserida, invalida.Tente novamente')\n",
    "        op = int(input('Menu inicial:\\n'\n",
    "                  '1 - Adição\\n'\n",
    "                  '2 - Subtração\\n'\n",
    "                  '3 - Multiplicação\\n'\n",
    "                  '4 - Divisão\\n'\n",
    "                  '5 - Sair\\n'\n",
    "                  'Digite a opção desejada: '))\n",
    "        \n",
    "        "
   ]
  },
  {
   "cell_type": "code",
   "execution_count": null,
   "id": "ab343216-f417-4f01-bed3-70ff65f5610f",
   "metadata": {},
   "outputs": [],
   "source": []
  }
 ],
 "metadata": {
  "kernelspec": {
   "display_name": "anaconda-2024.02-py310",
   "language": "python",
   "name": "conda-env-anaconda-2024.02-py310-py"
  },
  "language_info": {
   "codemirror_mode": {
    "name": "ipython",
    "version": 3
   },
   "file_extension": ".py",
   "mimetype": "text/x-python",
   "name": "python",
   "nbconvert_exporter": "python",
   "pygments_lexer": "ipython3",
   "version": "3.10.14"
  }
 },
 "nbformat": 4,
 "nbformat_minor": 5
}
