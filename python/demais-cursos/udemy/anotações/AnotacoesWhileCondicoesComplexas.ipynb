{
 "cells": [
  {
   "cell_type": "code",
   "execution_count": 1,
   "id": "1a3a70d8-e101-42fc-8e1d-f02b3ac9f496",
   "metadata": {},
   "outputs": [],
   "source": [
    "#while usando uma condição complexa"
   ]
  },
  {
   "cell_type": "code",
   "execution_count": 4,
   "id": "0d1bdf54-61ac-4245-8327-f4e135e8d22c",
   "metadata": {},
   "outputs": [
    {
     "name": "stdout",
     "output_type": "stream",
     "text": [
      "x: 5, y: 15\n",
      "x: 6, y: 14\n",
      "x: 7, y: 13\n",
      "x: 8, y: 12\n",
      "x: 9, y: 11\n",
      "loop concluido\n",
      "Valores finais - x: 10, y: 10\n"
     ]
    }
   ],
   "source": [
    "x,y = 5, 15\n",
    "\n",
    "while x < 10 and y > 10:\n",
    "    print(f'x: {x}, y: {y}')\n",
    "    x = x + 1\n",
    "    y = y - 1\n",
    "\n",
    "print('loop concluido')\n",
    "print(f'Valores finais - x: {x}, y: {y}')\n",
    "\n",
    "#Explicação, os valores de X e Y começam e devem encenrar o processo antes que atinjam o valor 10,\n",
    "# dessa forma, um esta sendo somado e outro subtraido até que chegem o mais perto possivel de \n",
    "# de 10, e então o processo se encerra\n",
    "# obs que ele para quando o primeiro ja chega mais perto de 10"
   ]
  },
  {
   "cell_type": "code",
   "execution_count": null,
   "id": "fc814aab-8c67-4538-84ce-e2152ad97748",
   "metadata": {},
   "outputs": [],
   "source": [
    "#while usando uma condição complexa\n",
    "# definindo dois numeros secretos\n",
    "\n",
    "numero_secreto1 = 7\n",
    "numero_secreto2 = 3\n",
    "\n",
    "tentativas = 5\n",
    "\n",
    "adivinhou1 = False\n",
    "adivinhou2 = False\n",
    "\n",
    "while tentativas > 0 and (not adivinhou1 == True or not advinhou2 == True) :\n",
    "    print(f'Tentativas restantes: {tentativas}')\n",
    "\n",
    "    palpite1 = int(input('Advinhe o primeiro numero secreto (1-10): ')\n",
    "    palpite2 = int(input('Advinhe o primeiro numero secreto (1-10): ')\n",
    "\n",
    "    if palpite1 == numero_secreto1:\n",
    "        print('Voce adivinhou o primeiro numero!')\n",
    "        advinhou1 = True \n",
    "    \n",
    "    if palpite2 == numero_secreto2:\n",
    "        print('Voce advinhou o segundo numero!')\n",
    "        adivinhou2 = True\n",
    "\n",
    "    if not advinhou1 = True or not advinhou2 == True:\n",
    "        print('Tente novamente')\n",
    "        tentativas -= '\n",
    "\n",
    "if adivinhou1 == True and adivinhou2 == True:\n",
    "    print('Parabens! Voce adivinhou ambos os numeros!')\n",
    "else: \n",
    "    print(f'Voce não conseguiu adivinhar os numeros, eles eram {numero_secreto1} e {numero_secreto2}')"
   ]
  }
 ],
 "metadata": {
  "kernelspec": {
   "display_name": "anaconda-2024.02-py310",
   "language": "python",
   "name": "conda-env-anaconda-2024.02-py310-py"
  },
  "language_info": {
   "codemirror_mode": {
    "name": "ipython",
    "version": 3
   },
   "file_extension": ".py",
   "mimetype": "text/x-python",
   "name": "python",
   "nbconvert_exporter": "python",
   "pygments_lexer": "ipython3",
   "version": "3.10.14"
  }
 },
 "nbformat": 4,
 "nbformat_minor": 5
}
