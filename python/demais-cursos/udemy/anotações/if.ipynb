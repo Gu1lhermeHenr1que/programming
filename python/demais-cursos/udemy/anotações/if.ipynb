{
 "cells": [
  {
   "cell_type": "code",
   "execution_count": 1,
   "id": "d884d1c3-b660-4039-8df5-50bea344cb06",
   "metadata": {},
   "outputs": [],
   "source": [
    "#Função if"
   ]
  },
  {
   "cell_type": "code",
   "execution_count": 2,
   "id": "6ba7ea65-e2e0-40f2-aa01-a64c1be9349e",
   "metadata": {},
   "outputs": [
    {
     "name": "stdout",
     "output_type": "stream",
     "text": [
      "o numero 1 é maior que o numero 2!\n"
     ]
    }
   ],
   "source": [
    "numero1 = 90\n",
    "numero2 = 12\n",
    "\n",
    "if numero1>numero2:\n",
    "    print('o numero 1 é maior que o numero 2!')"
   ]
  },
  {
   "cell_type": "code",
   "execution_count": 5,
   "id": "af8141ff-36ce-4942-a963-43916f792104",
   "metadata": {},
   "outputs": [
    {
     "name": "stdout",
     "output_type": "stream",
     "text": [
      "numero da variavel numero 1 é igual ao numero da variavel do numero 2\n"
     ]
    }
   ],
   "source": [
    "# python função if...elif\n",
    "\n",
    "numero1 = 6\n",
    "numero2 = 6\n",
    "\n",
    "if numero1>numero2 :\n",
    "    print('numero da variavel numero 1 é maior que o  numero da variavel do numero 2')\n",
    "\n",
    "elif numero1==numero2 :\n",
    "    print('numero da variavel numero 1 é igual ao numero da variavel do numero 2')"
   ]
  },
  {
   "cell_type": "code",
   "execution_count": 5,
   "id": "ad554313-a14d-44d0-9c72-4b0c0af255f9",
   "metadata": {},
   "outputs": [
    {
     "name": "stdin",
     "output_type": "stream",
     "text": [
      "Um numero aleatório de 1 a 10 foi gerado, tente acertar: 1\n"
     ]
    },
    {
     "name": "stdout",
     "output_type": "stream",
     "text": [
      "Seu palpite esta abaixo do numero secreto, tente novamente.\n"
     ]
    }
   ],
   "source": [
    "#exercicio - Acerte o numero\n",
    "\n",
    "num_secret = 7\n",
    "palpite = int(input('Um numero aleatório de 1 a 10 foi gerado, tente acertar:'))\n",
    "\n",
    "if palpite == num_secret :\n",
    "    print(f'parabens!! voce acertou! Seu palpite foi {palpite}, e o numero secreto era: {num_secret}')\n",
    "elif palpite > num_secret: \n",
    "    print(f'Seu palpite {palpite} esta acima o valor secreto, tente novamente.')\n",
    "else: #se não\n",
    "    print(f'Seu palpite esta abaixo do numero secreto, tente novamente.')"
   ]
  },
  {
   "cell_type": "code",
   "execution_count": 6,
   "id": "ce321c6f-daad-4f9b-98ce-434e3507c8c6",
   "metadata": {},
   "outputs": [
    {
     "name": "stdin",
     "output_type": "stream",
     "text": [
      "Informe a sua idade:  18\n"
     ]
    },
    {
     "name": "stdout",
     "output_type": "stream",
     "text": [
      " Sua idade atual é 18, e a idade minina para votar é 18, voce pode votar\n"
     ]
    }
   ],
   "source": [
    "# exercicio - Idade - Permissão para votar\n",
    "idade_min = 18\n",
    "idade_atual = int(input('Informe a sua idade: '))\n",
    "\n",
    "if idade_atual < idade_min :\n",
    "    print(f'Sua idade atual é {idade_atual}, e a idade minima para votar é {idade_min}, logo voce não podera votar')\n",
    "else :\n",
    "    print(f' Sua idade atual é {idade_atual}, e a idade minina para votar é {idade_min}, voce pode votar')"
   ]
  },
  {
   "cell_type": "code",
   "execution_count": 14,
   "id": "3dd1b5f2-233b-4362-aad2-de43ba79a9df",
   "metadata": {},
   "outputs": [
    {
     "name": "stdin",
     "output_type": "stream",
     "text": [
      "Informe a sua nota: 89\n"
     ]
    },
    {
     "name": "stdout",
     "output_type": "stream",
     "text": [
      "Parabens, voce atingiu o nivel Bom  70 - 89 de nota, com sua nota 89\n"
     ]
    }
   ],
   "source": [
    "#Classificação de notas\n",
    "nota = int(input('Informe a sua nota:'))\n",
    "\n",
    "if nota >= 90:\n",
    "    print(f'Parabens, voce atingiu o nivel maximo, Excelente 90 - 100 de nota, com sua nota {nota}')\n",
    "elif nota >= 70 and nota <= 89: #imagino que esse segundo parametro depois do and poderia ser tirado\n",
    "    print(f'Parabens, voce atingiu o nivel Bom  70 - 89 de nota, com sua nota {nota}')\n",
    "elif nota >= 50 and nota <= 69: #imagino que esse segundo parametro depois do and poderia ser tirado\n",
    "    print(f'Parabens, voce atingiu o nivel Satisfatório  50 - 69 de nota, com sua nota {nota}')\n",
    "else:\n",
    "     print(f'Voce atingiu o nivel Insatisfatório 0 - 49 de nota, com sua nota {nota}')"
   ]
  },
  {
   "cell_type": "code",
   "execution_count": 4,
   "id": "dce83e53-73b4-4a4d-aa28-4b737a1ca4e4",
   "metadata": {},
   "outputs": [
    {
     "name": "stdin",
     "output_type": "stream",
     "text": [
      "Informe o valor da sua compra na loja para verificarmos se existe algum desconto 2000\n"
     ]
    },
    {
     "name": "stdout",
     "output_type": "stream",
     "text": [
      "Parabens!! Voce teve acesso ao desconto de 20%, pois suas compras ficaram acima de R$ 1.000,00 , e por isso, o valor a ser pago será: R$ 1600.00\n"
     ]
    }
   ],
   "source": [
    "#Calculadora de descontos\n",
    "\n",
    "#quantidade gasta antes da confirma de desconto\n",
    "valor_compra = float(input('Informe o valor da sua compra na loja para verificarmos se existe algum desconto'))\n",
    "\n",
    "if valor_compra > 1000 :\n",
    "    desc_mensag = '20%'\n",
    "    desconto = 0.2 #20% de desconto\n",
    "    valor_compra = valor_compra * (1 - desconto) # Multiplica por 0.8%\n",
    "    print(f'Parabens!! Voce teve acesso ao desconto de {desc_mensag}, pois suas compras ficaram acima de R$ 1.000,00 , e por isso, o valor a ser pago será: R$ {valor_compra:.2f}')\n",
    "elif valor_compra > 500 and valor_compra <= 1000:\n",
    "    desc_mensag = '10%'\n",
    "    desconto = 0.1 #10% de desconto\n",
    "    valor_compra = valor_compra * (1 - desconto) # Multiplica por 0.9%\n",
    "    print(f'Parabens!! Voce teve acesso ao desconto de {desc_mensag}, pois suas compras ficaram acima de R$ 500,00 , e por isso, o valor a ser pago será: R$ {valor_compra:.2f}')\n",
    "else :\n",
    "    print(f'Como a sua compra ficou em menos de R$ 500,00 , voce não esta tendo acesso ao desconto, porem pode levar algo a mais, o que acha?')\n"
   ]
  },
  {
   "cell_type": "code",
   "execution_count": 6,
   "id": "de5b81be-3ed8-4758-b4d1-c307fab19c6c",
   "metadata": {},
   "outputs": [
    {
     "name": "stdout",
     "output_type": "stream",
     "text": [
      "Seja bem vindo a festa VIP, para poder entrar, precisamos que esteja de acordo com alguma das seguintes regras:\n"
     ]
    },
    {
     "name": "stdin",
     "output_type": "stream",
     "text": [
      "Voce possui um convite VIP? Responda \"sim\" ou \"não\" sim\n"
     ]
    },
    {
     "name": "stdout",
     "output_type": "stream",
     "text": [
      "Otimo! Seu acesso ja foi liberado! Seu permissão é: liberado\n"
     ]
    },
    {
     "name": "stdin",
     "output_type": "stream",
     "text": [
      "Seu nome foi adicionado na lista de convidados? Responda com \"sim\" ou \"não\" sim\n"
     ]
    },
    {
     "name": "stdout",
     "output_type": "stream",
     "text": [
      "Otimo! Seu acesso ja foi liberado! Seu permissão é: liberado\n"
     ]
    },
    {
     "name": "stdin",
     "output_type": "stream",
     "text": [
      "Voce é um membro do Clube VIP? Responda \"sim\" ou \"não\" n\n"
     ]
    },
    {
     "name": "stdout",
     "output_type": "stream",
     "text": [
      "Seu acesso não foi liberado! Seu permissão é: não liberado\n"
     ]
    }
   ],
   "source": [
    "# Exercicio com 'or'\n",
    "# Entrada para um evento exclusivo\n",
    "\n",
    "print('Seja bem vindo a festa VIP, para poder entrar, precisamos que esteja de acordo com alguma das seguintes regras:')\n",
    "q1 = input('Voce possui um convite VIP? Responda \"sim\" ou \"não\"')\n",
    "if q1 == 'sim' or q1 == 'SIM' or q1 =='Sim' :\n",
    "    permissao = \"liberado\"\n",
    "    print(f'Otimo! Seu acesso ja foi liberado! Seu permissão é: {permissao}')\n",
    "else :\n",
    "    permissao = \"não liberado\"\n",
    "    print(f'Ainda não...! Seu acesso ainda não foi liberado! Seu permissão é: {permissao}')\n",
    "    \n",
    "q2 = input('Seu nome foi adicionado na lista de convidados? Responda com \"sim\" ou \"não\"')\n",
    "if q2 == 'sim' or q2 == 'SIM' or q2 =='Sim' :\n",
    "    permissao = \"liberado\"\n",
    "    print(f'Otimo! Seu acesso ja foi liberado! Seu permissão é: {permissao}')\n",
    "else :\n",
    "    permissao = \"não liberado\"\n",
    "    print(f'Ainda não...! Seu acesso ainda não foi liberado! Seu permissão é: {permissao}')\n",
    "\n",
    "q3 = input('Voce é um membro do Clube VIP? Responda \"sim\" ou \"não\"')\n",
    "if q3 == 'sim' or q3 == 'SIM' or q3 =='Sim' :\n",
    "    permissao = \"liberado\"\n",
    "    print(f'Otimo! Seu acesso ja foi liberado! Seu permissão é: {permissao}')\n",
    "else :\n",
    "    permissao = \"não liberado\"\n",
    "    print(f'Seu acesso não foi liberado! Seu permissão é: {permissao}')"
   ]
  },
  {
   "cell_type": "code",
   "execution_count": null,
   "id": "8e806ce0-208f-431a-9180-2b404c2dab07",
   "metadata": {},
   "outputs": [],
   "source": []
  }
 ],
 "metadata": {
  "kernelspec": {
   "display_name": "anaconda-panel-2023.05-py310",
   "language": "python",
   "name": "conda-env-anaconda-panel-2023.05-py310-py"
  },
  "language_info": {
   "codemirror_mode": {
    "name": "ipython",
    "version": 3
   },
   "file_extension": ".py",
   "mimetype": "text/x-python",
   "name": "python",
   "nbconvert_exporter": "python",
   "pygments_lexer": "ipython3",
   "version": "3.11.5"
  }
 },
 "nbformat": 4,
 "nbformat_minor": 5
}
