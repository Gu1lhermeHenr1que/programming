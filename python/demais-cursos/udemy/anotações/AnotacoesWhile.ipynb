{
 "cells": [
  {
   "cell_type": "code",
   "execution_count": 1,
   "id": "7fb4fa33-bae9-4f1e-a42a-a3a393cf92f1",
   "metadata": {},
   "outputs": [],
   "source": [
    "#While - Enquanto\n"
   ]
  },
  {
   "cell_type": "code",
   "execution_count": 3,
   "id": "231094cb-fa37-492e-ba48-18e0653f8e2e",
   "metadata": {},
   "outputs": [
    {
     "name": "stdout",
     "output_type": "stream",
     "text": [
      "1\n",
      "2\n",
      "3\n",
      "4\n"
     ]
    }
   ],
   "source": [
    "numero = 1\n",
    "while numero < 5:\n",
    "    print(numero)\n",
    "    numero += 1"
   ]
  },
  {
   "cell_type": "code",
   "execution_count": 1,
   "id": "78a18ad7-01aa-4feb-a5e0-e39e2841f33d",
   "metadata": {},
   "outputs": [
    {
     "name": "stdout",
     "output_type": "stream",
     "text": [
      "15\n",
      "14\n",
      "13\n",
      "12\n",
      "11\n"
     ]
    }
   ],
   "source": [
    "cont = 15\n",
    "while cont > 10:\n",
    "    print(cont)\n",
    "    cont -= 1"
   ]
  },
  {
   "cell_type": "code",
   "execution_count": 2,
   "id": "eb1e06f7-d96e-4aa8-99a7-7569638d674d",
   "metadata": {},
   "outputs": [
    {
     "name": "stdout",
     "output_type": "stream",
     "text": [
      "20\n",
      "18\n",
      "16\n",
      "14\n",
      "12\n"
     ]
    }
   ],
   "source": [
    "cont = 20\n",
    "while cont > 10:\n",
    "    print(cont)\n",
    "    cont -= 2 # decrementando o valor da variavel em 2"
   ]
  },
  {
   "cell_type": "code",
   "execution_count": 3,
   "id": "f2a4fa81-5f29-4db2-98aa-7bb6109c476d",
   "metadata": {},
   "outputs": [
    {
     "name": "stdout",
     "output_type": "stream",
     "text": [
      "numero: 1\n",
      "numero: 2\n",
      "numero: 3\n",
      "numero: 4\n",
      "numero: 5\n",
      "numero: 6\n",
      "numero: 7\n",
      "numero: 8\n",
      "numero: 9\n",
      "numero: 10\n",
      "numeros impressos com sucesso\n"
     ]
    }
   ],
   "source": [
    "contador = 0\n",
    "while contador < 10:\n",
    "    contador += 1\n",
    "    print('numero:', contador)\n",
    "\n",
    "else:\n",
    "    print('numeros impressos com sucesso')"
   ]
  },
  {
   "cell_type": "code",
   "execution_count": null,
   "id": "ec17c3f1-ffd8-4aca-9949-5a8c00333d32",
   "metadata": {},
   "outputs": [],
   "source": [
    "numero = 1\n",
    "while numero < 20:\n",
    "    print(numero)\n",
    "    if numero == 5:\n",
    "        break\n",
    "        numero += 1"
   ]
  },
  {
   "cell_type": "code",
   "execution_count": null,
   "id": "751618bd-aae7-49a8-9a02-f66f3c33b7bf",
   "metadata": {},
   "outputs": [],
   "source": [
    "linha = 0\n",
    "while linha < 3:\n",
    "    coluna = 0:\n",
    "    while coluna < 3:\n",
    "        print(f'linha: {linha} - Coluna: {coluna}')\n",
    "        coluna +=1\n",
    "    linha +=1"
   ]
  },
  {
   "cell_type": "code",
   "execution_count": null,
   "id": "4b30b801-2010-4a9f-b33c-f7579fa695bd",
   "metadata": {},
   "outputs": [],
   "source": [
    "numeroInicial = 1\n",
    "numeroFinal = int(input('Informe um numero'))\n",
    "\n",
    "while numeroInicial <= NumeroFinal:\n",
    "    print(numeroInicial)\n",
    "    numeroInicial +=1\n",
    "\n",
    "#Retorna numeros até que chegue no numero que eu informei"
   ]
  },
  {
   "cell_type": "code",
   "execution_count": null,
   "id": "2cd45f26-1444-4613-a5bf-ffb8667efed7",
   "metadata": {},
   "outputs": [],
   "source": [
    "numero = 1\n",
    "max = int(input('digite um inteiro maior que 1:'))\n",
    "\n",
    "print(f'numeros partes entre 1 e {max}:')\n",
    "while numero <= max:\n",
    "    if numero % 2 == 0:\n",
    "        print(numero, end = \" \")\n",
    "    numero +=1\n",
    "    "
   ]
  },
  {
   "cell_type": "code",
   "execution_count": 3,
   "id": "6b438f31-5ffa-477a-a80d-c57ffcb1e215",
   "metadata": {},
   "outputs": [
    {
     "name": "stdin",
     "output_type": "stream",
     "text": [
      "Informe a senha correta: 123455\n"
     ]
    },
    {
     "name": "stdout",
     "output_type": "stream",
     "text": [
      "A senha informada esta errada, tente novamente.\n"
     ]
    },
    {
     "name": "stdin",
     "output_type": "stream",
     "text": [
      "Insira: 123789\n"
     ]
    },
    {
     "name": "stdout",
     "output_type": "stream",
     "text": [
      "A senha informada esta errada, tente novamente.\n"
     ]
    },
    {
     "name": "stdin",
     "output_type": "stream",
     "text": [
      "Insira: 1789\n"
     ]
    },
    {
     "name": "stdout",
     "output_type": "stream",
     "text": [
      "A senha informada esta errada, tente novamente.\n"
     ]
    },
    {
     "name": "stdin",
     "output_type": "stream",
     "text": [
      "Insira: 1233456\n"
     ]
    },
    {
     "name": "stdout",
     "output_type": "stream",
     "text": [
      "A senha informada esta errada, tente novamente.\n"
     ]
    },
    {
     "name": "stdin",
     "output_type": "stream",
     "text": [
      "Insira: 123456\n"
     ]
    },
    {
     "name": "stdout",
     "output_type": "stream",
     "text": [
      "Parabens, a senha esta correta.\n"
     ]
    }
   ],
   "source": [
    "senha = '123456'\n",
    "user = str(input('Informe a senha correta:'))\n",
    "\n",
    "while senha != user:\n",
    "    print('A senha informada esta errada, tente novamente.')\n",
    "    user = str(input('Insira:'))\n",
    "\n",
    "print('Parabens, a senha esta correta.')\n",
    "    "
   ]
  },
  {
   "cell_type": "code",
   "execution_count": 4,
   "id": "62a8131c-0d19-4d36-8b58-35580062c2af",
   "metadata": {},
   "outputs": [
    {
     "name": "stdin",
     "output_type": "stream",
     "text": [
      "Informe a tentativa de senha: 145\n",
      "Informe a tentativa de senha: 15\n",
      "Informe a tentativa de senha: 123\n"
     ]
    },
    {
     "name": "stdout",
     "output_type": "stream",
     "text": [
      "Senha correta\n"
     ]
    }
   ],
   "source": [
    "# Outro exemplo de como o exercicio acima poderia ser feito\n",
    "\n",
    "while True:\n",
    "    senha = input('Informe a tentativa de senha:')\n",
    "    if senha == '123':\n",
    "        print('Senha correta')\n",
    "        break"
   ]
  },
  {
   "cell_type": "code",
   "execution_count": 7,
   "id": "c80b1404-ee88-4df4-b403-49115ae67d85",
   "metadata": {},
   "outputs": [
    {
     "name": "stdout",
     "output_type": "stream",
     "text": [
      "38\n",
      "advinhe o numero secreto entre 1 e 100\n"
     ]
    },
    {
     "name": "stdin",
     "output_type": "stream",
     "text": [
      "digite o seu palpite 50\n"
     ]
    },
    {
     "name": "stdout",
     "output_type": "stream",
     "text": [
      "O numero secreto é menor, tente novemente\n"
     ]
    },
    {
     "name": "stdin",
     "output_type": "stream",
     "text": [
      "digite o seu palpite 25\n"
     ]
    },
    {
     "name": "stdout",
     "output_type": "stream",
     "text": [
      "O numero secrete é maior, tente novamente\n"
     ]
    },
    {
     "name": "stdin",
     "output_type": "stream",
     "text": [
      "digite o seu palpite 47\n"
     ]
    },
    {
     "name": "stdout",
     "output_type": "stream",
     "text": [
      "O numero secreto é menor, tente novemente\n"
     ]
    },
    {
     "name": "stdin",
     "output_type": "stream",
     "text": [
      "digite o seu palpite 35\n"
     ]
    },
    {
     "name": "stdout",
     "output_type": "stream",
     "text": [
      "O numero secrete é maior, tente novamente\n"
     ]
    },
    {
     "name": "stdin",
     "output_type": "stream",
     "text": [
      "digite o seu palpite 40\n"
     ]
    },
    {
     "name": "stdout",
     "output_type": "stream",
     "text": [
      "O numero secreto é menor, tente novemente\n"
     ]
    },
    {
     "name": "stdin",
     "output_type": "stream",
     "text": [
      "digite o seu palpite 38\n"
     ]
    },
    {
     "name": "stdout",
     "output_type": "stream",
     "text": [
      "Parabens, voce a certou o numero secreto 38, em 0 tentativas\n"
     ]
    }
   ],
   "source": [
    "import random\n",
    "\n",
    "numero_secreto = random.randint(1,100)\n",
    "tentativa = 0\n",
    "\n",
    "print(numero_secreto)\n",
    "\n",
    "print('advinhe o numero secreto entre 1 e 100')\n",
    "\n",
    "while True:\n",
    "    palpite = int(input('digite o seu palpite'))\n",
    "    tentativa += 1\n",
    "\n",
    "    if palpite < numero_secreto:\n",
    "        print('O numero secrete é maior, tente novamente')\n",
    "    elif palpite > numero_secreto:\n",
    "        print('O numero secreto é menor, tente novemente')\n",
    "    else:\n",
    "        print(f'Parabens, voce a certou o numero secreto {numero_secreto}, em {tentativas} tentativas')\n",
    "        break\n",
    "    "
   ]
  },
  {
   "cell_type": "code",
   "execution_count": 11,
   "id": "11be2d79-3cea-4983-b123-b23baaa22185",
   "metadata": {},
   "outputs": [
    {
     "name": "stdout",
     "output_type": "stream",
     "text": [
      "Informe numeros diversos:\n"
     ]
    },
    {
     "name": "stdin",
     "output_type": "stream",
     "text": [
      "insira: 1\n",
      "Insira um novo numero: 2\n",
      "Insira um novo numero: 0\n"
     ]
    },
    {
     "name": "stdout",
     "output_type": "stream",
     "text": [
      "voce digitou o numero 0, e isso finalizou o ciclo. A soma total de todos os numero é 3\n"
     ]
    }
   ],
   "source": [
    "print('Informe numeros diversos:')\n",
    "numero = int(input('insira:'))\n",
    "soma = 0\n",
    "\n",
    "\n",
    "while numero != 0:\n",
    "    soma = int(numero + soma)\n",
    "    numero = int(input('Insira um novo numero:'))\n",
    "print(f'voce digitou o numero {numero}, e isso finalizou o ciclo. A soma total de todos os numero é {soma}')"
   ]
  },
  {
   "cell_type": "code",
   "execution_count": 1,
   "id": "4f1513b6-e010-4730-8d0e-ef1263895936",
   "metadata": {},
   "outputs": [
    {
     "name": "stdout",
     "output_type": "stream",
     "text": [
      "Insira numeros inteiros e positivos, aé digitar um negativo\n"
     ]
    },
    {
     "name": "stdin",
     "output_type": "stream",
     "text": [
      "Insira: 10\n",
      "Insira mais um numero: 20\n",
      "Insira mais um numero: -9\n"
     ]
    },
    {
     "name": "stdout",
     "output_type": "stream",
     "text": [
      "Voce inseriu um numero menor que 0, no caso -9, e por isso, o ciclo finalzou. A soma total foi: 30\n"
     ]
    }
   ],
   "source": [
    "print('Insira numeros inteiros e positivos, aé digitar um negativo')\n",
    "numero = int(input('Insira:'))\n",
    "cont = 0\n",
    "\n",
    "while numero >= 0 :\n",
    "    cont += numero\n",
    "    numero = int(input('Insira mais um numero:'))\n",
    "\n",
    "print(f'Voce inseriu um numero menor que 0, no caso {numero}, e por isso, o ciclo finalzou. A soma total foi: {cont}')\n",
    "\n",
    "\n",
    "#possivel solucão para quando o numero for quebrado. pois n quero que o código pare, somente que ele n aceite.\n",
    "#try:\n",
    "#       numero = int(entrada)\n",
    "#    except ValueError:\n",
    "#        print(f'Valor inválido: \"{entrada}\" não é um número inteiro.')\n",
    "#        break"
   ]
  },
  {
   "cell_type": "code",
   "execution_count": null,
   "id": "77ede163-505a-436d-8677-9a4e0e0d6155",
   "metadata": {},
   "outputs": [],
   "source": []
  }
 ],
 "metadata": {
  "kernelspec": {
   "display_name": "anaconda-2024.02-py310",
   "language": "python",
   "name": "conda-env-anaconda-2024.02-py310-py"
  },
  "language_info": {
   "codemirror_mode": {
    "name": "ipython",
    "version": 3
   },
   "file_extension": ".py",
   "mimetype": "text/x-python",
   "name": "python",
   "nbconvert_exporter": "python",
   "pygments_lexer": "ipython3",
   "version": "3.10.14"
  }
 },
 "nbformat": 4,
 "nbformat_minor": 5
}
