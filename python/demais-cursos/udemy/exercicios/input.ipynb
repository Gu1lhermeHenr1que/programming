{
 "cells": [
  {
   "cell_type": "code",
   "execution_count": null,
   "id": "0230cce5-5f57-4643-862b-e96fbdacbc98",
   "metadata": {},
   "outputs": [],
   "source": [
    "nome = input('digite o seu nome:')"
   ]
  },
  {
   "cell_type": "code",
   "execution_count": null,
   "id": "1ee8540e-85bb-468f-814b-4a5699eb882a",
   "metadata": {},
   "outputs": [],
   "source": [
    "nota1 = float(input('informe a nota 1:')) #float para aceitar numeros numero quebrados\n",
    "              "
   ]
  },
  {
   "cell_type": "code",
   "execution_count": null,
   "id": "99415408-8cfd-4679-a3a9-fd47635661db",
   "metadata": {},
   "outputs": [],
   "source": [
    "print('informe as notas para o calculo da média')\n",
    "nota1 = float(input('informe a nota 1:'))\n",
    "nota2 = float(input('informe a nota 2:'))\n",
    "\n",
    "nota_final = (nota1 + nota2) / 2 ;\n",
    "\n",
    "print(f'A nota final é {nota_final}')"
   ]
  },
  {
   "cell_type": "code",
   "execution_count": 5,
   "id": "35df8528-987a-446f-8f9e-e42ecafbbfd0",
   "metadata": {},
   "outputs": [
    {
     "name": "stdin",
     "output_type": "stream",
     "text": [
      "insira um numero de 1 a 10, sendo inteiro para receber a tabuada: 3\n"
     ]
    },
    {
     "name": "stdout",
     "output_type": "stream",
     "text": [
      "Segue tabela de tabuada com o valor,3\n",
      "1 X 3 =  3\n",
      "2 X 3 =  6\n",
      "3 X 3 =  9\n",
      "4 X 3 =  12\n",
      "5 X 3 =  15\n",
      "6 X 3 =  18\n",
      "7 X 3 =  21\n",
      "8 X 3 =  24\n",
      "9 X 3 =  27\n",
      "10 X 3 =  30\n"
     ]
    }
   ],
   "source": [
    "# Exercicio tabuada\n",
    "\n",
    "number = int(input('insira um numero de 1 a 10, sendo inteiro para receber a tabuada:'))\n",
    "\n",
    "multiplicador = 1\n",
    "\n",
    "print(f'Segue tabela de tabuada com o valor,{number}')\n",
    "\n",
    "while True:\n",
    "\n",
    "    result = multiplicador * number\n",
    "    print(f'{multiplicador} X {number} =  {result}')\n",
    "\n",
    "    if multiplicador >= 10:\n",
    "        break\n",
    "    multiplicador += 1\n",
    "    "
   ]
  },
  {
   "cell_type": "code",
   "execution_count": 4,
   "id": "ec941acd-02cd-4b95-acc6-3499f050e4a0",
   "metadata": {},
   "outputs": [
    {
     "name": "stdin",
     "output_type": "stream",
     "text": [
      "insira um numero de 1 a 10, sendo inteiro para receber a tabuada: 2\n"
     ]
    },
    {
     "name": "stdout",
     "output_type": "stream",
     "text": [
      "Segue tabela de tabuada com o valor,2\n",
      "1 X 2 =  2\n",
      "2 X 2 =  4\n",
      "3 X 2 =  6\n",
      "4 X 2 =  8\n",
      "5 X 2 =  10\n",
      "6 X 2 =  12\n",
      "7 X 2 =  14\n",
      "8 X 2 =  16\n",
      "9 X 2 =  18\n",
      "10 X 2 =  20\n"
     ]
    }
   ],
   "source": [
    "# Exercicio tabuada\n",
    "\n",
    "number = int(input('insira um numero de 1 a 10, sendo inteiro para receber a tabuada:'))\n",
    "\n",
    "multiplicador = 1\n",
    "\n",
    "print(f'Segue tabela de tabuada com o valor,{number}')\n",
    "\n",
    "while True:\n",
    "\n",
    "    print(f'{multiplicador} X {number} =  {multiplicador * number}')\n",
    "\n",
    "    if multiplicador >= 10:\n",
    "        break\n",
    "    multiplicador += 1\n",
    "    "
   ]
  },
  {
   "cell_type": "code",
   "execution_count": 7,
   "id": "7062da00-f8a2-485e-8199-d62739717c71",
   "metadata": {},
   "outputs": [
    {
     "name": "stdin",
     "output_type": "stream",
     "text": [
      "qual é a sua idade atualmente ?: 20\n"
     ]
    },
    {
     "name": "stdout",
     "output_type": "stream",
     "text": [
      "Voce Nasceu em aproximadamente: 2005\n"
     ]
    }
   ],
   "source": [
    "# Exercicio Ano de nascimento\n",
    "\n",
    "Idade_Atual = int(input('qual é a sua idade atualmente ?:'))\n",
    "Ano_Atual = 2025\n",
    "\n",
    "print(f'Voce Nasceu em aproximadamente: {Ano_Atual - Idade_Atual}')"
   ]
  },
  {
   "cell_type": "code",
   "execution_count": 9,
   "id": "69bb8717-ab2b-46f0-bd3a-3c187df23199",
   "metadata": {},
   "outputs": [
    {
     "name": "stdin",
     "output_type": "stream",
     "text": [
      "Informe em que ano você nasceu: 2004\n"
     ]
    },
    {
     "name": "stdout",
     "output_type": "stream",
     "text": [
      "Atualmente você tem cerca de : 21\n"
     ]
    }
   ],
   "source": [
    "# Exercicio idade atual\n",
    "\n",
    "Ano_Atual = 2025\n",
    "Ano_Nascimento = int(input('Informe em que ano você nasceu:'))\n",
    "\n",
    "print(f'Atualmente você tem cerca de : {Ano_Atual - Ano_Nascimento}') "
   ]
  },
  {
   "cell_type": "code",
   "execution_count": null,
   "id": "df78d13a-494f-4e83-b133-db29fa402742",
   "metadata": {},
   "outputs": [],
   "source": [
    "# 1. Crie uma variável chamada nome e atribua o seu nome a ela como um valor.\n",
    "\n",
    "nome = 'guilherme'\n",
    "\n",
    "# 2. Crie duas variáveis chamadas idade e ano_atual. \n",
    "\n",
    "idade = 20\n",
    "ano_atual= 2025\n",
    "\n",
    "# 3. Calcule o ano em que você nasceu.\n",
    "\n",
    "ano_nascimento = ano_atual - idade\n",
    "\n",
    "\n",
    "# 4. Incremente a variável idade em 1.\n",
    "\n",
    "idade_prevista = idade + 1\n",
    "\n",
    "# 5. Imprima as mensagens.\n",
    "\n",
    "print(f'Olá, me chamo {nome}, eu nasci em {ano_nascimento}, e em maio eu terei {idade_prevista}')"
   ]
  }
 ],
 "metadata": {
  "kernelspec": {
   "display_name": "anaconda-2024.02-py310",
   "language": "python",
   "name": "conda-env-anaconda-2024.02-py310-py"
  },
  "language_info": {
   "codemirror_mode": {
    "name": "ipython",
    "version": 3
   },
   "file_extension": ".py",
   "mimetype": "text/x-python",
   "name": "python",
   "nbconvert_exporter": "python",
   "pygments_lexer": "ipython3",
   "version": "3.10.14"
  }
 },
 "nbformat": 4,
 "nbformat_minor": 5
}
