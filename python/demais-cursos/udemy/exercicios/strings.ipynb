{
 "cells": [
  {
   "cell_type": "code",
   "execution_count": null,
   "id": "e822f9d7-db6e-469d-afcc-343e103d6dbd",
   "metadata": {},
   "outputs": [],
   "source": []
  },
  {
   "cell_type": "code",
   "execution_count": 3,
   "id": "3953b16a-3024-4513-8d61-022d5baf5656",
   "metadata": {},
   "outputs": [
    {
     "name": "stdout",
     "output_type": "stream",
     "text": [
      " mun\n",
      "olá, \n",
      "mundo!\n"
     ]
    }
   ],
   "source": [
    "#Slice\n",
    "frase = 'olá, mundo!'\n",
    "\n",
    "#obtendo uma parte da string usando slice\n",
    "parte = frase [4:8] # saida = mun\n",
    "print(parte)\n",
    "\n",
    "#obtendo os primeiros 5 caracteres da string\n",
    "primeiros = (frase) [:5]\n",
    "print(primeiros)\n",
    "\n",
    "#Obtendo os ultimo 6 caracteres da string\n",
    "ultimos = frase [-6:]\n",
    "print(ultimos)"
   ]
  },
  {
   "cell_type": "code",
   "execution_count": 6,
   "id": "c61b2d0a-dbca-456f-b0a1-4f94f29016e7",
   "metadata": {},
   "outputs": [
    {
     "name": "stdout",
     "output_type": "stream",
     "text": [
      "True\n"
     ]
    }
   ],
   "source": [
    "frase = 'o modulo de python é muito legal'\n",
    "\n",
    "print(\"python\" in frase) #verificando se o conteudo/string esta dentro da string maior"
   ]
  },
  {
   "cell_type": "code",
   "execution_count": 7,
   "id": "7c226901-9f5f-4c84-b357-8fdce7c4b153",
   "metadata": {},
   "outputs": [
    {
     "name": "stdout",
     "output_type": "stream",
     "text": [
      "sim, a palavra python esta presente na frase\n"
     ]
    }
   ],
   "source": [
    "frase = 'o modulo de python é muito legal'\n",
    "\n",
    "if 'python' in frase:\n",
    "    print(\"sim, a palavra python esta presente na frase\") #verificando se o conteudo/string esta dentro da string maior"
   ]
  },
  {
   "cell_type": "code",
   "execution_count": 8,
   "id": "f8b02bbc-d574-40a6-bb33-cccad02680ba",
   "metadata": {},
   "outputs": [
    {
     "name": "stdout",
     "output_type": "stream",
     "text": [
      "o modulo de python é muito legal\n"
     ]
    }
   ],
   "source": [
    "frase = '    o modulo de python é muito legal        '\n",
    "print(frase.strip()) #usado para remover espaços em branco do inico e do final"
   ]
  },
  {
   "cell_type": "code",
   "execution_count": 9,
   "id": "706a8fd6-cd07-4584-a530-677661bde857",
   "metadata": {},
   "outputs": [
    {
     "name": "stdout",
     "output_type": "stream",
     "text": [
      "['ola,', 'como', 'vai', 'voce?']\n"
     ]
    }
   ],
   "source": [
    "# Divide a string em uma lista de substringe com base em um determinado sinal, letra ou numero\n",
    "\n",
    "frase ='ola, como vai voce?'\n",
    "palavras=frase.split() # divindo a frase em palavras usando o espaço em branco como separador\n",
    "\n",
    "print(palavras)"
   ]
  },
  {
   "cell_type": "code",
   "execution_count": 8,
   "id": "3215eae9-5d68-4227-a003-3cf864ab3ab2",
   "metadata": {},
   "outputs": [
    {
     "name": "stdout",
     "output_type": "stream",
     "text": [
      "olá como vai você?\n"
     ]
    }
   ],
   "source": [
    "# junta o conteudo de uma lista, com base em um determinado separador, seja sinal, letra ou numero\n",
    "\n",
    "palavras = ['olá', 'como', 'vai', 'você?']\n",
    "frase = ' '. join(palavras)\n",
    "print(frase)"
   ]
  },
  {
   "cell_type": "code",
   "execution_count": 9,
   "id": "66c556ed-bcc4-4f15-b24d-695261cd56a4",
   "metadata": {},
   "outputs": [
    {
     "name": "stdout",
     "output_type": "stream",
     "text": [
      "Olá\n",
      "//////Olá///////\n",
      "Olá\n"
     ]
    }
   ],
   "source": [
    "texto = '******Olá******'\n",
    "texto_strip=texto.strip('*')\n",
    "print(texto_strip)\n",
    "\n",
    "texto = '//////Olá///////'\n",
    "texto_strip=texto.strip('*')\n",
    "print(texto_strip)\n",
    "\n",
    "texto = '     Olá     '\n",
    "texto_strip=texto.strip()\n",
    "print(texto_strip)"
   ]
  },
  {
   "cell_type": "code",
   "execution_count": 6,
   "id": "727337d2-bfe3-4c48-986c-0807e4a2fb0e",
   "metadata": {},
   "outputs": [
    {
     "name": "stdout",
     "output_type": "stream",
     "text": [
      "olá, meu nome é alice, tenho 25 anos e minha altura é 1.65 metros\n"
     ]
    }
   ],
   "source": [
    "nome = \"alice\"\n",
    "idade = 25\n",
    "altura = 1.65\n",
    "\n",
    "mensagem = f'olá, meu nome é {nome}, tenho {idade} anos e minha altura é {altura:.2f} metros'\n",
    "\n",
    "print(mensagem)"
   ]
  },
  {
   "cell_type": "code",
   "execution_count": 7,
   "id": "6e5bff3e-6828-441d-a945-a3ecbf6359ef",
   "metadata": {},
   "outputs": [
    {
     "name": "stdout",
     "output_type": "stream",
     "text": [
      "OLÁ, MUNDO\n",
      "olá, mundo\n",
      "Olá, mundo\n",
      "1\n",
      "Olá, amigo\n"
     ]
    }
   ],
   "source": [
    "texto = \"Olá, mundo\"\n",
    "\n",
    "texto_upper= texto.upper() # Converte a string para MAIUSCULA\n",
    "print(texto_upper)\n",
    "\n",
    "texto_lower = texto.lower() # Converte a string para minuscula\n",
    "print(texto_lower)\n",
    "\n",
    "texto_capitalize = texto.capitalize() # Converte a primeiroa letra da frase para maiusculo\n",
    "print(texto_capitalize)\n",
    "\n",
    "ocorrencias = texto.count('o') # Conta o numero de ocorrencias de um determinado caractere  ou substring na string\n",
    "print(ocorrencias)\n",
    "\n",
    "texto_substituido=texto.replace('mundo', 'amigo') # Substitui todas as ocorrencias de uma string, por outra.\n",
    "print(texto_substituido)"
   ]
  },
  {
   "cell_type": "code",
   "execution_count": 19,
   "id": "0b8edd4f-840a-4d31-bac8-a2950ae817b8",
   "metadata": {},
   "outputs": [
    {
     "name": "stdin",
     "output_type": "stream",
     "text": [
      "informe o seu nome: Maria\n"
     ]
    },
    {
     "name": "stdout",
     "output_type": "stream",
     "text": [
      "seu nome é: Maria\n"
     ]
    },
    {
     "name": "stdin",
     "output_type": "stream",
     "text": [
      "Informe o seu sobrenome: Silva\n"
     ]
    },
    {
     "name": "stdout",
     "output_type": "stream",
     "text": [
      "Seu sobrenome é: Silva\n"
     ]
    },
    {
     "name": "stdin",
     "output_type": "stream",
     "text": [
      "Informe a sua idade: 20\n"
     ]
    },
    {
     "name": "stdout",
     "output_type": "stream",
     "text": [
      "Sua idade é: 20\n",
      "Maria Silva\n",
      "Olá, eu me chamo Maria Silva, e atualmente tenho 20 anos.\n"
     ]
    }
   ],
   "source": [
    "# Exercicio\n",
    "nome = input('informe o seu nome:')\n",
    "print(f'seu nome é: {nome}')\n",
    "\n",
    "sobrenome = input('Informe o seu sobrenome:')\n",
    "print(f'Seu sobrenome é: {sobrenome}')\n",
    "\n",
    "idade = input('Informe a sua idade:')\n",
    "print(f'Sua idade é: {idade}')\n",
    "\n",
    "nome_completo = nome + \" \" + sobrenome\n",
    "\n",
    "print(nome_completo)\n",
    "\n",
    "mensagem = f'Olá, eu me chamo {nome_completo}, e atualmente tenho {idade} anos.'\n",
    "\n",
    "print(mensagem)\n"
   ]
  },
  {
   "cell_type": "code",
   "execution_count": 29,
   "id": "f8940687-8e29-4def-ab4f-c1827b564987",
   "metadata": {},
   "outputs": [
    {
     "name": "stdout",
     "output_type": "stream",
     "text": [
      "58\n",
      "a primeira palavra da frase: é\n",
      "PYTHON É UMA LINGUAGEM DE PROGRAMAÇÃO PODEROSA E VERSATIL.\n",
      "Python é uma linguagem de programação incrivel e versatil.\n"
     ]
    }
   ],
   "source": [
    "# Exercicio\n",
    "frase = 'Python é uma linguagem de programação poderosa e versatil.'\n",
    "\n",
    "tamanho_frase = len(frase)\n",
    "print(tamanho_frase)\n",
    "\n",
    "palavra = frase.split()[1]\n",
    "print(f'a primeira palavra da frase: {palavra}')\n",
    "\n",
    "frase_maiuscula = frase.upper()\n",
    "print(frase_maiuscula)\n",
    "\n",
    "frase_substituida = frase.replace('poderosa', 'incrivel')\n",
    "print(frase_substituida)"
   ]
  },
  {
   "cell_type": "code",
   "execution_count": 32,
   "id": "fe43954c-c188-4e5f-ad81-2ac123ae3277",
   "metadata": {},
   "outputs": [
    {
     "name": "stdout",
     "output_type": "stream",
     "text": [
      "MARIA DE FREITAS CARDOSO\n",
      "maria de freitas cardoso\n",
      "24\n",
      "Maria\n",
      "Cardoso\n"
     ]
    }
   ],
   "source": [
    "nome_completo = \"Maria de Freitas Cardoso\"\n",
    "\n",
    "# 1. Exiba o nome do usuário em letras maiúsculas\n",
    "\n",
    "nome_maiusculo = nome_completo.upper()\n",
    "print(nome_maiusculo)\n",
    "\n",
    "# 2. Exiba o nome do usuário em letras minúsculas\n",
    "\n",
    "nome_minusculo = nome_completo.lower()\n",
    "print(nome_minusculo)\n",
    "\n",
    "# 3. Conte e exiba quantas letras (sem considerar espaços) o nome do usuário tem\n",
    "\n",
    "tamanho_nome=len(nome_completo)\n",
    "print(tamanho_nome)\n",
    "\n",
    "# 4. Exiba o primeiro nome do usuário\n",
    "\n",
    "primeiro_nome=nome_completo.split()[0]\n",
    "print(primeiro_nome)\n",
    "\n",
    "# 5. Exiba o último nome do usuário\n",
    "\n",
    "ultimo_nome = nome_completo.split()[-1]\n",
    "print(ultimo_nome)\n",
    "\n"
   ]
  },
  {
   "cell_type": "code",
   "execution_count": null,
   "id": "9797c6d6-329f-4695-8672-65419effc0e1",
   "metadata": {},
   "outputs": [],
   "source": []
  }
 ],
 "metadata": {
  "kernelspec": {
   "display_name": "anaconda-2024.02-py310",
   "language": "python",
   "name": "conda-env-anaconda-2024.02-py310-py"
  },
  "language_info": {
   "codemirror_mode": {
    "name": "ipython",
    "version": 3
   },
   "file_extension": ".py",
   "mimetype": "text/x-python",
   "name": "python",
   "nbconvert_exporter": "python",
   "pygments_lexer": "ipython3",
   "version": "3.10.14"
  }
 },
 "nbformat": 4,
 "nbformat_minor": 5
}
