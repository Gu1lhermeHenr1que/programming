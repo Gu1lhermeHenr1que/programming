{
 "cells": [
  {
   "cell_type": "code",
   "execution_count": 2,
   "id": "fe843cdf-9213-4da2-a8ce-f15a4366f05b",
   "metadata": {},
   "outputs": [
    {
     "name": "stdout",
     "output_type": "stream",
     "text": [
      "Você foi aprovado!\n"
     ]
    }
   ],
   "source": [
    "nota = 8\n",
    "\n",
    "if nota >= 7:\n",
    "    print('Você foi aprovado!')\n",
    "else:\n",
    "    print('Você está de exame')"
   ]
  },
  {
   "cell_type": "code",
   "execution_count": 8,
   "id": "fa0ba519-809d-482b-a6c5-7a0e8a44f408",
   "metadata": {},
   "outputs": [
    {
     "name": "stdin",
     "output_type": "stream",
     "text": [
      "digite o saldo 100\n"
     ]
    },
    {
     "name": "stdout",
     "output_type": "stream",
     "text": [
      "Compra aprovada\n"
     ]
    }
   ],
   "source": [
    "saldo = float(input(\"digite o saldo\"))\n",
    "\n",
    "if saldo >= 100:\n",
    "    print(\"Compra aprovada\")\n",
    "else:\n",
    "    print(\"Compra reprovada\")"
   ]
  },
  {
   "cell_type": "code",
   "execution_count": 16,
   "id": "ac8ca6c1-2311-4ab6-a710-825d08811266",
   "metadata": {},
   "outputs": [
    {
     "name": "stdin",
     "output_type": "stream",
     "text": [
      "Digite o nome do seu curso: Python\n"
     ]
    },
    {
     "name": "stdout",
     "output_type": "stream",
     "text": [
      "Excelente escolha\n"
     ]
    }
   ],
   "source": [
    "curso = input('Digite o nome do seu curso:')\n",
    "\n",
    "if curso == 'Python':\n",
    "    print('Excelente escolha')\n",
    "else:\n",
    "    print('Boa escolha')"
   ]
  },
  {
   "cell_type": "code",
   "execution_count": 22,
   "id": "8c00f7ea-588c-4717-8c6f-5cb322ffcece",
   "metadata": {},
   "outputs": [
    {
     "name": "stdout",
     "output_type": "stream",
     "text": [
      "n1 é igual a n2\n"
     ]
    }
   ],
   "source": [
    "### elif\n",
    "# para avaliarmos duas ou mais condições\n",
    "\n",
    "n1=5\n",
    "n2=5\n",
    "\n",
    "if n1 > n2:\n",
    "    print('n1 é maior que n2')\n",
    "elif n1 == n2:\n",
    "    print('n1 é igual a n2')\n",
    "elif n1 < n2:\n",
    "    print('n1 é maior que n2')"
   ]
  },
  {
   "cell_type": "code",
   "execution_count": 24,
   "id": "782975ef-9fa6-484c-bca8-7413ff42e58c",
   "metadata": {},
   "outputs": [
    {
     "name": "stdout",
     "output_type": "stream",
     "text": [
      "5 é igual a 5\n"
     ]
    }
   ],
   "source": [
    "### elif\n",
    "# para avaliarmos duas ou mais condições\n",
    "\n",
    "n1=5\n",
    "n2=5\n",
    "\n",
    "if n1 > n2:\n",
    "    print(f' {n1} é maior que {n2}')\n",
    "elif n1 == n2:\n",
    "    print(f'{n1} é igual a {n2}')\n",
    "elif n1 < n2:\n",
    "    print(f'{n1} é maior que {n2}')"
   ]
  },
  {
   "cell_type": "code",
   "execution_count": 26,
   "id": "88f2b7c9-c056-41ba-8425-7517f567ef6c",
   "metadata": {},
   "outputs": [
    {
     "name": "stdin",
     "output_type": "stream",
     "text": [
      "Digite a sua nota final 5\n"
     ]
    },
    {
     "name": "stdout",
     "output_type": "stream",
     "text": [
      "regular\n"
     ]
    }
   ],
   "source": [
    "nota = float(input('Digite a sua nota final'))\n",
    "\n",
    "if nota > 6:\n",
    "    print('bom')\n",
    "elif nota == 5:\n",
    "    print('regular')\n",
    "elif nota < 4:\n",
    "    print ('ruim')\n"
   ]
  },
  {
   "cell_type": "code",
   "execution_count": 27,
   "id": "fd7339b0-8b9f-42be-a543-4b86a8f9cef9",
   "metadata": {},
   "outputs": [
    {
     "name": "stdin",
     "output_type": "stream",
     "text": [
      "Digite a letra secreta: c\n"
     ]
    }
   ],
   "source": [
    "letra = input('Digite a letra secreta:')\n",
    "\n",
    "if letra == 'a':\n",
    "    print('Você acertou')\n",
    "elif letra == 'b':\n",
    "    print('Você errou')"
   ]
  },
  {
   "cell_type": "code",
   "execution_count": 28,
   "id": "84c30c7a-2955-4160-a108-3753eb238dd0",
   "metadata": {},
   "outputs": [
    {
     "name": "stdin",
     "output_type": "stream",
     "text": [
      "Digite a letra secreta: b\n"
     ]
    },
    {
     "name": "stdout",
     "output_type": "stream",
     "text": [
      "Você errou\n"
     ]
    }
   ],
   "source": [
    "letra = input('Digite a letra secreta:')\n",
    "\n",
    "if letra == 'a':\n",
    "    print('Você acertou')\n",
    "else:\n",
    "    print('Você errou')"
   ]
  },
  {
   "cell_type": "code",
   "execution_count": null,
   "id": "0c9590f8-fa3e-44ac-8778-53fc765d16e6",
   "metadata": {},
   "outputs": [],
   "source": []
  }
 ],
 "metadata": {
  "kernelspec": {
   "display_name": "anaconda-2024.02-py310",
   "language": "python",
   "name": "conda-env-anaconda-2024.02-py310-py"
  },
  "language_info": {
   "codemirror_mode": {
    "name": "ipython",
    "version": 3
   },
   "file_extension": ".py",
   "mimetype": "text/x-python",
   "name": "python",
   "nbconvert_exporter": "python",
   "pygments_lexer": "ipython3",
   "version": "3.10.14"
  }
 },
 "nbformat": 4,
 "nbformat_minor": 5
}
