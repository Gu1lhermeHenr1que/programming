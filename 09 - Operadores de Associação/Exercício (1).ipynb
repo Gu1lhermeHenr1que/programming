{
 "cells": [
  {
   "cell_type": "markdown",
   "id": "c1fefb80-7e4e-4a7c-94e1-95a1e80a3ed0",
   "metadata": {},
   "source": [
    "# <font color='OrangeRed'><center>Exercícios - Listas: Operadores de Associação</center></font>"
   ]
  },
  {
   "cell_type": "markdown",
   "id": "5dbb59c4-59fb-4de4-b6f3-798a045ffaa2",
   "metadata": {},
   "source": [
    "### Exercício 01\n",
    "\n",
    "Utilizando o operador **in**, crie uma condicional if/else que retorne se o número 15 está ou não está contido na lista abaixo"
   ]
  },
  {
   "cell_type": "code",
   "execution_count": 2,
   "id": "22af4fb7-c3e2-4ba4-a7d6-539c916bc43c",
   "metadata": {},
   "outputs": [
    {
     "name": "stdout",
     "output_type": "stream",
     "text": [
      "o numero 15 n esta presente\n"
     ]
    }
   ],
   "source": [
    "numeros = [0, 5, 10, 13, 20, 25]\n",
    "\n",
    "if 15 in numeros:\n",
    "    print('O numero 15 esta presente')\n",
    "else:\n",
    "    print('o numero 15 n esta presente')\n"
   ]
  },
  {
   "cell_type": "markdown",
   "id": "ba97b532-9790-489d-bb23-1f4e75b2e7b2",
   "metadata": {},
   "source": [
    "---"
   ]
  },
  {
   "cell_type": "markdown",
   "id": "6e1154c4-e85f-4105-9b63-fd3f6ce9411f",
   "metadata": {},
   "source": [
    "### Exercício 02\n",
    "\n",
    "Utilizando o operador **in**, crie uma condicional if/else que retorne se o nome 'Tony' está ou não está contido na lista abaixo"
   ]
  },
  {
   "cell_type": "code",
   "execution_count": 3,
   "id": "4e9ddcdf-3c70-43fe-85a0-440abfc74e67",
   "metadata": {},
   "outputs": [
    {
     "name": "stdout",
     "output_type": "stream",
     "text": [
      "Tony n esta presente na lista de nome\n"
     ]
    }
   ],
   "source": [
    "nomes = ['Cersei', 'Robb', 'Sansa', 'Drew', 'Bran']\n",
    "\n",
    "if 'Tony' in nomes:\n",
    "    print('Tony esta presente nalista')\n",
    "else:\n",
    "    print('Tony n esta presente na lista de nome')"
   ]
  },
  {
   "cell_type": "markdown",
   "id": "a383a306-a2e3-46fb-bdd8-b1c05b35e60a",
   "metadata": {},
   "source": [
    "---"
   ]
  },
  {
   "cell_type": "markdown",
   "id": "63ba023c-1d31-43d4-8d62-fb6fa563fdb4",
   "metadata": {},
   "source": [
    "### Exercício 03\n",
    "\n",
    "Utilizando o operador **in**, faça um programa que peça ao usuário digitar o nome de uma fruta e em seguida crie uma condicional if/else que retorne se a fruta está ou não está contido na lista abaixo"
   ]
  },
  {
   "cell_type": "code",
   "execution_count": 4,
   "id": "8abcd801-e00c-42ff-a32e-d2aea4eb95fd",
   "metadata": {},
   "outputs": [
    {
     "name": "stdin",
     "output_type": "stream",
     "text": [
      "digite o nome de uma fruta manga\n"
     ]
    },
    {
     "name": "stdout",
     "output_type": "stream",
     "text": [
      "A manga NÃO estapresente na lista de frutas\n"
     ]
    }
   ],
   "source": [
    "frutas = ['Maça', 'Banana', 'Jaca', 'Melão', 'Abacaxi', 'Kiwi', 'Cereja']\n",
    "\n",
    "fruta = input('digite o nome de uma fruta')\n",
    "if fruta in frutas:\n",
    "    print(f'A {fruta} está presente na lista de frutas')\n",
    "else:\n",
    "    print(f'A {fruta} NÃO estapresente na lista de frutas')\n"
   ]
  },
  {
   "cell_type": "markdown",
   "id": "030c8a81-ce64-45f0-bd7f-987c2752d8e9",
   "metadata": {},
   "source": [
    "---"
   ]
  },
  {
   "cell_type": "markdown",
   "id": "49b265a8-7237-46c0-8fc7-dbc8880e55f8",
   "metadata": {},
   "source": [
    "### Exercício 04\n",
    "\n",
    "Utilizando o operador **in**, crie uma condicional if/else que retorne se o caracter 'G' está ou não está contido no nome da linguagem de programação abaixo"
   ]
  },
  {
   "cell_type": "code",
   "execution_count": 5,
   "id": "4de627e3-93d6-4814-aed7-ca03210566ff",
   "metadata": {},
   "outputs": [
    {
     "name": "stdout",
     "output_type": "stream",
     "text": [
      "A letra G nãoestapresente em PHP\n"
     ]
    }
   ],
   "source": [
    "linguagem = 'PHP'\n",
    "\n",
    "if 'G' in linguagem:\n",
    "    print('Aletra G esta presente emPHP')\n",
    "else:\n",
    "    print('A letra G nãoestapresente em PHP')"
   ]
  },
  {
   "cell_type": "markdown",
   "id": "8d386964-f984-469d-adde-cf797c259b01",
   "metadata": {},
   "source": [
    "---"
   ]
  },
  {
   "cell_type": "markdown",
   "id": "fbcd47f0-6e1d-443a-afca-a6204a1cf2f2",
   "metadata": {},
   "source": [
    "### Exercício 05\n",
    "\n",
    "Utilizando o operador **in**, faça um programa que peça ao usuário digitar uma letra e em seguida crie uma condicional if/else que retorne se a letra está ou não está contido na palavra abaixo"
   ]
  },
  {
   "cell_type": "code",
   "execution_count": 6,
   "id": "6aaaf17f-811a-4690-842a-5035139b0a68",
   "metadata": {},
   "outputs": [
    {
     "name": "stdin",
     "output_type": "stream",
     "text": [
      "digite uma letra: python\n"
     ]
    },
    {
     "name": "stdout",
     "output_type": "stream",
     "text": [
      "A letra python NÂO estacontida na palabra python\n"
     ]
    }
   ],
   "source": [
    "palavra = 'Python'\n",
    "letra = input ('digite uma letra:')\n",
    "\n",
    "if letra in palavra:\n",
    "    print(f'A letra {letra} esta contida na palavra python')\n",
    "else:\n",
    "    print(f'A letra {letra} NÂO estacontida na palabra python')\n",
    "\n"
   ]
  },
  {
   "cell_type": "markdown",
   "id": "ce6c9a42-041d-406b-84fd-348b8730606c",
   "metadata": {},
   "source": [
    "---"
   ]
  },
  {
   "cell_type": "markdown",
   "id": "ef11085c-8202-4459-b291-cd260eaf9010",
   "metadata": {},
   "source": [
    "### Exercício 06\n",
    "\n",
    "Utilizando o operador **not in**, crie uma condicional if/else que retorne se o número -10 está ou não está contido na lista abaixo"
   ]
  },
  {
   "cell_type": "code",
   "execution_count": null,
   "id": "31b851b9-19f1-492b-9898-eaac29dc7c6f",
   "metadata": {},
   "outputs": [],
   "source": [
    "numeros = [0, -5, -15, -20, -25, -30]\n",
    "\n",
    "if -10 not in numeros:\n",
    "    print('O numero -10 n]ão esta na lista')\n",
    "else:\n",
    "    print()\n"
   ]
  },
  {
   "cell_type": "markdown",
   "id": "13b60ab4-3532-4d74-859c-9c23243372cf",
   "metadata": {},
   "source": [
    "---"
   ]
  },
  {
   "cell_type": "markdown",
   "id": "5883e76c-1a00-4f27-8f38-d78cb441315f",
   "metadata": {},
   "source": [
    "### Exercício 07\n",
    "\n",
    "Utilizando o operador **not in**, crie uma condicional if/else que retorne se o linguagem 'Kotlin' está ou não está contido na lista abaixo"
   ]
  },
  {
   "cell_type": "code",
   "execution_count": 7,
   "id": "dbc39c39-4e7f-4ecf-9b60-10ff201a55c4",
   "metadata": {},
   "outputs": [
    {
     "name": "stdout",
     "output_type": "stream",
     "text": [
      "A linguagem Kotlin não esta presente na lista\n"
     ]
    }
   ],
   "source": [
    "linguagens = ['Javascript','Python','Java','PHP','TypeScript']\n",
    "\n",
    "if 'Kotlin' not in linguagens:\n",
    "    print('A linguagem Kotlin não esta presente na lista')\n",
    "else:\n",
    "    print('A linguagem Kotlin esta presente na lista')"
   ]
  },
  {
   "cell_type": "markdown",
   "id": "0afa36f5-7576-49e1-9000-0b538c9272fe",
   "metadata": {},
   "source": [
    "---"
   ]
  },
  {
   "cell_type": "markdown",
   "id": "7d021ed9-14f3-4a67-a0e5-50be36011b35",
   "metadata": {},
   "source": [
    "### Exercício 08\n",
    "\n",
    "Utilizando o operador **not in**, crie uma condicional if/else que retorne se a letra 'c' está ou não está contido na palavra abaixo"
   ]
  },
  {
   "cell_type": "code",
   "execution_count": 8,
   "id": "1fba7e44-542f-45a9-998d-0268141028c3",
   "metadata": {},
   "outputs": [
    {
     "name": "stdout",
     "output_type": "stream",
     "text": [
      "A letra C esta presente na palavra\n"
     ]
    }
   ],
   "source": [
    "palavra = 'Escola'\n",
    "\n",
    "if 'c' not in palavra:\n",
    "    print('A letra C nãoesta presente na palabra')\n",
    "else:\n",
    "    print('A letra C esta presente na palavra')\n",
    "\n"
   ]
  },
  {
   "cell_type": "markdown",
   "id": "54a7f8e6-a78b-4709-9a26-04becc8cf6ee",
   "metadata": {},
   "source": [
    "---"
   ]
  },
  {
   "cell_type": "markdown",
   "id": "8fcefc41-7bda-4476-b192-ac85e4fca686",
   "metadata": {},
   "source": [
    "### Exercício 09\n",
    "\n",
    "Utilizando o operador **in**, crie uma condicional if/else que retorne se a palavra 'Brasil' está ou não está contido no texto abaixo"
   ]
  },
  {
   "cell_type": "code",
   "execution_count": 9,
   "id": "e824d66c-4911-4355-9ec5-59d8a387b282",
   "metadata": {
    "tags": []
   },
   "outputs": [
    {
     "name": "stdout",
     "output_type": "stream",
     "text": [
      "A palavra Brasil esta presente\n"
     ]
    }
   ],
   "source": [
    "texto = ''' O Serviço Nacional de Aprendizagem Industrial (SENAI) tem como objetivo estimular \n",
    "a inovação industrial por meio da educação, consultoria, pesquisa aplicada e serviços técnicos \n",
    "e tecnológicos que são decisivos para a competitividade das empresas do Estado e do Brasil. '''\n",
    "\n",
    "if 'Brasil' in texto:\n",
    "    print('A palavra Brasil esta presente')\n",
    "else:\n",
    "    print('A palara Brasilnão esta presente')\n",
    "    \n"
   ]
  },
  {
   "cell_type": "markdown",
   "id": "e4af6b92-e4be-432e-b00e-4a399ced1f14",
   "metadata": {},
   "source": [
    "---"
   ]
  },
  {
   "cell_type": "markdown",
   "id": "11872962-9765-4c38-bd8b-3ee77162e76c",
   "metadata": {},
   "source": [
    "### Exercício 10\n",
    "\n",
    "Faça um programa que peça para o usuário digitar o nome de uma cor e usando **in** retorne se a cor digitada está ou não está contida na lista."
   ]
  },
  {
   "cell_type": "code",
   "execution_count": 10,
   "id": "151fa401-ca94-4db4-a1a1-4a72f8a13a35",
   "metadata": {
    "tags": []
   },
   "outputs": [
    {
     "name": "stdin",
     "output_type": "stream",
     "text": [
      "digite o nome  de umacor amarelo\n"
     ]
    },
    {
     "name": "stdout",
     "output_type": "stream",
     "text": [
      "A cor amarelo esta presente nalista\n"
     ]
    }
   ],
   "source": [
    "cores = ['verde','azul','amarelo','vermelho','branco']\n",
    "cor = input(\"digite o nome  de umacor\")\n",
    "\n",
    "if cor in cores:\n",
    "    print(f'A cor {cor} esta presente nalista')\n",
    "else:\n",
    "    print(f' a cor {cor}não esta presentena ilsta')"
   ]
  },
  {
   "cell_type": "markdown",
   "id": "02d4bc07-fbcf-46f8-8f2b-5b22a3de25bb",
   "metadata": {},
   "source": [
    "---"
   ]
  }
 ],
 "metadata": {
  "kernelspec": {
   "display_name": "anaconda-panel-2023.05-py310",
   "language": "python",
   "name": "conda-env-anaconda-panel-2023.05-py310-py"
  },
  "language_info": {
   "codemirror_mode": {
    "name": "ipython",
    "version": 3
   },
   "file_extension": ".py",
   "mimetype": "text/x-python",
   "name": "python",
   "nbconvert_exporter": "python",
   "pygments_lexer": "ipython3",
   "version": "3.11.5"
  }
 },
 "nbformat": 4,
 "nbformat_minor": 5
}
