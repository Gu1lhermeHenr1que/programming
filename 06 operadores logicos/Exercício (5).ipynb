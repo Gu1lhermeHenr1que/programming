{
 "cells": [
  {
   "cell_type": "markdown",
   "id": "683567dd-3c83-4c12-baa9-fbf1cddba90e",
   "metadata": {},
   "source": [
    "# <font color='OrangeRed'><center>Exercícios - Operadores Lógicos</center></font>"
   ]
  },
  {
   "cell_type": "markdown",
   "id": "7b586856-e799-434f-88de-d04a0ece332a",
   "metadata": {},
   "source": [
    "### Exercício 01\n",
    "\n",
    "Pessoas com idade maior ou igual a 18 **E** menor ou igual a 70 anos são obrigadas a votar.  \n",
    "Escreva um programa que pergunte a idade do usuário e retorne se ele é obrigado a votar ou não."
   ]
  },
  {
   "cell_type": "code",
   "execution_count": 1,
   "id": "8ac758ea-e6b3-4f13-bb2d-a32e033f26f0",
   "metadata": {},
   "outputs": [
    {
     "name": "stdin",
     "output_type": "stream",
     "text": [
      "Informe a sua idade 18\n"
     ]
    },
    {
     "name": "stdout",
     "output_type": "stream",
     "text": [
      "Voce é obrigado a votar.\n"
     ]
    }
   ],
   "source": [
    "idade = int(input('Informe a sua idade'))\n",
    "\n",
    "if idade >= 18 and idade <= 70:\n",
    "    print('Voce é obrigado a votar.')\n",
    "else:\n",
    "    print('voce não tem mais obrigatoriedade a votar')\n"
   ]
  },
  {
   "cell_type": "markdown",
   "id": "d1c26a28-4a22-4cd5-b408-74b9cdbff276",
   "metadata": {},
   "source": [
    "---"
   ]
  },
  {
   "cell_type": "markdown",
   "id": "52e30b41-9dcd-4fd1-b03a-a561bb5ae4e6",
   "metadata": {},
   "source": [
    "### Exercício 02\n",
    "\n",
    "Faça um programa que peça para o usuário digitar uma única letra, e usando if/else, retorne se a letra digitada é uma vogal ou consoante.  \n",
    "Utilize o operador **OU** na sua validação, exemplo:\n",
    "\n",
    "_**Vogais:** A **ou** E **ou** I **ou** O **ou** U_  \n",
    "_**Consoantes:** Qualquer outra letra_"
   ]
  },
  {
   "cell_type": "code",
   "execution_count": 3,
   "id": "7ae3aa4e-33a9-4357-9a5a-42a7605818bf",
   "metadata": {},
   "outputs": [
    {
     "name": "stdin",
     "output_type": "stream",
     "text": [
      "Informe uma letra: e\n"
     ]
    },
    {
     "name": "stdout",
     "output_type": "stream",
     "text": [
      "Voce digitou uma vogal\n"
     ]
    }
   ],
   "source": [
    "letra = str(input('Informe uma letra:'))\n",
    "\n",
    "if letra == 'a' or letra == 'e' or letra =='i' or letra =='o' or letra =='u':\n",
    "    print('Voce digitou uma vogal')\n",
    "else:\n",
    "    print('voce digitou uma consoante')\n",
    "\n"
   ]
  },
  {
   "cell_type": "markdown",
   "id": "8362e6c9-06ff-4c3e-ae3c-abdd703d9073",
   "metadata": {},
   "source": [
    "---"
   ]
  },
  {
   "cell_type": "markdown",
   "id": "4a280435-81a3-4171-9a29-3fac2c9f2b19",
   "metadata": {},
   "source": [
    "### Exercício 03\n",
    "\n",
    "Faça um programa que peça para o usuário digitar 'homem' se ele for Homem e 'mulher' se ela for Mulher, em seguida pergunte a idade dele ou dela, por fim, crie a seguinte condição:\n",
    "\n",
    "- Se o usuário digitar 'homem' **E** tiver idade maior ou igual a 65 anos retorne 'Você pode se aposentar.'\n",
    "- Se o usuário digitar 'mulher' **E** tiver idade maior ou igual a 62 anos retorne 'Você pode se aposentar.'\n",
    "- Caso o contrário retorne 'Você ainda precisa trabalhar.'"
   ]
  },
  {
   "cell_type": "code",
   "execution_count": 9,
   "id": "26b7e444-4e7f-4b2c-9832-b5f1b53b6e94",
   "metadata": {},
   "outputs": [
    {
     "name": "stdin",
     "output_type": "stream",
     "text": [
      "Informe o seu sexo, sendo homem o mulher homem\n",
      "Informe a sua idade 65\n"
     ]
    },
    {
     "name": "stdout",
     "output_type": "stream",
     "text": [
      "voce pode se aponsentar\n"
     ]
    }
   ],
   "source": [
    "sexo = str(input('Informe o seu sexo, sendo homem o mulher'))\n",
    "idade = int(input('Informe a sua idade'))\n",
    "\n",
    "if idade >= 65 and sexo == 'homem':\n",
    "    print('voce pode se aponsentar')\n",
    "elif idade >= 62 and sexo == 'mulher':\n",
    "    print('Voce pode se aposentar')\n",
    "else:\n",
    "    print('Voce ainda precisa trabalhar')\n",
    "\n"
   ]
  },
  {
   "cell_type": "markdown",
   "id": "d0c34efa-e627-4f15-97d5-28917321be00",
   "metadata": {},
   "source": [
    "---"
   ]
  },
  {
   "cell_type": "markdown",
   "id": "071f07c4-c707-4ad7-a1e9-b14b6dee0345",
   "metadata": {},
   "source": [
    "### Exercício 04\n",
    "\n",
    "Para o usuário ter direito a fila de prioridade, ele deve ser idoso, gestante **OU** cadeirante.  \n",
    "Escreva um programa que peça ao usuário que digite algum número das opções abaixo:\n",
    "\n",
    "1. Idoso\n",
    "1. Gestante\n",
    "1. Cadeirante\n",
    "1. Nenhum destes\n",
    "\n",
    "- Caso o usuário digite 1, 2 **ou** 3 imprima 'Você tem direito a fila prioritária.'\n",
    "- Senão retorne 'Você não tem direito a fila prioritária.'"
   ]
  },
  {
   "cell_type": "code",
   "execution_count": 11,
   "id": "d940b87a-7f91-48be-81c9-b77d9d606838",
   "metadata": {},
   "outputs": [
    {
     "name": "stdin",
     "output_type": "stream",
     "text": [
      "Informe se voce é uma das seguintes opçoes: 1 - Idoso, 2 - Gestante, 3 - Cadeirante, ou 4 - Nenhum deles 2\n"
     ]
    },
    {
     "name": "stdout",
     "output_type": "stream",
     "text": [
      "Voce tem acesso a fila prioritaria\n"
     ]
    }
   ],
   "source": [
    "x = int(input('Informe se voce é uma das seguintes opçoes: 1 - Idoso, 2 - Gestante, 3 - Cadeirante, ou 4 - Nenhum deles'))\n",
    "\n",
    "if x == 1 or x == 2 or x == 3:\n",
    "    print('Voce tem acesso a fila prioritaria')\n",
    "else:\n",
    "    print('Voce não tem direito a fila prioritaria')\n",
    "\n"
   ]
  },
  {
   "cell_type": "markdown",
   "id": "13a30d1a-08d4-44a1-9ed8-2bf2e310db37",
   "metadata": {},
   "source": [
    "---"
   ]
  },
  {
   "cell_type": "markdown",
   "id": "a521836a-d291-49ee-b613-08e1aace528f",
   "metadata": {},
   "source": [
    "### Exercício 5\n",
    "\n",
    "Desenvolva um programa que pergunte a idade do usuário e se ele tem carteira de estudante, peça que responda com 'SIM' se ele tiver e 'NÃO' se não tiver, em seguida crie a condição abaixo:\n",
    "\n",
    "* Se a idade do usuário for maior ou igual a 18 anos **E** se ele digitar 'SIM', retorne 'Meia-entrada'\n",
    "* Se a idade do usuário for maior ou igual a 18 anos **E** se ele digitar 'NÃO', retorne 'Inteira'\n",
    "* Para os demais casos retorne 'Venda não permitida'"
   ]
  },
  {
   "cell_type": "code",
   "execution_count": 15,
   "id": "ce64ae63-da6a-4300-a05c-a9d9bfbfb780",
   "metadata": {},
   "outputs": [
    {
     "name": "stdin",
     "output_type": "stream",
     "text": [
      "Informe a sua idade 15\n",
      "Infome com SIM ou NÃO se voce tem carterinha de estudante sim\n"
     ]
    },
    {
     "name": "stdout",
     "output_type": "stream",
     "text": [
      "Venda não permitida\n"
     ]
    }
   ],
   "source": [
    "idade = int(input('Informe a sua idade'))\n",
    "cart = str(input('Infome com SIM ou NÃO se voce tem carterinha de estudante'))\n",
    "\n",
    "if idade >= 18 and cart == 'sim' or cart == 'SIM':\n",
    "    print('Meia-entrada')\n",
    "elif idade >= 18:\n",
    "    print('Inteira')\n",
    "else:\n",
    "    print('Venda não permitida')"
   ]
  },
  {
   "cell_type": "markdown",
   "id": "cb1cb9a2-7f0e-47e3-a64c-ea3d49a05474",
   "metadata": {},
   "source": [
    "---"
   ]
  },
  {
   "cell_type": "markdown",
   "id": "3af568c6-1e90-4fec-8a3d-7397a8f608b0",
   "metadata": {},
   "source": [
    "### Exercício 06\n",
    "\n",
    "Faça um programa que solicite ao usuário que digite o login e senha, em seguida crie a seguinte condição:\n",
    "\n",
    "- Se o login for igual a 'admin' **E** a senha igual a '123456' retorne 'SEJA BEM-VINDO ADMIN!'\n",
    "- Senão retorne 'LOGIN OU SENHA INCORRETOS'"
   ]
  },
  {
   "cell_type": "code",
   "execution_count": 17,
   "id": "72a1b517-94ff-4fef-a0b6-90577ef4c2a0",
   "metadata": {},
   "outputs": [
    {
     "name": "stdin",
     "output_type": "stream",
     "text": [
      "Informe o login: admin\n",
      "Informa a senha: 123456\n"
     ]
    },
    {
     "name": "stdout",
     "output_type": "stream",
     "text": [
      "Senha Bem vindo Admin\n"
     ]
    }
   ],
   "source": [
    "login = str(input('Informe o login:'))\n",
    "senha = str(input('Informa a senha:'))\n",
    "\n",
    "if login == 'admin' and senha == '123456':\n",
    "    print('Senha Bem vindo Admin')\n",
    "else:\n",
    "    print('Login ou senha incorretos')\n",
    "\n"
   ]
  },
  {
   "cell_type": "markdown",
   "id": "8ceaf957-6c24-4e34-b840-cd0f3449fdf9",
   "metadata": {},
   "source": [
    "---"
   ]
  },
  {
   "cell_type": "code",
   "execution_count": null,
   "id": "03ec8b82-e83b-42a3-940f-a1bdd91ba3ed",
   "metadata": {},
   "outputs": [],
   "source": [
    "### Exercício 07\n",
    "\n",
    "Crie um programa que peça um número ao usuário e em seguida verifique se é um número positivo, ou seja, acima de 'zero' **E** se é um número par.\n",
    "\n",
    "* Se o número for acima de zero **E** se for um número par retorne 'É um número positivo e par.'\n",
    "* Senão retorne 'O número não satisfaz as condições de ser positivo e par.'\n",
    "\n",
    "\n",
    "**Dicas:**  \n",
    "_Todo número divisível por 2 é par!_\n",
    "\n",
    "**_Formúla:_**<br>\n",
    "_% (Módulo ou resto de divisão)_  \n",
    "<img style=\"height:120px\" src=https://www.estudamos.com.br/divisao/elementos-da-divisao.jpg>"
   ]
  },
  {
   "cell_type": "code",
   "execution_count": 21,
   "id": "6aff53ae-bdfc-4d3f-a210-049d03279588",
   "metadata": {},
   "outputs": [
    {
     "name": "stdin",
     "output_type": "stream",
     "text": [
      "Informe um numero 0\n"
     ]
    },
    {
     "name": "stdout",
     "output_type": "stream",
     "text": [
      "O número não satisfaz as condições de ser positivo e par.\n"
     ]
    }
   ],
   "source": [
    "num = int(input('Informe um numero'))\n",
    "\n",
    "if num >= 1 and num % 2 == 0:\n",
    "    print('O numero é positivo e par')\n",
    "else:\n",
    "    print('O número não satisfaz as condições de ser positivo e par.')\n",
    "\n"
   ]
  },
  {
   "cell_type": "markdown",
   "id": "48fabd11-1d7e-4718-8df2-a46f07e6fa64",
   "metadata": {},
   "source": [
    "---"
   ]
  },
  {
   "cell_type": "markdown",
   "id": "1c667c6e-077a-439b-9cd6-28c5b89891fb",
   "metadata": {},
   "source": [
    "### Exercício 08\n",
    "\n",
    "Crie um programa que pergunte a nota e o número de faltas de um aluno para determinar se um estudante é aprovado em uma disciplina, sendo:\n",
    "\n",
    "* Se a nota do aluno for maior ou igual a 60 **E** se o número de faltas for menor ou igual a 5 então retorne 'Estudante aprovado'.\n",
    "* Senão retorne 'Estudante reprovado'."
   ]
  },
  {
   "cell_type": "code",
   "execution_count": 25,
   "id": "ccdd189d-3251-4f31-809f-71deca7b28bb",
   "metadata": {},
   "outputs": [
    {
     "name": "stdin",
     "output_type": "stream",
     "text": [
      "Informe a nota do aluno: 70\n",
      "Informe quantas faltas esse aluno tem: 6\n"
     ]
    },
    {
     "name": "stdout",
     "output_type": "stream",
     "text": [
      "Estudante reprovado\n"
     ]
    }
   ],
   "source": [
    "nota = int(input('Informe a nota do aluno:'))\n",
    "faltas = int(input('Informe quantas faltas esse aluno tem:'))\n",
    "\n",
    "if nota >= 60 and faltas <= 5:\n",
    "    print('Estudante aprovado')\n",
    "else:\n",
    "    print('Estudante reprovado')\n",
    "\n"
   ]
  },
  {
   "cell_type": "markdown",
   "id": "ac4b685a-3617-4846-a987-0e2444a9af3d",
   "metadata": {},
   "source": [
    "-------------------------------------"
   ]
  },
  {
   "cell_type": "markdown",
   "id": "8d5f92d2-c084-482c-b2fe-4d7f0cf8d36b",
   "metadata": {},
   "source": [
    "### Exercício 09\n",
    "\n",
    "Crie um programa que pergunte qual o preço de um produto e em seguida retorne em qual categoria o produto se classifica com base no preço, sendo:\n",
    "\n",
    "| Preço | Classificação |\n",
    "|:-----:|:-------------:|\n",
    "| Abaixo de 50.00 | Econômico |\n",
    "| Entre 50.00 e 99.99 | Normal |\n",
    "| Entre 100.00 e 149.99 | Premium |\n",
    "| A partir de 150.00 | Luxo |"
   ]
  },
  {
   "cell_type": "code",
   "execution_count": 28,
   "id": "4b58f667-994f-4370-a360-a661c07c9f55",
   "metadata": {},
   "outputs": [
    {
     "name": "stdin",
     "output_type": "stream",
     "text": [
      "Informe o valor do preço do produto: 10\n"
     ]
    },
    {
     "name": "stdout",
     "output_type": "stream",
     "text": [
      "economico\n"
     ]
    }
   ],
   "source": [
    "preco = int(input('Informe o valor do preço do produto:'))\n",
    "\n",
    "if preco >= 150.00:\n",
    "    print('luxo')\n",
    "elif preco >= 100.00 and preco <= 149.99:\n",
    "    print('premium')\n",
    "elif preco >= 50.00 and preco <= 99.99:\n",
    "    print('normal')\n",
    "elif preco < 50.00:\n",
    "    print('economico')\n",
    "else:\n",
    "    print('Valor incorreto')"
   ]
  },
  {
   "cell_type": "markdown",
   "id": "c4ffa320-b11a-4ff7-a7d8-76aabcfb3611",
   "metadata": {},
   "source": [
    "---"
   ]
  },
  {
   "cell_type": "markdown",
   "id": "6807fd97-31c9-44b8-85cc-d022a6302f22",
   "metadata": {},
   "source": [
    "### Exercício 10\n",
    "\n",
    "Desenvolva um programa que pergunte uma hora cheia ao usuário, ou seja, apenas o números das horas e em seguida imprima uma mensagem correspondente, sendo:\n",
    "\n",
    "| Hora | Mensagem |\n",
    "|:----:|:--------:|\n",
    "| Entre 6 e 11 | Bom dia |\n",
    "| Entre 12 e 17 | Boa tarde |\n",
    "| Entre 18 e 23 | Boa Noite |\n",
    "| Qualquer outro | Hora inválida |"
   ]
  },
  {
   "cell_type": "code",
   "execution_count": 33,
   "id": "4725422a-4b9e-4391-acac-844ba68c4542",
   "metadata": {},
   "outputs": [
    {
     "name": "stdin",
     "output_type": "stream",
     "text": [
      "Informe de maneira inteira, que horas é agora: (exemplo: 11:34 = 11) 14\n"
     ]
    },
    {
     "name": "stdout",
     "output_type": "stream",
     "text": [
      "Boa tarde\n"
     ]
    }
   ],
   "source": [
    "hora = float(input('Informe de maneira inteira, que horas é agora: (exemplo: 11:34 = 11)'))\n",
    "\n",
    "if hora >= 6 and hora <= 11:\n",
    "    print('Bom dia')\n",
    "elif hora >= 12 and hora <= 17:\n",
    "    print('Boa tarde')\n",
    "elif hora >= 18 and hora <= 23:\n",
    "    print('Boa noite')\n",
    "else:\n",
    "    print('Hora invlida')\n",
    "\n"
   ]
  },
  {
   "cell_type": "markdown",
   "id": "910a6916-43a0-43b9-ab8c-f03f8ea0d149",
   "metadata": {},
   "source": [
    "---"
   ]
  }
 ],
 "metadata": {
  "kernelspec": {
   "display_name": "anaconda-panel-2023.05-py310",
   "language": "python",
   "name": "conda-env-anaconda-panel-2023.05-py310-py"
  },
  "language_info": {
   "codemirror_mode": {
    "name": "ipython",
    "version": 3
   },
   "file_extension": ".py",
   "mimetype": "text/x-python",
   "name": "python",
   "nbconvert_exporter": "python",
   "pygments_lexer": "ipython3",
   "version": "3.11.5"
  }
 },
 "nbformat": 4,
 "nbformat_minor": 5
}
